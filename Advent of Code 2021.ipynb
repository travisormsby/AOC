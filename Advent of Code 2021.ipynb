{
 "cells": [
  {
   "cell_type": "markdown",
   "metadata": {},
   "source": [
    "# Advent of Code 2021"
   ]
  },
  {
   "cell_type": "markdown",
   "metadata": {},
   "source": [
    "## Day 7"
   ]
  },
  {
   "cell_type": "code",
   "execution_count": 35,
   "metadata": {},
   "outputs": [],
   "source": [
    "import aoc\n",
    "aoc.read_input(\"cookie.txt\", \"input_2021\", 2021, 7)"
   ]
  },
  {
   "cell_type": "markdown",
   "metadata": {},
   "source": [
    "### puzzle 1"
   ]
  },
  {
   "cell_type": "code",
   "execution_count": 45,
   "metadata": {},
   "outputs": [
    {
     "data": {
      "text/plain": [
       "341558.0"
      ]
     },
     "execution_count": 45,
     "metadata": {},
     "output_type": "execute_result"
    }
   ],
   "source": [
    "import statistics\n",
    "with open(\"input_2021/7.txt\") as f:\n",
    "    positions = [int(val) for val in f.read().strip().split(\",\")]\n",
    "    center = statistics.median(positions)\n",
    "    fuel_cost = sum([abs(position - center) for position in positions])\n",
    "fuel_cost"
   ]
  },
  {
   "cell_type": "markdown",
   "metadata": {},
   "source": [
    "### puzzle 2"
   ]
  },
  {
   "cell_type": "markdown",
   "metadata": {},
   "source": [
    "Interesting that the absolutely correct answer is using the mean for the center. But If that isn't an integer value, you can't just round. In this case, the rounded value was 485. But that gives a slightly worse response than 484. Even though using the mean gave a better response than 484."
   ]
  },
  {
   "cell_type": "code",
   "execution_count": 72,
   "metadata": {},
   "outputs": [
    {
     "data": {
      "text/plain": [
       "93213939.49600005"
      ]
     },
     "execution_count": 72,
     "metadata": {},
     "output_type": "execute_result"
    }
   ],
   "source": [
    "def fuel(n):\n",
    "    return n*(n+1)/2\n",
    "\n",
    "with open(\"input_2021/7.txt\") as f:\n",
    "    positions = [int(val) for val in f.read().strip().split(\",\")]\n",
    "    center = statistics.mean(positions)\n",
    "    fuel_cost = sum([fuel(abs(position - center)) for position in positions])\n",
    "fuel_cost"
   ]
  },
  {
   "cell_type": "code",
   "execution_count": 63,
   "metadata": {},
   "outputs": [
    {
     "data": {
      "text/plain": [
       "93214037.0"
      ]
     },
     "execution_count": 63,
     "metadata": {},
     "output_type": "execute_result"
    }
   ],
   "source": [
    "def fuel(n):\n",
    "    return n*(n+1)/2\n",
    "\n",
    "with open(\"input_2021/7.txt\") as f:\n",
    "    positions = [int(val) for val in f.read().strip().split(\",\")]\n",
    "    min_pos = min(positions)\n",
    "    max_pos = max(positions)\n",
    "    fuel_costs = []\n",
    "    for center in range(min_pos, max_pos+1):\n",
    "        fuel_cost = sum([fuel(abs(position - center)) for position in positions])\n",
    "        fuel_costs.append(fuel_cost)\n",
    "min(fuel_costs)"
   ]
  },
  {
   "cell_type": "markdown",
   "metadata": {},
   "source": [
    "## Day 6"
   ]
  },
  {
   "cell_type": "code",
   "execution_count": 259,
   "metadata": {},
   "outputs": [],
   "source": [
    "import aoc\n",
    "aoc.read_input(\"cookie.txt\", \"input_2021\", 2021, 6)"
   ]
  },
  {
   "cell_type": "markdown",
   "metadata": {},
   "source": [
    "### puzzle 1"
   ]
  },
  {
   "cell_type": "code",
   "execution_count": 287,
   "metadata": {},
   "outputs": [
    {
     "name": "stdout",
     "output_type": "stream",
     "text": [
      "372300\n"
     ]
    }
   ],
   "source": [
    "def fish_tracker(fishList, day):\n",
    "    newFishList = fishList[:]\n",
    "    for i, fish in enumerate(fishList):\n",
    "        if fish - 1 >= 0:\n",
    "            newFishList[i] -= 1\n",
    "        else:\n",
    "            newFishList[i] = 6\n",
    "            newFishList.append(8)\n",
    "    if day == 80:\n",
    "        return len(newFishList)\n",
    "    else:\n",
    "        result = fish_tracker(newFishList, day + 1)\n",
    "    return result\n",
    "        \n",
    "\n",
    "\n",
    "with open(\"input_2021/6.txt\") as f:\n",
    "    day = 1\n",
    "    fishList = [int(fish) for fish in f.read().strip().split(',')]\n",
    "    count = fish_tracker(fishList, day)\n",
    "print(count)\n",
    "    "
   ]
  },
  {
   "cell_type": "markdown",
   "metadata": {},
   "source": [
    "### puzzle 2"
   ]
  },
  {
   "cell_type": "markdown",
   "metadata": {},
   "source": [
    "Just changing the days to 256 doesn't work because of the exponential growth. track individual cohorts instead. After the initial period, move new fish to an existing cohort (for example, on day 7, move the new cohort 8 fish that were born on day 1 to cohort 2)"
   ]
  },
  {
   "cell_type": "code",
   "execution_count": 34,
   "metadata": {},
   "outputs": [
    {
     "name": "stdout",
     "output_type": "stream",
     "text": [
      "{0: 102671495612, 1: 124691296768, 2: 118008761299, 3: 149897172796, 4: 142449524817, 5: 172771620298, 6: 99775312196, 8: 102671495612, 9: 124691296768, 10: 118008761299, 11: 149897172796, 12: 78744785826, 13: 91727192005, 14: 99775312196}\n"
     ]
    },
    {
     "data": {
      "text/plain": [
       "1675781200288"
      ]
     },
     "execution_count": 34,
     "metadata": {},
     "output_type": "execute_result"
    }
   ],
   "source": [
    "with open(\"input_2021/6.txt\") as f:\n",
    "    day = 1\n",
    "    fishList = [int(fish) for fish in f.read().strip().split(',')]\n",
    "    fishDict = {i:fishList.count(i) for i in range(7)}\n",
    "    for day in range(256):\n",
    "        reproducing_cohort = day % 7\n",
    "        try:\n",
    "            fishDict[(reproducing_cohort+2) % 7] += fishDict[reproducing_cohort+8]\n",
    "        except Exception as e:\n",
    "            pass\n",
    "        fishDict[reproducing_cohort+8] = fishDict[reproducing_cohort]\n",
    "        \n",
    "\n",
    "print(fishDict)\n",
    "sum([v for k,v in fishDict.items()])"
   ]
  },
  {
   "cell_type": "markdown",
   "metadata": {},
   "source": [
    "## Day 5"
   ]
  },
  {
   "cell_type": "code",
   "execution_count": 207,
   "metadata": {},
   "outputs": [],
   "source": [
    "import aoc\n",
    "aoc.read_input(\"cookie.txt\", \"input_2021\", 2021, 5)"
   ]
  },
  {
   "cell_type": "markdown",
   "metadata": {},
   "source": [
    "### puzzle 1"
   ]
  },
  {
   "cell_type": "code",
   "execution_count": 235,
   "metadata": {},
   "outputs": [
    {
     "name": "stdout",
     "output_type": "stream",
     "text": [
      "5084\n"
     ]
    }
   ],
   "source": [
    "import numpy as np\n",
    "field = np.zeros([1000, 1000])\n",
    "with open(\"input_2021/5.txt\") as f:\n",
    "    for line in f:\n",
    "        x1, y1, x2, y2 = [int(coord) for coord in line.strip().replace(\" -> \", \",\").split(\",\")]\n",
    "        is_horizontal = y1 == y2\n",
    "        is_vertical = x1 == x2  \n",
    "        if is_horizontal:\n",
    "            xs = range(min(x1, x2), max(x1, x2)+1)\n",
    "            for x in xs:\n",
    "                field[y1, x] += 1\n",
    "        if is_vertical:\n",
    "            ys = range(min(y1, y2), max(y1, y2)+1)\n",
    "            for y in ys:\n",
    "                field[y, x1] += 1\n",
    "overlaps = field > 1\n",
    "print(overlaps.sum())\n",
    "         \n",
    "\n",
    "        "
   ]
  },
  {
   "cell_type": "markdown",
   "metadata": {},
   "source": [
    "### puzzle 2"
   ]
  },
  {
   "cell_type": "code",
   "execution_count": 258,
   "metadata": {},
   "outputs": [
    {
     "name": "stdout",
     "output_type": "stream",
     "text": [
      "17882\n"
     ]
    }
   ],
   "source": [
    "import numpy as np\n",
    "field = np.zeros([1000, 1000])\n",
    "with open(\"input_2021/5.txt\") as f:\n",
    "    for line in f:\n",
    "        x1, y1, x2, y2 = [int(coord) for coord in line.strip().replace(\" -> \", \",\").split(\",\")]\n",
    "        if x1 > x2:\n",
    "            x_direction = -1\n",
    "            x2 -= 1\n",
    "        else:\n",
    "            x_direction = 1\n",
    "            x2 += 1\n",
    "        if y1 > y2:\n",
    "            y_direction = -1\n",
    "            y2 -= 1\n",
    "        else:\n",
    "            y_direction = 1\n",
    "            y2 += 1\n",
    "        x_coords = [x for x in range(x1, x2, x_direction)]\n",
    "        y_coords = [y for y in range(y1, y2, y_direction)]\n",
    "        if len(x_coords) == 1:\n",
    "            x_coords *= len(y_coords)\n",
    "        if len(y_coords) == 1:\n",
    "            y_coords *= len(x_coords)\n",
    "        covered_coords = [coords for coords in zip(x_coords, y_coords)]\n",
    "        for covered_x, covered_y in covered_coords:\n",
    "                field[covered_y, covered_x] += 1\n",
    "overlaps = field > 1\n",
    "print(overlaps.sum())\n",
    "        \n"
   ]
  },
  {
   "cell_type": "markdown",
   "metadata": {},
   "source": [
    "## Day 4"
   ]
  },
  {
   "cell_type": "code",
   "execution_count": 69,
   "metadata": {},
   "outputs": [],
   "source": [
    "import aoc\n",
    "aoc.read_input(\"cookie.txt\", \"input_2021\", 2021, 4)"
   ]
  },
  {
   "cell_type": "markdown",
   "metadata": {},
   "source": [
    "### puzzle 1"
   ]
  },
  {
   "cell_type": "code",
   "execution_count": 197,
   "metadata": {},
   "outputs": [
    {
     "name": "stdout",
     "output_type": "stream",
     "text": [
      "[[35. 30. nan 51. nan]\n",
      " [98. 80. nan 62. 85.]\n",
      " [93. nan nan 65. 12.]\n",
      " [54. 32. nan 79. nan]\n",
      " [ 5. nan nan nan 89.]]\n"
     ]
    },
    {
     "data": {
      "text/plain": [
       "35670.0"
      ]
     },
     "execution_count": 197,
     "metadata": {},
     "output_type": "execute_result"
    }
   ],
   "source": [
    "import numpy as np\n",
    "\n",
    "def check_winner(board):\n",
    "    column_win = np.isnan(board).all(axis=0).any()\n",
    "    row_win = np.isnan(board).all(axis=1).any()\n",
    "    return column_win or row_win\n",
    "\n",
    "\n",
    "with open(\"input_2021/4.txt\") as f:\n",
    "    bingo_numbers = [int(num) for num in next(f).strip().split(\",\")]\n",
    "    boardStrings = f.read().split(\"\\n\\n\")\n",
    "    boardLists = [boardString.strip().split(\"\\n\") for boardString in boardStrings]\n",
    "    boardArrays = []\n",
    "    for boardList in boardLists:\n",
    "        boardNestedList = []\n",
    "        for linestring in boardList:\n",
    "            lineList = [int(num) for num in linestring.split()]\n",
    "            boardNestedList.append(lineList)\n",
    "        boardArray = np.array(boardNestedList, dtype='float')\n",
    "        boardArrays.append(boardArray)\n",
    "\n",
    "for i, number in enumerate(bingo_numbers):\n",
    "    for array in boardArrays:\n",
    "        if number in array:\n",
    "            array[array==number] = np.nan\n",
    "            if check_winner(array):\n",
    "                print(array)\n",
    "                break\n",
    "    if check_winner(array):\n",
    "        break\n",
    "np.nansum(array) * number\n"
   ]
  },
  {
   "cell_type": "markdown",
   "metadata": {},
   "source": [
    "### puzzle 2"
   ]
  },
  {
   "cell_type": "code",
   "execution_count": 205,
   "metadata": {},
   "outputs": [
    {
     "name": "stdout",
     "output_type": "stream",
     "text": [
      "22704.0\n"
     ]
    }
   ],
   "source": [
    "with open(\"input_2021/4.txt\") as f:\n",
    "    bingo_numbers = [int(num) for num in next(f).strip().split(\",\")]\n",
    "    boardStrings = f.read().split(\"\\n\\n\")\n",
    "    boardLists = [boardString.strip().split(\"\\n\") for boardString in boardStrings]\n",
    "    boardArrays = []\n",
    "    for boardList in boardLists:\n",
    "        boardNestedList = []\n",
    "        for linestring in boardList:\n",
    "            lineList = [int(num) for num in linestring.split()]\n",
    "            boardNestedList.append(lineList)\n",
    "        boardArray = np.array(boardNestedList, dtype='float')\n",
    "        boardArrays.append(boardArray)\n",
    "\n",
    "boardDict = {i: array for i, array in enumerate(boardArrays)}\n",
    "\n",
    "# Everytime you find a winner, remove it from the board dictionary.\n",
    "# The first time the board dictionary is empty, that's the last winning board.\n",
    "for number in bingo_numbers:\n",
    "    for i, array in enumerate(boardArrays):\n",
    "        if number in array:\n",
    "            array[array==number] = np.nan\n",
    "            if check_winner(array):\n",
    "                boardDict.pop(i, None)\n",
    "                if len(boardDict) == 0:\n",
    "                    print(np.nansum(array) * number)\n",
    "                    break\n",
    "    if len(boardDict) == 0:\n",
    "        break\n",
    "\n"
   ]
  },
  {
   "cell_type": "markdown",
   "metadata": {},
   "source": [
    "### refactor puzzle 2"
   ]
  },
  {
   "cell_type": "markdown",
   "metadata": {},
   "source": [
    "breaking out of the inner loop isn't natively supported in Python. The original strategy of checking the break condition 2x works, but isn't efficient. Better is to put the loops in a function, and use return instead of break."
   ]
  },
  {
   "cell_type": "code",
   "execution_count": 206,
   "metadata": {},
   "outputs": [
    {
     "data": {
      "text/plain": [
       "22704.0"
      ]
     },
     "execution_count": 206,
     "metadata": {},
     "output_type": "execute_result"
    }
   ],
   "source": [
    "with open(\"input_2021/4.txt\") as f:\n",
    "    bingo_numbers = [int(num) for num in next(f).strip().split(\",\")]\n",
    "    boardStrings = f.read().split(\"\\n\\n\")\n",
    "    boardLists = [boardString.strip().split(\"\\n\") for boardString in boardStrings]\n",
    "    boardArrays = []\n",
    "    for boardList in boardLists:\n",
    "        boardNestedList = []\n",
    "        for linestring in boardList:\n",
    "            lineList = [int(num) for num in linestring.split()]\n",
    "            boardNestedList.append(lineList)\n",
    "        boardArray = np.array(boardNestedList, dtype='float')\n",
    "        boardArrays.append(boardArray)\n",
    "\n",
    "boardDict = {i: array for i, array in enumerate(boardArrays)}\n",
    "\n",
    "# Everytime you find a winner, remove it from the board dictionary.\n",
    "# The first time the board dictionary is empty, that's the last winning board.\n",
    "def win_check():\n",
    "    for number in bingo_numbers:\n",
    "        for i, array in enumerate(boardArrays):\n",
    "            if number in array:\n",
    "                array[array==number] = np.nan\n",
    "                if check_winner(array):\n",
    "                    boardDict.pop(i, None)\n",
    "                    if len(boardDict) == 0:\n",
    "                        return np.nansum(array) * number\n",
    "win_check()"
   ]
  },
  {
   "cell_type": "markdown",
   "metadata": {},
   "source": [
    "## Day 3"
   ]
  },
  {
   "cell_type": "code",
   "execution_count": 10,
   "metadata": {},
   "outputs": [],
   "source": [
    "import aoc\n",
    "aoc.read_input(\"cookie.txt\", \"input_2021\", 2021, 3)"
   ]
  },
  {
   "cell_type": "markdown",
   "metadata": {},
   "source": [
    "### puzzle 1"
   ]
  },
  {
   "cell_type": "code",
   "execution_count": 37,
   "metadata": {},
   "outputs": [
    {
     "data": {
      "text/plain": [
       "3242606"
      ]
     },
     "execution_count": 37,
     "metadata": {},
     "output_type": "execute_result"
    }
   ],
   "source": [
    "from collections import Counter\n",
    "with open(\"input_2021/3.txt\") as f:\n",
    "    places_dict = {}\n",
    "    for line in f:\n",
    "        for i, char in enumerate(line.rstrip()):\n",
    "            if i in places_dict.keys():\n",
    "                places_dict[i].append(char)\n",
    "            else:\n",
    "                places_dict[i] = [char]\n",
    "gamma_bin = \"\"\n",
    "epsilon_bin = \"\"\n",
    "for place, val in places_dict.items():\n",
    "     most_common = Counter(val).most_common()\n",
    "     gamma_bin += most_common[0][0]\n",
    "     epsilon_bin += most_common[-1][0]\n",
    "\n",
    "\n",
    "\n",
    "int(gamma_bin, 2) * int(epsilon_bin, 2)\n",
    "\n"
   ]
  },
  {
   "cell_type": "markdown",
   "metadata": {},
   "source": [
    "### puzzle 2"
   ]
  },
  {
   "cell_type": "code",
   "execution_count": 68,
   "metadata": {},
   "outputs": [
    {
     "data": {
      "text/plain": [
       "4856080"
      ]
     },
     "execution_count": 68,
     "metadata": {},
     "output_type": "execute_result"
    }
   ],
   "source": [
    "from collections import Counter\n",
    "def o_searcher(vals, place=0):\n",
    "    separated = {'0': [], '1':[]}\n",
    "    for line in vals:\n",
    "        separated[line[place]].append(line)\n",
    "    if len(separated['0']) > len(separated['1']):\n",
    "        if len(separated['0']) == 1:\n",
    "            oxygen = separated['0'][0]\n",
    "            return oxygen\n",
    "        oxygen = o_searcher(separated['0'], place+1)\n",
    "    else:\n",
    "        if len(separated['1']) == 1:\n",
    "            oxygen = separated['1'][0]\n",
    "            return oxygen\n",
    "        oxygen = o_searcher(separated['1'], place+1)\n",
    "    return oxygen\n",
    "\n",
    "def c_searcher(vals, place=0):\n",
    "    separated = {'0': [], '1':[]}\n",
    "    for line in vals:\n",
    "        separated[line[place]].append(line)\n",
    "    if len(separated['0']) <= len(separated['1']):\n",
    "        if len(separated['0']) == 1:\n",
    "            co2 = separated['0'][0]\n",
    "            return co2\n",
    "        co2 = c_searcher(separated['0'], place+1)\n",
    "    else:\n",
    "        if len(separated['1']) == 1:\n",
    "            co2 = separated['1'][0]\n",
    "            return co2\n",
    "        co2 = c_searcher(separated['1'], place+1)\n",
    "    return co2\n",
    "\n",
    "with open(\"input_2021/3.txt\") as f:\n",
    "    vals = f.read().strip().split(\"\\n\")\n",
    "    oxygen = o_searcher(vals)\n",
    "    co2 = c_searcher(vals)\n",
    "int(oxygen, 2) * int(co2, 2)"
   ]
  },
  {
   "cell_type": "markdown",
   "metadata": {},
   "source": [
    "## Day 2"
   ]
  },
  {
   "cell_type": "code",
   "execution_count": 3,
   "metadata": {},
   "outputs": [],
   "source": [
    "import aoc\n",
    "aoc.read_input(\"cookie.txt\", \"input_2021\", 2021, 2)"
   ]
  },
  {
   "cell_type": "markdown",
   "metadata": {},
   "source": [
    "### puzzle 1"
   ]
  },
  {
   "cell_type": "code",
   "execution_count": 7,
   "metadata": {},
   "outputs": [
    {
     "data": {
      "text/plain": [
       "1727835"
      ]
     },
     "execution_count": 7,
     "metadata": {},
     "output_type": "execute_result"
    }
   ],
   "source": [
    "with open(\"input_2021/2.txt\") as f:\n",
    "    hpos = 0\n",
    "    depth = 0\n",
    "    for line in f:\n",
    "        command = line.strip().split()\n",
    "        if command[0] == \"forward\":\n",
    "            hpos += int(command[1])\n",
    "        elif command[0] == \"up\":\n",
    "            depth -= int(command[1])\n",
    "        elif command[0] == \"down\":\n",
    "            depth += int(command[1])\n",
    "        else:\n",
    "            print('bad')\n",
    "hpos * depth"
   ]
  },
  {
   "cell_type": "markdown",
   "metadata": {},
   "source": [
    "### puzzle 2"
   ]
  },
  {
   "cell_type": "code",
   "execution_count": 8,
   "metadata": {},
   "outputs": [
    {
     "data": {
      "text/plain": [
       "1544000595"
      ]
     },
     "execution_count": 8,
     "metadata": {},
     "output_type": "execute_result"
    }
   ],
   "source": [
    "with open(\"input_2021/2.txt\") as f:\n",
    "    hpos = 0\n",
    "    depth = 0\n",
    "    aim = 0\n",
    "    for line in f:\n",
    "        command, raw_val = line.strip().split()\n",
    "        val = int(raw_val)\n",
    "        if command == \"forward\":\n",
    "            hpos += val\n",
    "            depth += val * aim\n",
    "        elif command == \"up\":\n",
    "            aim -= val\n",
    "        else: aim += val\n",
    "hpos * depth"
   ]
  },
  {
   "cell_type": "markdown",
   "metadata": {},
   "source": [
    "## Day 1"
   ]
  },
  {
   "cell_type": "markdown",
   "metadata": {},
   "source": [
    "Task:\n",
    "\n",
    "* Compare values in a text file to values above\n",
    "* First line by line, then in overlapping moving windows\n",
    "\n",
    "Reflection:\n",
    "\n",
    "For the moving window, my initial strategy was to assign values fo every measure in the window (m1, m2, m3) then move them up (so the new m2 is the old m3, the new m1 is the old m2). This works, but it seemed like there should be a more elegant solution."
   ]
  },
  {
   "cell_type": "code",
   "execution_count": 1,
   "metadata": {},
   "outputs": [],
   "source": [
    "import aoc\n",
    "aoc.read_input(\"cookie.txt\", \"input_2021\", 2021, 1)"
   ]
  },
  {
   "cell_type": "markdown",
   "metadata": {},
   "source": [
    "### puzzle 1"
   ]
  },
  {
   "cell_type": "code",
   "execution_count": 4,
   "metadata": {},
   "outputs": [
    {
     "data": {
      "text/plain": [
       "1215"
      ]
     },
     "execution_count": 4,
     "metadata": {},
     "output_type": "execute_result"
    }
   ],
   "source": [
    "with open(\"input_2021/1.txt\") as f:\n",
    "    increases = -1\n",
    "    previous_depth = 0\n",
    "    for line in f:\n",
    "        depth = int(line.rstrip())\n",
    "        if depth > previous_depth:\n",
    "            increases += 1\n",
    "        previous_depth = depth\n",
    "increases\n"
   ]
  },
  {
   "cell_type": "markdown",
   "metadata": {},
   "source": [
    "### puzzle 2"
   ]
  },
  {
   "cell_type": "code",
   "execution_count": 1,
   "metadata": {},
   "outputs": [
    {
     "data": {
      "text/plain": [
       "1150"
      ]
     },
     "execution_count": 1,
     "metadata": {},
     "output_type": "execute_result"
    }
   ],
   "source": [
    "with open(\"input_2021/1.txt\") as f:\n",
    "    m1 = int(next(f).rstrip())\n",
    "    m2 = int(next(f).rstrip())\n",
    "    g1_sum = 0\n",
    "    increases = -1\n",
    "    for line in f:\n",
    "        m3 = int(line.rstrip())\n",
    "        g2_sum = m1+m2+m3\n",
    "        if g2_sum > g1_sum:\n",
    "            increases += 1\n",
    "        m1 = m2\n",
    "        m2 = m3\n",
    "        g1_sum = g2_sum\n",
    "\n",
    "increases"
   ]
  },
  {
   "cell_type": "markdown",
   "metadata": {},
   "source": [
    "### puzzle 1 refactor"
   ]
  },
  {
   "cell_type": "markdown",
   "metadata": {},
   "source": [
    "Instead of artificially lowering the value of the `increases` variable to account for the fact that the first value should not be counted as an increase, read the first value using `next` outside the main loop."
   ]
  },
  {
   "cell_type": "code",
   "execution_count": 9,
   "metadata": {},
   "outputs": [
    {
     "data": {
      "text/plain": [
       "1215"
      ]
     },
     "execution_count": 9,
     "metadata": {},
     "output_type": "execute_result"
    }
   ],
   "source": [
    "with open(\"input_2021/1.txt\") as f:\n",
    "    increases = 0\n",
    "    previous_depth = int(next(f).rstrip())\n",
    "    for line in f:\n",
    "        depth = int(line.rstrip())\n",
    "        if depth > previous_depth:\n",
    "            increases += 1\n",
    "        previous_depth = depth\n",
    "increases"
   ]
  },
  {
   "cell_type": "markdown",
   "metadata": {},
   "source": [
    "### puzzle 2 refactor"
   ]
  },
  {
   "cell_type": "code",
   "execution_count": 2,
   "metadata": {},
   "outputs": [
    {
     "data": {
      "text/plain": [
       "1150"
      ]
     },
     "execution_count": 2,
     "metadata": {},
     "output_type": "execute_result"
    }
   ],
   "source": [
    "with open(\"input_2021/1.txt\") as f:\n",
    "    m1 = int(next(f).rstrip())\n",
    "    m2 = int(next(f).rstrip())\n",
    "    m3 = int(next(f).rstrip())\n",
    "    g1_sum = m1+m2+m3\n",
    "    increases = 0\n",
    "    for line in f:\n",
    "        m1 = m2\n",
    "        m2 = m3\n",
    "        m3 = int(line.rstrip())\n",
    "        g2_sum = m1+m2+m3\n",
    "        if g2_sum > g1_sum:\n",
    "            increases += 1\n",
    "        g1_sum = g2_sum\n",
    "increases"
   ]
  }
 ],
 "metadata": {
  "kernelspec": {
   "display_name": "Python 3.10.7 ('AOC': venv)",
   "language": "python",
   "name": "python3"
  },
  "language_info": {
   "codemirror_mode": {
    "name": "ipython",
    "version": 3
   },
   "file_extension": ".py",
   "mimetype": "text/x-python",
   "name": "python",
   "nbconvert_exporter": "python",
   "pygments_lexer": "ipython3",
   "version": "3.10.7"
  },
  "orig_nbformat": 4,
  "vscode": {
   "interpreter": {
    "hash": "3c460c4c147635d4f9968a736480bcf525b4a4e5883b39bfbe3e12c1d0e5b9ea"
   }
  }
 },
 "nbformat": 4,
 "nbformat_minor": 2
}

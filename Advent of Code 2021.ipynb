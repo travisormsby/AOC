{
 "cells": [
  {
   "cell_type": "markdown",
   "metadata": {},
   "source": [
    "# Advent of Code 2021"
   ]
  },
  {
   "cell_type": "markdown",
   "metadata": {},
   "source": [
    "## Day 15"
   ]
  },
  {
   "cell_type": "markdown",
   "metadata": {},
   "source": [
    "Task:\n",
    "\n",
    "* Find the shortest route given an array of travel costs\n",
    "\n",
    "Reflection:\n",
    "\n",
    "This is the first AOC solution I'm really proud of. The clever bit is modeling the grid of travel cost values as a graph where the costs are the node, then creating a line graph from that graph so that the costs are represented by edges. Then a single function can find the weighted length of the shortest path from start to end."
   ]
  },
  {
   "cell_type": "code",
   "execution_count": 87,
   "metadata": {},
   "outputs": [],
   "source": [
    "import aoc\n",
    "import numpy as np\n",
    "import networkx as nx\n",
    "aoc.read_input(\"cookie.txt\", \"input_2021\", 2021, 15)    "
   ]
  },
  {
   "cell_type": "markdown",
   "metadata": {},
   "source": [
    "### puzzle 1"
   ]
  },
  {
   "cell_type": "code",
   "execution_count": 88,
   "metadata": {},
   "outputs": [
    {
     "data": {
      "text/plain": [
       "410"
      ]
     },
     "execution_count": 88,
     "metadata": {},
     "output_type": "execute_result"
    }
   ],
   "source": [
    "with open(\"input_2021/15.txt\") as f:\n",
    "    data = [[int(char) for char in line] for line in f.read().splitlines()]\n",
    "    dataArray = np.array(data)\n",
    "\n",
    "# Input grid represents edges\n",
    "# Create grid graph of equal size, then convert nodes to edges (and edges to nodes)\n",
    "xmax = dataArray.shape[1] - 1\n",
    "ymax = dataArray.shape[0] - 1\n",
    "G = nx.grid_graph(dim=(xmax+1, ymax+1))\n",
    "Gprime = nx.line_graph(G)\n",
    "\n",
    "# calculate edge weights from input array\n",
    "for e in Gprime.edges():\n",
    "    j, i = set(e[0]).intersection(set(e[1])).pop()\n",
    "    Gprime[e[0]][e[1]][\"weight\"] = dataArray[i, j]\n",
    "\n",
    "# add start and stop nodes\n",
    "# start node has 0 weight b/c it is free\n",
    "Gprime.add_edge(\"start\", ((0, 0), (1, 0)), weight=0)\n",
    "Gprime.add_edge(\"start\", ((0, 0), (0, 1)), weight=0)\n",
    "Gprime.add_edge(\"end\", ((xmax-1, ymax), (xmax, ymax)), weight=dataArray[ymax, xmax])\n",
    "Gprime.add_edge(\"end\", ((xmax, ymax-1), (xmax, ymax)), weight=dataArray[ymax, xmax])\n",
    "\n",
    "# calculate length of the shortest path\n",
    "nx.shortest_path_length(Gprime, \"start\", \"end\", \"weight\")"
   ]
  },
  {
   "cell_type": "markdown",
   "metadata": {},
   "source": [
    "### puzzle 2"
   ]
  },
  {
   "cell_type": "code",
   "execution_count": 112,
   "metadata": {},
   "outputs": [
    {
     "data": {
      "text/plain": [
       "2809"
      ]
     },
     "execution_count": 112,
     "metadata": {},
     "output_type": "execute_result"
    }
   ],
   "source": [
    "with open(\"input_2021/15.txt\") as f:\n",
    "    data = [[int(char) for char in line] for line in f.read().splitlines()]\n",
    "    dataArray = np.array(data)\n",
    "\n",
    "# multiply input data\n",
    "bigDataArray = dataArray.copy()\n",
    "for i in range(4):\n",
    "    dataArray = (dataArray.copy() % 9) + 1\n",
    "    bigDataArray = np.concatenate((bigDataArray, dataArray))\n",
    "\n",
    "dataArray = bigDataArray.copy()\n",
    "for i in range(4):\n",
    "    dataArray = (dataArray.copy() % 9) + 1\n",
    "    bigDataArray = np.concatenate((bigDataArray, dataArray), axis=1)\n",
    "\n",
    "# Input grid represents edges\n",
    "# Create grid graph of equal size, then convert nodes to edges (and edges to nodes)\n",
    "xmax = bigDataArray.shape[1] - 1\n",
    "ymax = bigDataArray.shape[0] - 1\n",
    "G = nx.grid_graph(dim=(xmax+1, ymax+1))\n",
    "Gprime = nx.line_graph(G)\n",
    "\n",
    "# calculate edge weights from input array\n",
    "for e in Gprime.edges():\n",
    "    j, i = set(e[0]).intersection(set(e[1])).pop()\n",
    "    Gprime[e[0]][e[1]][\"weight\"] = bigDataArray[i, j]\n",
    "\n",
    "\n",
    "# add start and stop nodes\n",
    "# start node has 0 weight b/c it is free\n",
    "Gprime.add_edge(\"start\", ((0, 0), (1, 0)), weight=0)\n",
    "Gprime.add_edge(\"start\", ((0, 0), (0, 1)), weight=0)\n",
    "Gprime.add_edge(\"end\", ((xmax-1, ymax), (xmax, ymax)), weight=bigDataArray[ymax, xmax])\n",
    "Gprime.add_edge(\"end\", ((xmax, ymax-1), (xmax, ymax)), weight=bigDataArray[ymax, xmax])\n",
    "\n",
    "# calculate length of the shortest path\n",
    "nx.shortest_path_length(Gprime, \"start\", \"end\", \"weight\")"
   ]
  },
  {
   "cell_type": "markdown",
   "metadata": {},
   "source": [
    "## Day 14"
   ]
  },
  {
   "cell_type": "code",
   "execution_count": 894,
   "metadata": {},
   "outputs": [],
   "source": [
    "import aoc\n",
    "aoc.read_input(\"cookie.txt\", \"input_2021\", 2021, 14)"
   ]
  },
  {
   "cell_type": "markdown",
   "metadata": {},
   "source": [
    "### puzzle 1"
   ]
  },
  {
   "cell_type": "code",
   "execution_count": 967,
   "metadata": {},
   "outputs": [
    {
     "data": {
      "text/plain": [
       "2233"
      ]
     },
     "execution_count": 967,
     "metadata": {},
     "output_type": "execute_result"
    }
   ],
   "source": [
    "with open(\"input_2021/14.txt\") as f:\n",
    "    lines = f.read().splitlines()\n",
    "    template = lines.pop(0)\n",
    "    rules = {rule[:2]: rule[-1] + rule[1] for rule in lines[1:]}\n",
    "\n",
    "\n",
    "def polymerize(template, rules, step, current_step=0):\n",
    "    new_template = template[:1]\n",
    "    current_step += 1\n",
    "    for i, char in enumerate(template[:-1]):\n",
    "        try: # sequence is found in rules\n",
    "            new_seq = rules[template[i:i+2]]\n",
    "            new_template += new_seq\n",
    "        except: # sequence not found\n",
    "            continue\n",
    "    if current_step < step:\n",
    "        polymer = polymerize(new_template, rules, step, current_step)\n",
    "    else: polymer = new_template\n",
    "    return polymer\n",
    "\n",
    "polymer = polymerize(template, rules, 10)\n",
    "elements = {}\n",
    "for char in polymer:\n",
    "    try:\n",
    "        elements[char] += 1\n",
    "    except:\n",
    "        elements[char] = 1\n",
    "\n",
    "max(elements.values()) - min(elements.values())"
   ]
  },
  {
   "cell_type": "markdown",
   "metadata": {},
   "source": [
    "## puzzle 2"
   ]
  },
  {
   "cell_type": "markdown",
   "metadata": {},
   "source": [
    "Above approach is fine for 20 steps or so. But the time complexity is not good because the template is nearly doubling in length every time.\n",
    "\n",
    "It isn't necessary to reproduce the polymer, only to count how many of each letter there is. Count how many matching pairs there are, then increase each matching pair each iteration.\n",
    "\n",
    "consider template ababab and rules ab -> c, ac -> d, and cb -> e. In the template polymer, the counts of a, b and ab are all 3, and the counts of ac, cb, c, and d are 0. For each occurance of ab, decrease the count of ab by 1, and increase the count of ac, cb, and c by 1.\n",
    "\n",
    "after step 1, resulting polymer string is acbacbacb. The count of ab is 0 (3 - 3), the counts of ac, cb, and c are 3 (0 + 3), and the counts of a and b are also 3 (3 + 0)\n",
    "\n",
    "after step 2, the resulting polymer string is adcebadcebadceb. The counts of ac and cb are 0 (3 - 3), the counts of ad, dc, ce, and eb are 3 (0 + 3). The counts of d and e increase by 3, the counts of a, b, and c do not not change."
   ]
  },
  {
   "cell_type": "code",
   "execution_count": 1042,
   "metadata": {},
   "outputs": [
    {
     "data": {
      "text/plain": [
       "2884513602164"
      ]
     },
     "execution_count": 1042,
     "metadata": {},
     "output_type": "execute_result"
    }
   ],
   "source": [
    "with open(\"input_2021/14.txt\") as f:\n",
    "    lines = f.read().splitlines()\n",
    "\n",
    "    # model template a dictionary with count of all 1 and 2 letter combinations\n",
    "    templateString = lines.pop(0)\n",
    "    rules = {rule[:2]: rule[-1] for rule in lines[1:]}\n",
    "\n",
    "# model template as two dictionarys with counts of all 1 and 2 letter combinations\n",
    "templateDict1 = {}\n",
    "for char in templateString:\n",
    "    try:\n",
    "        templateDict1[char] += 1\n",
    "    except:\n",
    "        templateDict1[char] = 1\n",
    "templateDict2 = {k: 0 for k in rules}\n",
    "for i, char in enumerate(templateString[:-1]):\n",
    "    seq = templateString[i:i+2]\n",
    "    templateDict2[seq] += 1\n",
    "\n",
    "def polymerize(templateDict1, templateDict2, rules, step, current_step=0):\n",
    "    new_templateDict1 = templateDict1.copy()\n",
    "    new_templateDict2 = templateDict2.copy()\n",
    "    \n",
    "    current_step += 1\n",
    "    for k, v in templateDict2.items():\n",
    "        if templateDict2[k] > 0:\n",
    "            char = rules[k]\n",
    "            try:\n",
    "                new_templateDict1[char] += v\n",
    "            except:\n",
    "                new_templateDict1[char] = v\n",
    "            seq1 = k[0]+char\n",
    "            seq2 = char+k[1]\n",
    "            new_templateDict2[seq1] += v\n",
    "            new_templateDict2[seq2] += v\n",
    "            new_templateDict2[k] -= v\n",
    "        \n",
    "    if current_step < step:\n",
    "        polymer = polymerize(new_templateDict1, new_templateDict2, rules, step, current_step)\n",
    "    else: polymer = new_templateDict1\n",
    "    return polymer\n",
    "\n",
    "polymerCharCount = polymerize(templateDict1, templateDict2, rules, 40)\n",
    "max(polymerCharCount.values()) - min(polymerCharCount.values())"
   ]
  },
  {
   "cell_type": "markdown",
   "metadata": {},
   "source": [
    "## Day 13"
   ]
  },
  {
   "cell_type": "code",
   "execution_count": 890,
   "metadata": {},
   "outputs": [],
   "source": [
    "import aoc\n",
    "aoc.read_input(\"cookie.txt\", \"input_2021\", 2021, 13)\n",
    "\n",
    "# Parse data\n",
    "with open(\"input_2021/13.txt\") as f:\n",
    "    dots, instructions = f.read().strip().split(\"\\n\\n\")\n",
    "    dots = [[int(dot) for dot in dotCoords.split(\",\")] for dotCoords in dots.split(\"\\n\")]\n",
    "    instructions = instructions.split(\"\\n\")\n",
    "    instructionsList = []\n",
    "    for i in instructions:\n",
    "        a, n = i.split('=')\n",
    "        a = a[-1]\n",
    "        n = int(n)\n",
    "        instructionsList.append([a, n])"
   ]
  },
  {
   "cell_type": "markdown",
   "metadata": {},
   "source": [
    "### puzzle 1"
   ]
  },
  {
   "cell_type": "code",
   "execution_count": 892,
   "metadata": {},
   "outputs": [
    {
     "data": {
      "text/plain": [
       "781"
      ]
     },
     "execution_count": 892,
     "metadata": {},
     "output_type": "execute_result"
    }
   ],
   "source": [
    "# assuming every fold is eaxctly in half to predict the size of the initial array\n",
    "# hard coding first fold is on x axis\n",
    "# swap the first subscript values on the instructionsList variable if first fold is on y axis\n",
    "\n",
    "import numpy as np\n",
    "dataArray = np.zeros((instructionsList[1][1]*2 + 1, instructionsList[0][1]*2 + 1))\n",
    "\n",
    "for dot in dots:\n",
    "    dataArray[dot[1], dot[0]] = 1\n",
    "\n",
    "for instruction in instructionsList[:1]:\n",
    "    axis = 0 if instruction[0] == 'y' else 1\n",
    "    trimmed_array = np.delete(dataArray, instruction[1], axis)\n",
    "    arr1, arr2 = np.split(trimmed_array, 2, axis)\n",
    "    arr2 = np.flip(arr2, axis)\n",
    "    dataArray = arr1 + arr2\n",
    "(dataArray > 0).sum()"
   ]
  },
  {
   "cell_type": "markdown",
   "metadata": {},
   "source": [
    "### puzzle 2"
   ]
  },
  {
   "cell_type": "code",
   "execution_count": 893,
   "metadata": {},
   "outputs": [
    {
     "name": "stdout",
     "output_type": "stream",
     "text": [
      "██████    ████████  ██████      ████      ████        ████  ██████    ██████    \n",
      "██    ██  ██        ██    ██  ██    ██  ██    ██        ██  ██    ██  ██    ██  \n",
      "██    ██  ██████    ██    ██  ██        ██              ██  ██    ██  ██████    \n",
      "██████    ██        ██████    ██        ██  ████        ██  ██████    ██    ██  \n",
      "██        ██        ██  ██    ██    ██  ██    ██  ██    ██  ██        ██    ██  \n",
      "██        ████████  ██    ██    ████      ██████    ████    ██        ██████    \n"
     ]
    }
   ],
   "source": [
    "dataArray = np.zeros((instructionsList[1][1]*2 + 1, instructionsList[0][1]*2 + 1))\n",
    "for dot in dots:\n",
    "    dataArray[dot[1], dot[0]] = 1\n",
    "\n",
    "for instruction in instructionsList:\n",
    "    axis = 0 if instruction[0] == 'y' else 1\n",
    "    trimmed_array = np.delete(dataArray, instruction[1], axis)\n",
    "    arr1, arr2 = np.split(trimmed_array, 2, axis)\n",
    "    arr2 = np.flip(arr2, axis)\n",
    "    dataArray = arr1 + arr2\n",
    "\n",
    "# transform into readable output\n",
    "dataArrayInt = (dataArray > 0).astype(int)\n",
    "for row in dataArrayInt:\n",
    "    rowChars = [\"██\" if cell else \"  \" for cell in row]\n",
    "    print(\"\".join(rowChars))"
   ]
  },
  {
   "cell_type": "markdown",
   "metadata": {},
   "source": [
    "## Day 12"
   ]
  },
  {
   "cell_type": "code",
   "execution_count": null,
   "metadata": {},
   "outputs": [],
   "source": [
    "import aoc\n",
    "aoc.read_input(\"cookie.txt\", \"input_2021\", 2021, 12)"
   ]
  },
  {
   "cell_type": "markdown",
   "metadata": {},
   "source": [
    "### puzzle 1"
   ]
  },
  {
   "cell_type": "code",
   "execution_count": null,
   "metadata": {},
   "outputs": [],
   "source": [
    "# this is a graph problem. Use networkx\n",
    "import networkx as nx\n",
    "edges = []\n",
    "with open(\"input_2021/12_test.txt\") as f:\n",
    "    for line in f:\n",
    "        edges.append(line.strip().split(\"-\"))\n",
    "\n",
    "G = nx.Graph()\n",
    "G.add_edges_from(edges)"
   ]
  },
  {
   "cell_type": "code",
   "execution_count": null,
   "metadata": {},
   "outputs": [],
   "source": [
    "visitedList = [[]]\n",
    "\n",
    "def depthFirst(graph, currentVertex, visited):\n",
    "    visited.append(currentVertex)\n",
    "    for vertex in graph.neighbors(currentVertex):\n",
    "        if vertex not in visited or vertex.isupper():\n",
    "            depthFirst(graph, vertex, visited.copy())\n",
    "    visitedList.append(visited)\n",
    "\n",
    "depthFirst(G, \"start\", [])\n",
    "\n",
    "len([path for path in visitedList if len(path) > 0 and path[-1] == 'end'])\n"
   ]
  },
  {
   "cell_type": "markdown",
   "metadata": {},
   "source": [
    "### puzzle 2"
   ]
  },
  {
   "cell_type": "markdown",
   "metadata": {},
   "source": [
    "Originally, a version of this code that I'm pretty sure would have worked ran for over 13 mins without completing. Partly that may have been because I was converting a list into a set on every recurse of the function, and partly I think it was due to copying the networkx graph at every recurse. \n",
    "\n",
    "I converted the networkx graph to a dictionary and move the set operation out of the function. The code completed in less than 1 minute."
   ]
  },
  {
   "cell_type": "code",
   "execution_count": null,
   "metadata": {},
   "outputs": [],
   "source": [
    "# this is a graph problem. Use networkx\n",
    "import networkx as nx\n",
    "edges = []\n",
    "with open(\"input_2021/12.txt\") as f:\n",
    "    for line in f:\n",
    "        edges.append(line.strip().split(\"-\"))\n",
    "\n",
    "G = nx.Graph()\n",
    "G.add_edges_from(edges)\n",
    "graph = {n:{\"neighbors\": [nb for nb in G.neighbors(n)]} for n in G.nodes}"
   ]
  },
  {
   "cell_type": "code",
   "execution_count": null,
   "metadata": {},
   "outputs": [],
   "source": [
    "import copy\n",
    "def depthFirst(G, currentVertex, visited, visitedList):\n",
    "    visited.append(currentVertex)\n",
    "    G[currentVertex][\"remaining\"] -= 1\n",
    "    visitable = [n for n in G[currentVertex][\"neighbors\"] if G[n][\"remaining\"] > 0]\n",
    "    for vertex in  visitable:\n",
    "        if vertex == 'end':\n",
    "            visited.append(vertex)\n",
    "        else:\n",
    "            depthFirst(copy.deepcopy(G), vertex, visited.copy(), visitedList)\n",
    "    visitedList.append(visited)\n",
    "    \n",
    "    return visitedList\n",
    "\n",
    "lowers = [n for n in G.nodes if n.islower() and n not in (\"start\", \"end\")]\n",
    "all_paths = set()\n",
    "\n",
    "for chosen in lowers:\n",
    "    for k, v in graph.items():\n",
    "        if k.isupper():\n",
    "            v[\"remaining\"] = 100000\n",
    "        elif k == chosen:\n",
    "            v[\"remaining\"] = 2\n",
    "        else:\n",
    "            v[\"remaining\"] = 1\n",
    "    visitedList = depthFirst(graph, \"start\", [], [])\n",
    "    visitedSet = set([\",\".join(path) for path in visitedList if path[-1] == 'end'])\n",
    "    #print(chosen, \"done\")\n",
    "    all_paths = all_paths | visitedSet\n",
    "\n",
    "#print(graph)\n",
    "print(len(all_paths))\n",
    "#all_paths"
   ]
  },
  {
   "cell_type": "markdown",
   "metadata": {},
   "source": [
    "## Day 11"
   ]
  },
  {
   "cell_type": "code",
   "execution_count": null,
   "metadata": {},
   "outputs": [],
   "source": [
    "import aoc\n",
    "aoc.read_input(\"cookie.txt\", \"input_2021\", 2021, 11)"
   ]
  },
  {
   "cell_type": "markdown",
   "metadata": {},
   "source": [
    "### puzzle 1"
   ]
  },
  {
   "cell_type": "code",
   "execution_count": null,
   "metadata": {},
   "outputs": [],
   "source": [
    "import numpy as np\n",
    "\n",
    "# read data into array & buffer by 1 cell of nan values\n",
    "# to avoid edge problems when checking neighbors\n",
    "with open(\"input_2021/11_test.txt\") as f:\n",
    "    data = [[float(char) for char in seq] for seq in f.read().strip().split(\"\\n\")]\n",
    "    data = np.pad(data, pad_width=1, mode='constant', constant_values=np.nan)\n",
    "dataArray = np.array(data)\n",
    "print(dataArray)\n",
    "\n",
    "# track flashes\n",
    "flashCount = 0\n",
    "for i in range(100):\n",
    "    dataArray += 1\n",
    "    flashingOctopusCoords = [(y, x) for y, x in zip(*np.where(dataArray > 9))]\n",
    "    \n",
    "    \n",
    "    while flashingOctopusCoords:\n",
    "        for coord in flashingOctopusCoords:\n",
    "            flashCount += 1\n",
    "            \n",
    "            dataArray[coord] = 0\n",
    "            # add 1 to all neighbors\n",
    "            dataArray[(coord[0]-1, coord[1]-1)] += int(dataArray[(coord[0]-1, coord[1]-1)] > 0)\n",
    "            dataArray[(coord[0]-1, coord[1])] += int(dataArray[(coord[0]-1, coord[1])]  > 0)\n",
    "            dataArray[(coord[0]-1, coord[1]+1)] += int(dataArray[(coord[0]-1, coord[1]+1)] > 0)\n",
    "            dataArray[(coord[0], coord[1]+1)] += int(dataArray[(coord[0], coord[1]+1)] > 0)\n",
    "            dataArray[(coord[0]+1, coord[1]+1)] += int(dataArray[(coord[0]+1, coord[1]+1)] > 0)\n",
    "            dataArray[(coord[0]+1, coord[1])] += int(dataArray[(coord[0]+1, coord[1])] > 0)\n",
    "            dataArray[(coord[0]+1, coord[1]-1)] += int(dataArray[(coord[0]+1, coord[1]-1)] > 0)\n",
    "            dataArray[(coord[0], coord[1]-1)] += int(dataArray[(coord[0], coord[1]-1)] > 0)\n",
    "            \n",
    "            \n",
    "\n",
    "        flashingOctopusCoords = [(y, x) for y, x in zip(*np.where(dataArray > 9))]\n",
    "\n",
    "    \n",
    "flashCount\n",
    "\n"
   ]
  },
  {
   "cell_type": "markdown",
   "metadata": {},
   "source": [
    "check each for flash, add to neighbors if flash\n",
    "repeat until no flash (while loop, something like checkFlash = True)"
   ]
  },
  {
   "cell_type": "markdown",
   "metadata": {},
   "source": [
    "### puzzle 2"
   ]
  },
  {
   "cell_type": "code",
   "execution_count": null,
   "metadata": {},
   "outputs": [],
   "source": [
    "import numpy as np\n",
    "\n",
    "# read data into array & buffer by 1 cell of nan values\n",
    "# to avoid edge problems when checking neighbors\n",
    "with open(\"input_2021/11.txt\") as f:\n",
    "    data = [[float(char) for char in seq] for seq in f.read().strip().split(\"\\n\")]\n",
    "    data = np.pad(data, pad_width=1, mode='constant', constant_values=np.nan)\n",
    "dataArray = np.array(data)\n",
    "print(dataArray)\n",
    "\n",
    "# track flashes\n",
    "flashCount = 0\n",
    "not_all_flash = True\n",
    "counter = 0\n",
    "while not_all_flash:\n",
    "    counter += 1\n",
    "    dataArray += 1\n",
    "    flashingOctopusCoords = [(y, x) for y, x in zip(*np.where(dataArray > 9))]\n",
    "    \n",
    "    \n",
    "    while flashingOctopusCoords:\n",
    "        for coord in flashingOctopusCoords:\n",
    "            flashCount += 1\n",
    "            \n",
    "            dataArray[coord] = 0\n",
    "            # add 1 to all neighbors\n",
    "            dataArray[(coord[0]-1, coord[1]-1)] += int(dataArray[(coord[0]-1, coord[1]-1)] > 0)\n",
    "            dataArray[(coord[0]-1, coord[1])] += int(dataArray[(coord[0]-1, coord[1])]  > 0)\n",
    "            dataArray[(coord[0]-1, coord[1]+1)] += int(dataArray[(coord[0]-1, coord[1]+1)] > 0)\n",
    "            dataArray[(coord[0], coord[1]+1)] += int(dataArray[(coord[0], coord[1]+1)] > 0)\n",
    "            dataArray[(coord[0]+1, coord[1]+1)] += int(dataArray[(coord[0]+1, coord[1]+1)] > 0)\n",
    "            dataArray[(coord[0]+1, coord[1])] += int(dataArray[(coord[0]+1, coord[1])] > 0)\n",
    "            dataArray[(coord[0]+1, coord[1]-1)] += int(dataArray[(coord[0]+1, coord[1]-1)] > 0)\n",
    "            dataArray[(coord[0], coord[1]-1)] += int(dataArray[(coord[0], coord[1]-1)] > 0)\n",
    "            \n",
    "            \n",
    "\n",
    "        flashingOctopusCoords = [(y, x) for y, x in zip(*np.where(dataArray > 9))]\n",
    "    \n",
    "    if np.all(dataArray[1:10, 1:10] == 0):\n",
    "        not_all_flash = False\n",
    "        print(counter)"
   ]
  },
  {
   "cell_type": "code",
   "execution_count": null,
   "metadata": {},
   "outputs": [],
   "source": [
    "np.all(dataArray[1:10, 1:10] == 5)"
   ]
  },
  {
   "cell_type": "markdown",
   "metadata": {},
   "source": [
    "## Day 10"
   ]
  },
  {
   "cell_type": "code",
   "execution_count": null,
   "metadata": {},
   "outputs": [],
   "source": [
    "import aoc\n",
    "aoc.read_input(\"cookie.txt\", \"input_2021\", 2021, 10)"
   ]
  },
  {
   "cell_type": "markdown",
   "metadata": {},
   "source": [
    "### puzzle 1"
   ]
  },
  {
   "cell_type": "code",
   "execution_count": null,
   "metadata": {},
   "outputs": [],
   "source": [
    "score = 0\n",
    "with open(\"input_2021/10.txt\") as f:\n",
    "    for line in f:\n",
    "        seq = line.strip()\n",
    "        openChars = [\"(\", \"[\", \"{\", \"<\"]\n",
    "        legalClose = []\n",
    "        for char in seq:\n",
    "            if char in openChars or char == legalClose[-1]:\n",
    "                if char == \"(\":\n",
    "                    legalClose.append(\")\")\n",
    "                elif char == \"[\":\n",
    "                    legalClose.append(\"]\")\n",
    "                elif char == \"{\":\n",
    "                    legalClose.append(\"}\")\n",
    "                elif char == \"<\":\n",
    "                    legalClose.append(\">\")\n",
    "                else:\n",
    "                    legalClose.pop(-1)\n",
    "                continue\n",
    "            else:\n",
    "                if char == \")\":\n",
    "                    score += 3\n",
    "                if char == \"]\":\n",
    "                    score += 57\n",
    "                if char == \"}\":\n",
    "                    score += 1197\n",
    "                if char == \">\":\n",
    "                    score += 25137\n",
    "                break\n",
    "score\n",
    "\n",
    "\n"
   ]
  },
  {
   "cell_type": "markdown",
   "metadata": {},
   "source": [
    "### puzzle 1 refactor"
   ]
  },
  {
   "cell_type": "code",
   "execution_count": null,
   "metadata": {},
   "outputs": [],
   "source": [
    "score = 0\n",
    "with open(\"input_2021/10.txt\") as f:\n",
    "    for line in f:\n",
    "        seq = line.strip()\n",
    "        charDict = {\n",
    "            \"(\": [\")\", 3], \n",
    "            \"[\": [\"]\", 57], \n",
    "            \"{\": [\"}\", 1197], \n",
    "            \"<\": [\">\", 25137]\n",
    "            }\n",
    "        scoreDict = {item[1][0]: item[1][1] for item in charDict.items()}\n",
    "        legalClose = []\n",
    "        for char in seq:\n",
    "            if char in charDict.keys():\n",
    "                legalClose.append(charDict[char][0])\n",
    "                 \n",
    "            elif char == legalClose[-1]:\n",
    "                legalClose.pop(-1)\n",
    "                continue\n",
    "            else:\n",
    "                score += scoreDict[char]\n",
    "                break\n",
    "score"
   ]
  },
  {
   "cell_type": "markdown",
   "metadata": {},
   "source": [
    "### puzzle 2"
   ]
  },
  {
   "cell_type": "code",
   "execution_count": null,
   "metadata": {},
   "outputs": [],
   "source": [
    "scores = []\n",
    "with open(\"input_2021/10.txt\") as f:\n",
    "    for line in f:\n",
    "        seq = line.strip()\n",
    "        charDict = {\n",
    "            \"(\": [\")\", 1], \n",
    "            \"[\": [\"]\", 2], \n",
    "            \"{\": [\"}\", 3], \n",
    "            \"<\": [\">\", 4]\n",
    "            }\n",
    "        scoreDict = {item[1][0]: item[1][1] for item in charDict.items()}\n",
    "        legalClose = []\n",
    "        corrupt = False\n",
    "        for char in seq:\n",
    "            if char in charDict.keys():\n",
    "                legalClose.append(charDict[char][0])\n",
    "                 \n",
    "            elif char == legalClose[-1]:\n",
    "                legalClose.pop(-1)\n",
    "                continue\n",
    "            else:\n",
    "                corrupt = True\n",
    "                break\n",
    "        if not corrupt:\n",
    "            closing = legalClose[::-1]\n",
    "            score = 0\n",
    "            for char in closing:\n",
    "                score *= 5\n",
    "                score += scoreDict[char]\n",
    "            scores.append(score)\n",
    "scores.sort()\n",
    "scores[len(scores)//2]\n"
   ]
  },
  {
   "cell_type": "markdown",
   "metadata": {},
   "source": [
    "## Day 9"
   ]
  },
  {
   "cell_type": "code",
   "execution_count": null,
   "metadata": {},
   "outputs": [],
   "source": [
    "import aoc\n",
    "aoc.read_input(\"cookie.txt\", \"input_2021\", 2021, 9)"
   ]
  },
  {
   "cell_type": "markdown",
   "metadata": {},
   "source": [
    "### puzzle 1"
   ]
  },
  {
   "cell_type": "code",
   "execution_count": null,
   "metadata": {},
   "outputs": [],
   "source": [
    "import numpy as np\n",
    "total_risk = 0\n",
    "with open(\"input_2021/9.txt\") as f:\n",
    "    input = [[int(digit) for digit in num] for num in f.read().strip().split(\"\\n\")]\n",
    "    heightMap = np.array(input)\n",
    "    heightMap = np.pad(heightMap, pad_width=1, mode='constant', constant_values=100)\n",
    "\n",
    "height, width = heightMap.shape\n",
    "for i in range(1, height-1):\n",
    "    for j in range(1, width-1):\n",
    "        val = heightMap[i, j]\n",
    "        neighbors = [heightMap[i+1, j], heightMap[i-1, j], heightMap[i, j+1], heightMap[i, j-1]]\n",
    "        if val < min(neighbors):\n",
    "            risk = val + 1\n",
    "            total_risk += risk\n",
    "total_risk\n"
   ]
  },
  {
   "cell_type": "markdown",
   "metadata": {},
   "source": [
    "### puzzle 2"
   ]
  },
  {
   "cell_type": "code",
   "execution_count": null,
   "metadata": {},
   "outputs": [],
   "source": [
    "import scipy\n",
    "\n",
    "# Read input into numpy array\n",
    "with open(\"input_2021/9.txt\") as f:\n",
    "    input = [[int(digit) for digit in num] for num in f.read().strip().split(\"\\n\")]\n",
    "    heightMap = np.array(input)\n",
    "\n",
    "# The scipy label function will identify regions.\n",
    "# Anything with a non-zero value is part of a region\n",
    "# So change the underlying array so that all 9's are read as zeros\n",
    "height, width = heightMap.shape\n",
    "for i in range(height):\n",
    "    for j in range(width):\n",
    "        if heightMap[i, j] < 9:\n",
    "            heightMap[i, j] = 1\n",
    "        else: \n",
    "            heightMap[i, j] = 0\n",
    "\n",
    "labeled_array, num_features = scipy.ndimage.label(heightMap)\n",
    "labeled_array, num_features\n",
    "\n",
    "# Count the size of each unique region\n",
    "unique, counts = np.unique(labeled_array, return_counts=True)\n",
    "\n",
    "# Remove the count for the 0-region (i.e. the border between regions)\n",
    "basin_sizes = [val[1] for val in zip(unique, counts) if val[0] != 0]\n",
    "\n",
    "# Get the top three and multiply them together\n",
    "a, b, c  = sorted(basin_sizes)[-3:]\n",
    "a * b * c\n"
   ]
  },
  {
   "cell_type": "code",
   "execution_count": null,
   "metadata": {},
   "outputs": [],
   "source": []
  },
  {
   "cell_type": "markdown",
   "metadata": {},
   "source": [
    "## Day 8"
   ]
  },
  {
   "cell_type": "code",
   "execution_count": null,
   "metadata": {},
   "outputs": [],
   "source": [
    "import aoc\n",
    "aoc.read_input(\"cookie.txt\", \"input_2021\", 2021, 8)"
   ]
  },
  {
   "cell_type": "markdown",
   "metadata": {},
   "source": [
    "### puzzle 1"
   ]
  },
  {
   "cell_type": "code",
   "execution_count": null,
   "metadata": {},
   "outputs": [],
   "source": [
    "num_count = 0\n",
    "with open(\"input_2021/8.txt\") as f:\n",
    "    for line in f:\n",
    "        output = line.strip().split(\" | \")[-1].split()\n",
    "        for val in output:\n",
    "            if len(val) in [2, 3, 4, 7]:\n",
    "                num_count += 1\n",
    "num_count"
   ]
  },
  {
   "cell_type": "markdown",
   "metadata": {},
   "source": [
    "### puzzle 2"
   ]
  },
  {
   "cell_type": "code",
   "execution_count": null,
   "metadata": {},
   "outputs": [],
   "source": [
    "total_val = 0\n",
    "with open(\"input_2021/8.txt\") as f:\n",
    "    for line in f:\n",
    "        numDict = {}\n",
    "        inputs, outputs = [vals.split() for vals in line.strip().split(\" | \")]\n",
    "        for num in inputs:\n",
    "            if len(num) == 2:\n",
    "                numDict[1] = num\n",
    "            elif len(num) == 3:\n",
    "                numDict[7] = num\n",
    "            elif len(num) == 4:\n",
    "                numDict[4] = num\n",
    "            elif len(num) == 7:\n",
    "                numDict[8] = num\n",
    "        \n",
    "        inputs = [e for e in inputs if e not in numDict.values()]\n",
    "        fives = [e for e in inputs if len(e) == 5]\n",
    "        sixes = [e for e in inputs if len(e) == 6]\n",
    "\n",
    "        # 6 is the only 6-line number that intersects only one line in 1\n",
    "        for num in sixes:\n",
    "            if len(set.intersection(set(num), set(numDict[1]))) == 1:\n",
    "                numDict[6] = num\n",
    "        sixes.remove(numDict[6])\n",
    "\n",
    "        # 3 is the only 5-line number that intersects both lines in 1\n",
    "        for num in fives:\n",
    "            if len(set.intersection(set(num), set(numDict[1]))) == 2:\n",
    "                numDict[3] = num\n",
    "        fives.remove(numDict[3])\n",
    "\n",
    "        for num in sixes:\n",
    "            if len(set.intersection(set(num), set(numDict[3]))) == 4:\n",
    "                numDict[0] = num\n",
    "            else: \n",
    "                numDict[9] = num\n",
    "\n",
    "        for num in fives:\n",
    "            if len(set.intersection(set(num), set(numDict[4]))) == 2:\n",
    "                numDict[2] = num\n",
    "            else:\n",
    "                numDict[5] = num\n",
    "\n",
    "        codeDict = {v:k for k, v in numDict.items()}\n",
    "\n",
    "        decrypted = ''\n",
    "        for num in outputs:\n",
    "            for k in codeDict.keys():\n",
    "                if set(num) == set(k):\n",
    "                    decrypted += str(codeDict[k])\n",
    "        total_val += int(decrypted)\n",
    "\n",
    "total_val\n",
    "    "
   ]
  },
  {
   "cell_type": "code",
   "execution_count": null,
   "metadata": {},
   "outputs": [],
   "source": [
    "numDict.values()"
   ]
  },
  {
   "cell_type": "code",
   "execution_count": null,
   "metadata": {},
   "outputs": [],
   "source": [
    "testLine = \"acedgfb cdfbe gcdfa fbcad dab cefabd cdfgeb eafb cagedb ab | cdfeb fcadb cdfeb cdbaf\"\n",
    "inputs, outputs = [vals.split() for vals in testLine.strip().split(\" | \")]\n",
    "numDict = {}\n",
    "# get known\n",
    "for num in inputs:\n",
    "    if len(num) == 2:\n",
    "        numDict[1] = num\n",
    "    elif len(num) == 3:\n",
    "        numDict[7] = num\n",
    "    elif len(num) == 4:\n",
    "        numDict[4] = num\n",
    "    elif len(num) == 7:\n",
    "        numDict[8] = num\n",
    "inputs = [e for e in inputs if e not in numDict.values()]\n",
    "fives = [e for e in inputs if len(e) == 5]\n",
    "sixes = [e for e in inputs if len(e) == 6]\n",
    "\n",
    "# 6 is the only 6-line number that intersects only one line in 1\n",
    "for num in sixes:\n",
    "    if len(set.intersection(set(num), set(numDict[1]))) == 1:\n",
    "        numDict[6] = num\n",
    "sixes.remove(numDict[6])\n",
    "\n",
    "# 3 is the only 5-line number that intersects both lines in 1\n",
    "for num in fives:\n",
    "    if len(set.intersection(set(num), set(numDict[1]))) == 2:\n",
    "        numDict[3] = num\n",
    "fives.remove(numDict[3])\n",
    "\n",
    "for num in sixes:\n",
    "    if len(set.intersection(set(num), set(numDict[3]))) == 4:\n",
    "        numDict[0] = num\n",
    "    else: \n",
    "        numDict[9] = num\n",
    "\n",
    "for num in fives:\n",
    "    if len(set.intersection(set(num), set(numDict[4]))) == 2:\n",
    "        numDict[2] = num\n",
    "    else:\n",
    "        numDict[5] = num\n",
    "\n",
    "\n",
    "print(numDict)\n",
    "codeDict = {v:k for k, v in numDict.items()}\n",
    "print(codeDict)\n",
    "decrypted = ''\n",
    "for num in outputs:\n",
    "    for k in codeDict.keys():\n",
    "        if set(num) == set(k):\n",
    "            decrypted += str(codeDict[k])\n",
    "decrypted"
   ]
  },
  {
   "cell_type": "markdown",
   "metadata": {},
   "source": [
    "segment is in 1, but not 7, that's top\n",
    "5 segment numbers: 2, 3, 5\n",
    "6 segment numbers: 6, 9, 0\n",
    "\n",
    "\n",
    "5 & 6 don't have upper right\n",
    "1 & 4 don't have top\n",
    "1, 7, and 0 don't have mid\n",
    "1, 2, 3, and 7 don't have upper left\n",
    "1, 3, 4, 5, 7, 9 don't have lower left\n",
    "1, 4, 7 don't have bottom\n",
    "2 doesn't have lower right\n",
    "segment is in 9, but not 4 + top, that's bottom\n",
    "segment is in 3, but not 1 + top + bottom, that's middle\n",
    "segment is in 8, but not 0, that's the middle\n",
    "segment is in 8, but not 6, that's upper right\n",
    "segment is in 8, but not 9, that's lower left\n"
   ]
  },
  {
   "cell_type": "markdown",
   "metadata": {},
   "source": [
    "## Day 7"
   ]
  },
  {
   "cell_type": "code",
   "execution_count": null,
   "metadata": {},
   "outputs": [],
   "source": [
    "import aoc\n",
    "aoc.read_input(\"cookie.txt\", \"input_2021\", 2021, 7)"
   ]
  },
  {
   "cell_type": "markdown",
   "metadata": {},
   "source": [
    "### puzzle 1"
   ]
  },
  {
   "cell_type": "code",
   "execution_count": null,
   "metadata": {},
   "outputs": [],
   "source": [
    "import statistics\n",
    "with open(\"input_2021/7.txt\") as f:\n",
    "    positions = [int(val) for val in f.read().strip().split(\",\")]\n",
    "    center = statistics.median(positions)\n",
    "    fuel_cost = sum([abs(position - center) for position in positions])\n",
    "fuel_cost"
   ]
  },
  {
   "cell_type": "markdown",
   "metadata": {},
   "source": [
    "### puzzle 2"
   ]
  },
  {
   "cell_type": "markdown",
   "metadata": {},
   "source": [
    "Interesting that the absolutely correct answer is using the mean for the center. But If that isn't an integer value, you can't just round. In this case, the rounded value was 485. But that gives a slightly worse response than 484. Even though using the mean gave a better response than 484."
   ]
  },
  {
   "cell_type": "code",
   "execution_count": null,
   "metadata": {},
   "outputs": [],
   "source": [
    "def fuel(n):\n",
    "    return n*(n+1)/2\n",
    "\n",
    "with open(\"input_2021/7.txt\") as f:\n",
    "    positions = [int(val) for val in f.read().strip().split(\",\")]\n",
    "    center = statistics.mean(positions)\n",
    "    fuel_cost = sum([fuel(abs(position - center)) for position in positions])\n",
    "fuel_cost"
   ]
  },
  {
   "cell_type": "code",
   "execution_count": null,
   "metadata": {},
   "outputs": [],
   "source": [
    "def fuel(n):\n",
    "    return n*(n+1)/2\n",
    "\n",
    "with open(\"input_2021/7.txt\") as f:\n",
    "    positions = [int(val) for val in f.read().strip().split(\",\")]\n",
    "    min_pos = min(positions)\n",
    "    max_pos = max(positions)\n",
    "    fuel_costs = []\n",
    "    for center in range(min_pos, max_pos+1):\n",
    "        fuel_cost = sum([fuel(abs(position - center)) for position in positions])\n",
    "        fuel_costs.append(fuel_cost)\n",
    "min(fuel_costs)"
   ]
  },
  {
   "cell_type": "markdown",
   "metadata": {},
   "source": [
    "## Day 6"
   ]
  },
  {
   "cell_type": "code",
   "execution_count": null,
   "metadata": {},
   "outputs": [],
   "source": [
    "import aoc\n",
    "aoc.read_input(\"cookie.txt\", \"input_2021\", 2021, 6)"
   ]
  },
  {
   "cell_type": "markdown",
   "metadata": {},
   "source": [
    "### puzzle 1"
   ]
  },
  {
   "cell_type": "code",
   "execution_count": null,
   "metadata": {},
   "outputs": [],
   "source": [
    "def fish_tracker(fishList, day):\n",
    "    newFishList = fishList[:]\n",
    "    for i, fish in enumerate(fishList):\n",
    "        if fish - 1 >= 0:\n",
    "            newFishList[i] -= 1\n",
    "        else:\n",
    "            newFishList[i] = 6\n",
    "            newFishList.append(8)\n",
    "    if day == 80:\n",
    "        return len(newFishList)\n",
    "    else:\n",
    "        result = fish_tracker(newFishList, day + 1)\n",
    "    return result\n",
    "        \n",
    "\n",
    "\n",
    "with open(\"input_2021/6.txt\") as f:\n",
    "    day = 1\n",
    "    fishList = [int(fish) for fish in f.read().strip().split(',')]\n",
    "    count = fish_tracker(fishList, day)\n",
    "print(count)\n",
    "    "
   ]
  },
  {
   "cell_type": "markdown",
   "metadata": {},
   "source": [
    "### puzzle 2"
   ]
  },
  {
   "cell_type": "markdown",
   "metadata": {},
   "source": [
    "Just changing the days to 256 doesn't work because of the exponential growth. track individual cohorts instead. After the initial period, move new fish to an existing cohort (for example, on day 7, move the new cohort 8 fish that were born on day 1 to cohort 2)"
   ]
  },
  {
   "cell_type": "code",
   "execution_count": null,
   "metadata": {},
   "outputs": [],
   "source": [
    "with open(\"input_2021/6.txt\") as f:\n",
    "    day = 1\n",
    "    fishList = [int(fish) for fish in f.read().strip().split(',')]\n",
    "    fishDict = {i:fishList.count(i) for i in range(7)}\n",
    "    for day in range(256):\n",
    "        reproducing_cohort = day % 7\n",
    "        try:\n",
    "            fishDict[(reproducing_cohort+2) % 7] += fishDict[reproducing_cohort+8]\n",
    "        except Exception as e:\n",
    "            pass\n",
    "        fishDict[reproducing_cohort+8] = fishDict[reproducing_cohort]\n",
    "        \n",
    "\n",
    "print(fishDict)\n",
    "sum([v for k,v in fishDict.items()])"
   ]
  },
  {
   "cell_type": "markdown",
   "metadata": {},
   "source": [
    "## Day 5"
   ]
  },
  {
   "cell_type": "code",
   "execution_count": null,
   "metadata": {},
   "outputs": [],
   "source": [
    "import aoc\n",
    "aoc.read_input(\"cookie.txt\", \"input_2021\", 2021, 5)"
   ]
  },
  {
   "cell_type": "markdown",
   "metadata": {},
   "source": [
    "### puzzle 1"
   ]
  },
  {
   "cell_type": "code",
   "execution_count": null,
   "metadata": {},
   "outputs": [],
   "source": [
    "import numpy as np\n",
    "field = np.zeros([1000, 1000])\n",
    "with open(\"input_2021/5.txt\") as f:\n",
    "    for line in f:\n",
    "        x1, y1, x2, y2 = [int(coord) for coord in line.strip().replace(\" -> \", \",\").split(\",\")]\n",
    "        is_horizontal = y1 == y2\n",
    "        is_vertical = x1 == x2  \n",
    "        if is_horizontal:\n",
    "            xs = range(min(x1, x2), max(x1, x2)+1)\n",
    "            for x in xs:\n",
    "                field[y1, x] += 1\n",
    "        if is_vertical:\n",
    "            ys = range(min(y1, y2), max(y1, y2)+1)\n",
    "            for y in ys:\n",
    "                field[y, x1] += 1\n",
    "overlaps = field > 1\n",
    "print(overlaps.sum())\n",
    "         \n",
    "\n",
    "        "
   ]
  },
  {
   "cell_type": "markdown",
   "metadata": {},
   "source": [
    "### puzzle 2"
   ]
  },
  {
   "cell_type": "code",
   "execution_count": null,
   "metadata": {},
   "outputs": [],
   "source": [
    "import numpy as np\n",
    "field = np.zeros([1000, 1000])\n",
    "with open(\"input_2021/5.txt\") as f:\n",
    "    for line in f:\n",
    "        x1, y1, x2, y2 = [int(coord) for coord in line.strip().replace(\" -> \", \",\").split(\",\")]\n",
    "        if x1 > x2:\n",
    "            x_direction = -1\n",
    "            x2 -= 1\n",
    "        else:\n",
    "            x_direction = 1\n",
    "            x2 += 1\n",
    "        if y1 > y2:\n",
    "            y_direction = -1\n",
    "            y2 -= 1\n",
    "        else:\n",
    "            y_direction = 1\n",
    "            y2 += 1\n",
    "        x_coords = [x for x in range(x1, x2, x_direction)]\n",
    "        y_coords = [y for y in range(y1, y2, y_direction)]\n",
    "        if len(x_coords) == 1:\n",
    "            x_coords *= len(y_coords)\n",
    "        if len(y_coords) == 1:\n",
    "            y_coords *= len(x_coords)\n",
    "        covered_coords = [coords for coords in zip(x_coords, y_coords)]\n",
    "        for covered_x, covered_y in covered_coords:\n",
    "                field[covered_y, covered_x] += 1\n",
    "overlaps = field > 1\n",
    "print(overlaps.sum())\n",
    "        \n"
   ]
  },
  {
   "cell_type": "markdown",
   "metadata": {},
   "source": [
    "## Day 4"
   ]
  },
  {
   "cell_type": "code",
   "execution_count": null,
   "metadata": {},
   "outputs": [],
   "source": [
    "import aoc\n",
    "aoc.read_input(\"cookie.txt\", \"input_2021\", 2021, 4)"
   ]
  },
  {
   "cell_type": "markdown",
   "metadata": {},
   "source": [
    "### puzzle 1"
   ]
  },
  {
   "cell_type": "code",
   "execution_count": null,
   "metadata": {},
   "outputs": [],
   "source": [
    "import numpy as np\n",
    "\n",
    "def check_winner(board):\n",
    "    column_win = np.isnan(board).all(axis=0).any()\n",
    "    row_win = np.isnan(board).all(axis=1).any()\n",
    "    return column_win or row_win\n",
    "\n",
    "\n",
    "with open(\"input_2021/4.txt\") as f:\n",
    "    bingo_numbers = [int(num) for num in next(f).strip().split(\",\")]\n",
    "    boardStrings = f.read().split(\"\\n\\n\")\n",
    "    boardLists = [boardString.strip().split(\"\\n\") for boardString in boardStrings]\n",
    "    boardArrays = []\n",
    "    for boardList in boardLists:\n",
    "        boardNestedList = []\n",
    "        for linestring in boardList:\n",
    "            lineList = [int(num) for num in linestring.split()]\n",
    "            boardNestedList.append(lineList)\n",
    "        boardArray = np.array(boardNestedList, dtype='float')\n",
    "        boardArrays.append(boardArray)\n",
    "\n",
    "for i, number in enumerate(bingo_numbers):\n",
    "    for array in boardArrays:\n",
    "        if number in array:\n",
    "            array[array==number] = np.nan\n",
    "            if check_winner(array):\n",
    "                print(array)\n",
    "                break\n",
    "    if check_winner(array):\n",
    "        break\n",
    "np.nansum(array) * number\n"
   ]
  },
  {
   "cell_type": "markdown",
   "metadata": {},
   "source": [
    "### puzzle 2"
   ]
  },
  {
   "cell_type": "code",
   "execution_count": null,
   "metadata": {},
   "outputs": [],
   "source": [
    "with open(\"input_2021/4.txt\") as f:\n",
    "    bingo_numbers = [int(num) for num in next(f).strip().split(\",\")]\n",
    "    boardStrings = f.read().split(\"\\n\\n\")\n",
    "    boardLists = [boardString.strip().split(\"\\n\") for boardString in boardStrings]\n",
    "    boardArrays = []\n",
    "    for boardList in boardLists:\n",
    "        boardNestedList = []\n",
    "        for linestring in boardList:\n",
    "            lineList = [int(num) for num in linestring.split()]\n",
    "            boardNestedList.append(lineList)\n",
    "        boardArray = np.array(boardNestedList, dtype='float')\n",
    "        boardArrays.append(boardArray)\n",
    "\n",
    "boardDict = {i: array for i, array in enumerate(boardArrays)}\n",
    "\n",
    "# Everytime you find a winner, remove it from the board dictionary.\n",
    "# The first time the board dictionary is empty, that's the last winning board.\n",
    "for number in bingo_numbers:\n",
    "    for i, array in enumerate(boardArrays):\n",
    "        if number in array:\n",
    "            array[array==number] = np.nan\n",
    "            if check_winner(array):\n",
    "                boardDict.pop(i, None)\n",
    "                if len(boardDict) == 0:\n",
    "                    print(np.nansum(array) * number)\n",
    "                    break\n",
    "    if len(boardDict) == 0:\n",
    "        break\n",
    "\n"
   ]
  },
  {
   "cell_type": "markdown",
   "metadata": {},
   "source": [
    "### refactor puzzle 2"
   ]
  },
  {
   "cell_type": "markdown",
   "metadata": {},
   "source": [
    "breaking out of the inner loop isn't natively supported in Python. The original strategy of checking the break condition 2x works, but isn't efficient. Better is to put the loops in a function, and use return instead of break."
   ]
  },
  {
   "cell_type": "code",
   "execution_count": null,
   "metadata": {},
   "outputs": [],
   "source": [
    "with open(\"input_2021/4.txt\") as f:\n",
    "    bingo_numbers = [int(num) for num in next(f).strip().split(\",\")]\n",
    "    boardStrings = f.read().split(\"\\n\\n\")\n",
    "    boardLists = [boardString.strip().split(\"\\n\") for boardString in boardStrings]\n",
    "    boardArrays = []\n",
    "    for boardList in boardLists:\n",
    "        boardNestedList = []\n",
    "        for linestring in boardList:\n",
    "            lineList = [int(num) for num in linestring.split()]\n",
    "            boardNestedList.append(lineList)\n",
    "        boardArray = np.array(boardNestedList, dtype='float')\n",
    "        boardArrays.append(boardArray)\n",
    "\n",
    "boardDict = {i: array for i, array in enumerate(boardArrays)}\n",
    "\n",
    "# Everytime you find a winner, remove it from the board dictionary.\n",
    "# The first time the board dictionary is empty, that's the last winning board.\n",
    "def win_check():\n",
    "    for number in bingo_numbers:\n",
    "        for i, array in enumerate(boardArrays):\n",
    "            if number in array:\n",
    "                array[array==number] = np.nan\n",
    "                if check_winner(array):\n",
    "                    boardDict.pop(i, None)\n",
    "                    if len(boardDict) == 0:\n",
    "                        return np.nansum(array) * number\n",
    "win_check()"
   ]
  },
  {
   "cell_type": "markdown",
   "metadata": {},
   "source": [
    "## Day 3"
   ]
  },
  {
   "cell_type": "code",
   "execution_count": null,
   "metadata": {},
   "outputs": [],
   "source": [
    "import aoc\n",
    "aoc.read_input(\"cookie.txt\", \"input_2021\", 2021, 3)"
   ]
  },
  {
   "cell_type": "markdown",
   "metadata": {},
   "source": [
    "### puzzle 1"
   ]
  },
  {
   "cell_type": "code",
   "execution_count": null,
   "metadata": {},
   "outputs": [],
   "source": [
    "from collections import Counter\n",
    "with open(\"input_2021/3.txt\") as f:\n",
    "    places_dict = {}\n",
    "    for line in f:\n",
    "        for i, char in enumerate(line.rstrip()):\n",
    "            if i in places_dict.keys():\n",
    "                places_dict[i].append(char)\n",
    "            else:\n",
    "                places_dict[i] = [char]\n",
    "gamma_bin = \"\"\n",
    "epsilon_bin = \"\"\n",
    "for place, val in places_dict.items():\n",
    "     most_common = Counter(val).most_common()\n",
    "     gamma_bin += most_common[0][0]\n",
    "     epsilon_bin += most_common[-1][0]\n",
    "\n",
    "\n",
    "\n",
    "int(gamma_bin, 2) * int(epsilon_bin, 2)\n",
    "\n"
   ]
  },
  {
   "cell_type": "markdown",
   "metadata": {},
   "source": [
    "### puzzle 2"
   ]
  },
  {
   "cell_type": "code",
   "execution_count": null,
   "metadata": {},
   "outputs": [],
   "source": [
    "from collections import Counter\n",
    "def o_searcher(vals, place=0):\n",
    "    separated = {'0': [], '1':[]}\n",
    "    for line in vals:\n",
    "        separated[line[place]].append(line)\n",
    "    if len(separated['0']) > len(separated['1']):\n",
    "        if len(separated['0']) == 1:\n",
    "            oxygen = separated['0'][0]\n",
    "            return oxygen\n",
    "        oxygen = o_searcher(separated['0'], place+1)\n",
    "    else:\n",
    "        if len(separated['1']) == 1:\n",
    "            oxygen = separated['1'][0]\n",
    "            return oxygen\n",
    "        oxygen = o_searcher(separated['1'], place+1)\n",
    "    return oxygen\n",
    "\n",
    "def c_searcher(vals, place=0):\n",
    "    separated = {'0': [], '1':[]}\n",
    "    for line in vals:\n",
    "        separated[line[place]].append(line)\n",
    "    if len(separated['0']) <= len(separated['1']):\n",
    "        if len(separated['0']) == 1:\n",
    "            co2 = separated['0'][0]\n",
    "            return co2\n",
    "        co2 = c_searcher(separated['0'], place+1)\n",
    "    else:\n",
    "        if len(separated['1']) == 1:\n",
    "            co2 = separated['1'][0]\n",
    "            return co2\n",
    "        co2 = c_searcher(separated['1'], place+1)\n",
    "    return co2\n",
    "\n",
    "with open(\"input_2021/3.txt\") as f:\n",
    "    vals = f.read().strip().split(\"\\n\")\n",
    "    oxygen = o_searcher(vals)\n",
    "    co2 = c_searcher(vals)\n",
    "int(oxygen, 2) * int(co2, 2)"
   ]
  },
  {
   "cell_type": "markdown",
   "metadata": {},
   "source": [
    "## Day 2"
   ]
  },
  {
   "cell_type": "code",
   "execution_count": null,
   "metadata": {},
   "outputs": [],
   "source": [
    "import aoc\n",
    "aoc.read_input(\"cookie.txt\", \"input_2021\", 2021, 2)"
   ]
  },
  {
   "cell_type": "markdown",
   "metadata": {},
   "source": [
    "### puzzle 1"
   ]
  },
  {
   "cell_type": "code",
   "execution_count": null,
   "metadata": {},
   "outputs": [],
   "source": [
    "with open(\"input_2021/2.txt\") as f:\n",
    "    hpos = 0\n",
    "    depth = 0\n",
    "    for line in f:\n",
    "        command = line.strip().split()\n",
    "        if command[0] == \"forward\":\n",
    "            hpos += int(command[1])\n",
    "        elif command[0] == \"up\":\n",
    "            depth -= int(command[1])\n",
    "        elif command[0] == \"down\":\n",
    "            depth += int(command[1])\n",
    "        else:\n",
    "            print('bad')\n",
    "hpos * depth"
   ]
  },
  {
   "cell_type": "markdown",
   "metadata": {},
   "source": [
    "### puzzle 2"
   ]
  },
  {
   "cell_type": "code",
   "execution_count": null,
   "metadata": {},
   "outputs": [],
   "source": [
    "with open(\"input_2021/2.txt\") as f:\n",
    "    hpos = 0\n",
    "    depth = 0\n",
    "    aim = 0\n",
    "    for line in f:\n",
    "        command, raw_val = line.strip().split()\n",
    "        val = int(raw_val)\n",
    "        if command == \"forward\":\n",
    "            hpos += val\n",
    "            depth += val * aim\n",
    "        elif command == \"up\":\n",
    "            aim -= val\n",
    "        else: aim += val\n",
    "hpos * depth"
   ]
  },
  {
   "cell_type": "markdown",
   "metadata": {},
   "source": [
    "## Day 1"
   ]
  },
  {
   "cell_type": "markdown",
   "metadata": {},
   "source": [
    "Task:\n",
    "\n",
    "* Compare values in a text file to values above\n",
    "* First line by line, then in overlapping moving windows\n",
    "\n",
    "Reflection:\n",
    "\n",
    "For the moving window, my initial strategy was to assign values fo every measure in the window (m1, m2, m3) then move them up (so the new m2 is the old m3, the new m1 is the old m2). This works, but it seemed like there should be a more elegant solution."
   ]
  },
  {
   "cell_type": "code",
   "execution_count": null,
   "metadata": {},
   "outputs": [],
   "source": [
    "import aoc\n",
    "aoc.read_input(\"cookie.txt\", \"input_2021\", 2021, 1)"
   ]
  },
  {
   "cell_type": "markdown",
   "metadata": {},
   "source": [
    "### puzzle 1"
   ]
  },
  {
   "cell_type": "code",
   "execution_count": null,
   "metadata": {},
   "outputs": [],
   "source": [
    "with open(\"input_2021/1.txt\") as f:\n",
    "    increases = -1\n",
    "    previous_depth = 0\n",
    "    for line in f:\n",
    "        depth = int(line.rstrip())\n",
    "        if depth > previous_depth:\n",
    "            increases += 1\n",
    "        previous_depth = depth\n",
    "increases\n"
   ]
  },
  {
   "cell_type": "markdown",
   "metadata": {},
   "source": [
    "### puzzle 2"
   ]
  },
  {
   "cell_type": "code",
   "execution_count": null,
   "metadata": {},
   "outputs": [],
   "source": [
    "with open(\"input_2021/1.txt\") as f:\n",
    "    m1 = int(next(f).rstrip())\n",
    "    m2 = int(next(f).rstrip())\n",
    "    g1_sum = 0\n",
    "    increases = -1\n",
    "    for line in f:\n",
    "        m3 = int(line.rstrip())\n",
    "        g2_sum = m1+m2+m3\n",
    "        if g2_sum > g1_sum:\n",
    "            increases += 1\n",
    "        m1 = m2\n",
    "        m2 = m3\n",
    "        g1_sum = g2_sum\n",
    "\n",
    "increases"
   ]
  },
  {
   "cell_type": "markdown",
   "metadata": {},
   "source": [
    "### puzzle 1 refactor"
   ]
  },
  {
   "cell_type": "markdown",
   "metadata": {},
   "source": [
    "Instead of artificially lowering the value of the `increases` variable to account for the fact that the first value should not be counted as an increase, read the first value using `next` outside the main loop."
   ]
  },
  {
   "cell_type": "code",
   "execution_count": null,
   "metadata": {},
   "outputs": [],
   "source": [
    "with open(\"input_2021/1.txt\") as f:\n",
    "    increases = 0\n",
    "    previous_depth = int(next(f).rstrip())\n",
    "    for line in f:\n",
    "        depth = int(line.rstrip())\n",
    "        if depth > previous_depth:\n",
    "            increases += 1\n",
    "        previous_depth = depth\n",
    "increases"
   ]
  },
  {
   "cell_type": "markdown",
   "metadata": {},
   "source": [
    "### puzzle 2 refactor"
   ]
  },
  {
   "cell_type": "code",
   "execution_count": null,
   "metadata": {},
   "outputs": [],
   "source": [
    "with open(\"input_2021/1.txt\") as f:\n",
    "    m1 = int(next(f).rstrip())\n",
    "    m2 = int(next(f).rstrip())\n",
    "    m3 = int(next(f).rstrip())\n",
    "    g1_sum = m1+m2+m3\n",
    "    increases = 0\n",
    "    for line in f:\n",
    "        m1 = m2\n",
    "        m2 = m3\n",
    "        m3 = int(line.rstrip())\n",
    "        g2_sum = m1+m2+m3\n",
    "        if g2_sum > g1_sum:\n",
    "            increases += 1\n",
    "        g1_sum = g2_sum\n",
    "increases"
   ]
  }
 ],
 "metadata": {
  "kernelspec": {
   "display_name": "Python 3.10.7 ('AOC': venv)",
   "language": "python",
   "name": "python3"
  },
  "language_info": {
   "codemirror_mode": {
    "name": "ipython",
    "version": 3
   },
   "file_extension": ".py",
   "mimetype": "text/x-python",
   "name": "python",
   "nbconvert_exporter": "python",
   "pygments_lexer": "ipython3",
   "version": "3.10.7"
  },
  "orig_nbformat": 4,
  "vscode": {
   "interpreter": {
    "hash": "3c460c4c147635d4f9968a736480bcf525b4a4e5883b39bfbe3e12c1d0e5b9ea"
   }
  }
 },
 "nbformat": 4,
 "nbformat_minor": 2
}

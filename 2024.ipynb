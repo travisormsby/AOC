{
 "cells": [
  {
   "cell_type": "markdown",
   "metadata": {},
   "source": [
    "# Advent of Code 2024"
   ]
  },
  {
   "cell_type": "markdown",
   "metadata": {},
   "source": [
    "## Day 1"
   ]
  },
  {
   "cell_type": "code",
   "execution_count": 3,
   "metadata": {},
   "outputs": [],
   "source": [
    "import aoc\n",
    "aoc.read_input(\"cookie.txt\", \"input_2024\", 2024, 1)"
   ]
  },
  {
   "cell_type": "markdown",
   "metadata": {},
   "source": [
    "### Puzzle 1"
   ]
  },
  {
   "cell_type": "code",
   "execution_count": 33,
   "metadata": {},
   "outputs": [],
   "source": [
    "with open(\"input_2024/example1.txt\") as f:\n",
    "    line_ints_list = []\n",
    "    for line in f:\n",
    "        line_ints = [int(val) for val in line.strip().split()]\n",
    "        line_ints_list.append(line_ints)"
   ]
  },
  {
   "cell_type": "code",
   "execution_count": 34,
   "metadata": {},
   "outputs": [
    {
     "data": {
      "text/plain": [
       "11"
      ]
     },
     "execution_count": 34,
     "metadata": {},
     "output_type": "execute_result"
    }
   ],
   "source": [
    "cols = [v for v in zip(*line_ints_list)]\n",
    "left_col = sorted(cols[0])\n",
    "right_col = sorted(cols[1])\n",
    "sum([abs(left - right) for left, right in zip(left_col, right_col)])"
   ]
  },
  {
   "cell_type": "markdown",
   "metadata": {},
   "source": [
    "### Puzzle 2"
   ]
  },
  {
   "cell_type": "code",
   "execution_count": 35,
   "metadata": {},
   "outputs": [
    {
     "data": {
      "text/plain": [
       "31"
      ]
     },
     "execution_count": 35,
     "metadata": {},
     "output_type": "execute_result"
    }
   ],
   "source": [
    "left_col_set = set(left_col)\n",
    "right_col_count = {num:right_col.count(num) for num in left_col_set }\n",
    "similarities = [num * right_col_count[num] for num in left_col]\n",
    "sum(similarities)"
   ]
  },
  {
   "cell_type": "markdown",
   "metadata": {},
   "source": [
    "## Day 2"
   ]
  },
  {
   "cell_type": "code",
   "execution_count": 19,
   "metadata": {},
   "outputs": [],
   "source": [
    "import aoc\n",
    "aoc.read_input(\"cookie.txt\", \"input_2024\", 2024, 2)"
   ]
  },
  {
   "cell_type": "markdown",
   "metadata": {},
   "source": [
    "### Puzzles 1 & 2"
   ]
  },
  {
   "cell_type": "code",
   "execution_count": null,
   "metadata": {},
   "outputs": [
    {
     "data": {
      "text/plain": [
       "(2, 4)"
      ]
     },
     "execution_count": 55,
     "metadata": {},
     "output_type": "execute_result"
    }
   ],
   "source": [
    "from itertools import combinations\n",
    "import numpy as np\n",
    "\n",
    "def safe_report(report):\n",
    "    diffs = np.diff(report)\n",
    "    return (np.all(diffs > 0) and np.max(diffs) <= 3) or (np.all(diffs < 0) and np.min(diffs) >= -3)\n",
    "\n",
    "puzzle1 = 0\n",
    "puzzle2 = 0\n",
    "\n",
    "with open(\"input_2024/example2.txt\") as f:\n",
    "    for line in f:\n",
    "        report = np.fromstring(line, dtype=int, sep=\" \")\n",
    "        if safe_report(report):\n",
    "            puzzle1 += 1\n",
    "            puzzle2 += 1\n",
    "        else:\n",
    "            for dampened_report in combinations(report, len(report)-1):\n",
    "                if safe_report(dampened_report):\n",
    "                    puzzle2 += 1\n",
    "                    break\n",
    "\n",
    "puzzle1, puzzle2"
   ]
  },
  {
   "cell_type": "markdown",
   "metadata": {},
   "source": [
    "## Day 3"
   ]
  },
  {
   "cell_type": "code",
   "execution_count": 13,
   "metadata": {},
   "outputs": [],
   "source": [
    "import aoc\n",
    "aoc.read_input(\"cookie.txt\", \"input_2024\", 2024, 3)"
   ]
  },
  {
   "cell_type": "markdown",
   "metadata": {},
   "source": [
    "### Puzzle 1"
   ]
  },
  {
   "cell_type": "code",
   "execution_count": 14,
   "metadata": {},
   "outputs": [
    {
     "data": {
      "text/plain": [
       "161"
      ]
     },
     "execution_count": 14,
     "metadata": {},
     "output_type": "execute_result"
    }
   ],
   "source": [
    "import re\n",
    "\n",
    "answer = 0\n",
    "\n",
    "with open(\"input_2024/example3.txt\") as f:\n",
    "    for match in re.findall(\"mul\\([0-9]{1,3},[0-9]{1,3}\\)\", f.read()):\n",
    "        a, b = match[4:-1].split(',')\n",
    "        answer += int(a) * int(b)\n",
    "        \n",
    "answer"
   ]
  },
  {
   "cell_type": "markdown",
   "metadata": {},
   "source": [
    "### Puzzle 2"
   ]
  },
  {
   "cell_type": "code",
   "execution_count": 15,
   "metadata": {},
   "outputs": [
    {
     "data": {
      "text/plain": [
       "48"
      ]
     },
     "execution_count": 15,
     "metadata": {},
     "output_type": "execute_result"
    }
   ],
   "source": [
    "answer = 0\n",
    "\n",
    "with open(\"input_2024/example3a.txt\") as f:\n",
    "    do_and_dont_list = f.read().split(\"do()\")\n",
    "    for do_and_dont in do_and_dont_list:\n",
    "        do = do_and_dont.split(\"don't()\")[0]\n",
    "        muls = re.findall(\"mul\\([0-9]{1,3},[0-9]{1,3}\\)\", do)\n",
    "        for match in muls:\n",
    "            a, b = match[4:-1].split(',')\n",
    "            answer += int(a) * int(b)\n",
    "answer"
   ]
  },
  {
   "cell_type": "markdown",
   "metadata": {},
   "source": [
    "## Day 4"
   ]
  },
  {
   "cell_type": "code",
   "execution_count": 6,
   "metadata": {},
   "outputs": [],
   "source": [
    "import aoc\n",
    "import numpy as np\n",
    "aoc.read_input(\"cookie.txt\", \"input_2024\", 2024, 4)"
   ]
  },
  {
   "cell_type": "markdown",
   "metadata": {},
   "source": [
    "### Puzzle 1 & Puzzle 2"
   ]
  },
  {
   "cell_type": "code",
   "execution_count": 16,
   "metadata": {},
   "outputs": [
    {
     "data": {
      "text/plain": [
       "(18, 9)"
      ]
     },
     "execution_count": 16,
     "metadata": {},
     "output_type": "execute_result"
    }
   ],
   "source": [
    "puzzle1 = puzzle2 = 0\n",
    "with open(\"input_2024/example4.txt\") as f:\n",
    "    array = np.pad(np.array([[c for c in line.strip()] for line in f]), 3)\n",
    "it = np.nditer(array, flags=['multi_index'])\n",
    "for char in it:\n",
    "    if char == 'A':\n",
    "        i, j = it.multi_index\n",
    "        hr = f\"{array[i, j-2]}{array[i, j-1]}{char}{array[i, j+1]}\"\n",
    "        vd = f\"{array[i-2, j]}{array[i-1, j]}{char}{array[i+1, j]}\"\n",
    "        ddr = f\"{array[i-2, j-2]}{array[i-1, j-1]}{char}{array[i+1, j+1]}\"\n",
    "        dur = f\"{array[i+2, j-2]}{array[i+1, j-1]}{char}{array[i-1, j+1]}\"\n",
    "        vu =  f\"{array[i+2, j]}{array[i+1, j]}{char}{array[i-1, j]}\"\n",
    "        hl =  f\"{array[i, j+2]}{array[i, j+1]}{char}{array[i, j-1]}\"\n",
    "        ddl = f\"{array[i-2, j+2]}{array[i-1, j+1]}{char}{array[i+1, j-1]}\"\n",
    "        dul =  f\"{array[i+2, j+2]}{array[i+1, j+1]}{char}{array[i-1, j-1]}\"\n",
    "        puzzle1 += (hr, vd, ddr, dur, vu, hl, ddl, dul).count('XMAS')\n",
    "        if 'MAS' in (dur[1:], ddl[1:]) and 'MAS' in (dul[1:], ddr[1:]):\n",
    "            puzzle2 += 1\n",
    "puzzle1, puzzle2"
   ]
  },
  {
   "cell_type": "markdown",
   "metadata": {},
   "source": [
    "## Day 5"
   ]
  },
  {
   "cell_type": "code",
   "execution_count": 17,
   "metadata": {},
   "outputs": [],
   "source": [
    "import aoc\n",
    "aoc.read_input(\"cookie.txt\", \"input_2024\", 2024, 5)"
   ]
  },
  {
   "cell_type": "markdown",
   "metadata": {},
   "source": [
    "### Puzzle 1 & Puzzle 2"
   ]
  },
  {
   "cell_type": "code",
   "execution_count": 133,
   "metadata": {},
   "outputs": [
    {
     "data": {
      "text/plain": [
       "(143, 123)"
      ]
     },
     "execution_count": 133,
     "metadata": {},
     "output_type": "execute_result"
    }
   ],
   "source": [
    "rules_dict = {}\n",
    "\n",
    "puzzle1 = puzzle2 = 0\n",
    "\n",
    "def insertionSort(arr, rules_dict):\n",
    "    n = len(arr)  # Get the length of the array\n",
    "      \n",
    "    if n <= 1:\n",
    "        return  # If the array has 0 or 1 element, it is already sorted, so return\n",
    " \n",
    "    for i in range(1, n):  # Iterate over the array starting from the second element\n",
    "        key = arr[i]  # Store the current element as the key to be inserted in the right position\n",
    "        j = i-1\n",
    "        while j >= 0 and arr[j] in rules_dict[key]:  # Move elements greater than key one position ahead\n",
    "            arr[j+1] = arr[j]  # Shift elements to the right\n",
    "            j -= 1\n",
    "        arr[j+1] = key  # Insert the key in the correct position\n",
    "\n",
    "def middle_val(arr):\n",
    "    return int(arr[len(arr) // 2])\n",
    "\n",
    "with open(\"input_2024/example5.txt\") as f:\n",
    "    rules_text, updates_text = f.read().split(\"\\n\\n\")\n",
    "\n",
    "for rule in rules_text.split(\"\\n\"):\n",
    "    before, after = rule.split(\"|\")\n",
    "    if before in rules_dict.keys():\n",
    "        rules_dict[before].add(after)\n",
    "    else:\n",
    "        rules_dict[before] = {after}\n",
    "\n",
    "# add missing pages to rules_dict\n",
    "after_pages  = set().union(*rules_dict.values())\n",
    "not_before = after_pages.difference(set(rules_dict.keys()))\n",
    "for page in not_before:\n",
    "    rules_dict[page] = set()\n",
    "\n",
    "for update in updates_text.split(\"\\n\"):\n",
    "    update_order = update.split(\",\")\n",
    "    for i, page in enumerate(update_order[:-1]):\n",
    "        try:\n",
    "            if not set(update_order[i+1:]).issubset(rules_dict[page]): # Bad update\n",
    "                insertionSort(update_order, rules_dict)\n",
    "                puzzle2 += middle_val(update_order)\n",
    "                break\n",
    "            elif i == len(update_order) - 2: # Good update\n",
    "                puzzle1 += middle_val(update_order)\n",
    "        except KeyError:\n",
    "            break\n",
    "\n",
    "puzzle1, puzzle2\n",
    "        "
   ]
  }
 ],
 "metadata": {
  "kernelspec": {
   "display_name": "arcgispro-py3",
   "language": "python",
   "name": "python3"
  },
  "language_info": {
   "codemirror_mode": {
    "name": "ipython",
    "version": 3
   },
   "file_extension": ".py",
   "mimetype": "text/x-python",
   "name": "python",
   "nbconvert_exporter": "python",
   "pygments_lexer": "ipython3",
   "version": "3.11.10"
  }
 },
 "nbformat": 4,
 "nbformat_minor": 2
}

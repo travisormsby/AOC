{
 "cells": [
  {
   "cell_type": "markdown",
   "metadata": {},
   "source": [
    "# Advent of Code 2024"
   ]
  },
  {
   "cell_type": "markdown",
   "metadata": {},
   "source": [
    "## Day 1"
   ]
  },
  {
   "cell_type": "code",
   "execution_count": 3,
   "metadata": {},
   "outputs": [],
   "source": [
    "import aoc\n",
    "aoc.read_input(\"cookie.txt\", \"input_2024\", 2024, 1)"
   ]
  },
  {
   "cell_type": "markdown",
   "metadata": {},
   "source": [
    "### Puzzle 1"
   ]
  },
  {
   "cell_type": "code",
   "execution_count": 33,
   "metadata": {},
   "outputs": [],
   "source": [
    "with open(\"input_2024/example1.txt\") as f:\n",
    "    line_ints_list = []\n",
    "    for line in f:\n",
    "        line_ints = [int(val) for val in line.strip().split()]\n",
    "        line_ints_list.append(line_ints)"
   ]
  },
  {
   "cell_type": "code",
   "execution_count": 34,
   "metadata": {},
   "outputs": [
    {
     "data": {
      "text/plain": [
       "11"
      ]
     },
     "execution_count": 34,
     "metadata": {},
     "output_type": "execute_result"
    }
   ],
   "source": [
    "cols = [v for v in zip(*line_ints_list)]\n",
    "left_col = sorted(cols[0])\n",
    "right_col = sorted(cols[1])\n",
    "sum([abs(left - right) for left, right in zip(left_col, right_col)])"
   ]
  },
  {
   "cell_type": "markdown",
   "metadata": {},
   "source": [
    "### Puzzle 2"
   ]
  },
  {
   "cell_type": "code",
   "execution_count": 35,
   "metadata": {},
   "outputs": [
    {
     "data": {
      "text/plain": [
       "31"
      ]
     },
     "execution_count": 35,
     "metadata": {},
     "output_type": "execute_result"
    }
   ],
   "source": [
    "left_col_set = set(left_col)\n",
    "right_col_count = {num:right_col.count(num) for num in left_col_set }\n",
    "similarities = [num * right_col_count[num] for num in left_col]\n",
    "sum(similarities)"
   ]
  },
  {
   "cell_type": "markdown",
   "metadata": {},
   "source": [
    "## Day 2"
   ]
  },
  {
   "cell_type": "code",
   "execution_count": 19,
   "metadata": {},
   "outputs": [],
   "source": [
    "import aoc\n",
    "aoc.read_input(\"cookie.txt\", \"input_2024\", 2024, 2)"
   ]
  },
  {
   "cell_type": "markdown",
   "metadata": {},
   "source": [
    "### Puzzle 1"
   ]
  },
  {
   "cell_type": "code",
   "execution_count": null,
   "metadata": {},
   "outputs": [
    {
     "data": {
      "text/plain": [
       "564"
      ]
     },
     "execution_count": 30,
     "metadata": {},
     "output_type": "execute_result"
    }
   ],
   "source": [
    "import numpy as np\n",
    "\n",
    "def safe_report(report):\n",
    "    return (np.all(report > 0) and np.max(report) <= 3) or (np.all(report < 0) and np.min(report) >= -3)\n",
    "\n",
    "safe_count = 0\n",
    "\n",
    "\n",
    "with open(\"input_2024/2.txt\") as f:\n",
    "    for line in f:\n",
    "        array = np.fromstring(line, dtype=int, sep=\" \")\n",
    "        report = np.diff(array)\n",
    "        if safe_report(report):\n",
    "            safe_count += 1\n",
    "\n",
    "safe_count"
   ]
  },
  {
   "cell_type": "markdown",
   "metadata": {},
   "source": [
    "### Puzzle 2"
   ]
  },
  {
   "cell_type": "code",
   "execution_count": 42,
   "metadata": {},
   "outputs": [
    {
     "data": {
      "text/plain": [
       "604"
      ]
     },
     "execution_count": 42,
     "metadata": {},
     "output_type": "execute_result"
    }
   ],
   "source": [
    "safe_count = 0\n",
    "\n",
    "\n",
    "with open(\"input_2024/2.txt\") as f:\n",
    "    for line in f:\n",
    "        array = np.fromstring(line, dtype=int, sep=\" \")\n",
    "        report = np.diff(array)\n",
    "        if safe_report(report):\n",
    "            safe_count += 1\n",
    "        else:\n",
    "            for i, level in enumerate(array):\n",
    "                dampened = np.delete(array, i)\n",
    "                report = np.diff(dampened)\n",
    "                if safe_report(report):\n",
    "                    safe_count += 1\n",
    "                    break\n",
    "\n",
    "safe_count"
   ]
  }
 ],
 "metadata": {
  "kernelspec": {
   "display_name": "arcgispro-py3",
   "language": "python",
   "name": "python3"
  },
  "language_info": {
   "codemirror_mode": {
    "name": "ipython",
    "version": 3
   },
   "file_extension": ".py",
   "mimetype": "text/x-python",
   "name": "python",
   "nbconvert_exporter": "python",
   "pygments_lexer": "ipython3",
   "version": "3.11.10"
  }
 },
 "nbformat": 4,
 "nbformat_minor": 2
}

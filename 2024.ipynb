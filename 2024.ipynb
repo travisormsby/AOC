{
 "cells": [
  {
   "cell_type": "markdown",
   "metadata": {},
   "source": [
    "# Advent of Code 2024"
   ]
  },
  {
   "cell_type": "markdown",
   "metadata": {},
   "source": [
    "## Day 1"
   ]
  },
  {
   "cell_type": "code",
   "execution_count": 3,
   "metadata": {},
   "outputs": [],
   "source": [
    "import aoc\n",
    "aoc.read_input(\"cookie.txt\", \"input_2024\", 2024, 1)"
   ]
  },
  {
   "cell_type": "markdown",
   "metadata": {},
   "source": [
    "### Puzzle 1"
   ]
  },
  {
   "cell_type": "code",
   "execution_count": 33,
   "metadata": {},
   "outputs": [],
   "source": [
    "with open(\"input_2024/example1.txt\") as f:\n",
    "    line_ints_list = []\n",
    "    for line in f:\n",
    "        line_ints = [int(val) for val in line.strip().split()]\n",
    "        line_ints_list.append(line_ints)"
   ]
  },
  {
   "cell_type": "code",
   "execution_count": 34,
   "metadata": {},
   "outputs": [
    {
     "data": {
      "text/plain": [
       "11"
      ]
     },
     "execution_count": 34,
     "metadata": {},
     "output_type": "execute_result"
    }
   ],
   "source": [
    "cols = [v for v in zip(*line_ints_list)]\n",
    "left_col = sorted(cols[0])\n",
    "right_col = sorted(cols[1])\n",
    "sum([abs(left - right) for left, right in zip(left_col, right_col)])"
   ]
  },
  {
   "cell_type": "markdown",
   "metadata": {},
   "source": [
    "### Puzzle 2"
   ]
  },
  {
   "cell_type": "code",
   "execution_count": 35,
   "metadata": {},
   "outputs": [
    {
     "data": {
      "text/plain": [
       "31"
      ]
     },
     "execution_count": 35,
     "metadata": {},
     "output_type": "execute_result"
    }
   ],
   "source": [
    "left_col_set = set(left_col)\n",
    "right_col_count = {num:right_col.count(num) for num in left_col_set }\n",
    "similarities = [num * right_col_count[num] for num in left_col]\n",
    "sum(similarities)"
   ]
  },
  {
   "cell_type": "markdown",
   "metadata": {},
   "source": [
    "## Day 2"
   ]
  },
  {
   "cell_type": "code",
   "execution_count": 19,
   "metadata": {},
   "outputs": [],
   "source": [
    "import aoc\n",
    "aoc.read_input(\"cookie.txt\", \"input_2024\", 2024, 2)"
   ]
  },
  {
   "cell_type": "markdown",
   "metadata": {},
   "source": [
    "### Puzzles 1 & 2"
   ]
  },
  {
   "cell_type": "code",
   "execution_count": null,
   "metadata": {},
   "outputs": [
    {
     "data": {
      "text/plain": [
       "(2, 4)"
      ]
     },
     "execution_count": 55,
     "metadata": {},
     "output_type": "execute_result"
    }
   ],
   "source": [
    "from itertools import combinations\n",
    "import numpy as np\n",
    "\n",
    "def safe_report(report):\n",
    "    diffs = np.diff(report)\n",
    "    return (np.all(diffs > 0) and np.max(diffs) <= 3) or (np.all(diffs < 0) and np.min(diffs) >= -3)\n",
    "\n",
    "puzzle1 = 0\n",
    "puzzle2 = 0\n",
    "\n",
    "with open(\"input_2024/example2.txt\") as f:\n",
    "    for line in f:\n",
    "        report = np.fromstring(line, dtype=int, sep=\" \")\n",
    "        if safe_report(report):\n",
    "            puzzle1 += 1\n",
    "            puzzle2 += 1\n",
    "        else:\n",
    "            for dampened_report in combinations(report, len(report)-1):\n",
    "                if safe_report(dampened_report):\n",
    "                    puzzle2 += 1\n",
    "                    break\n",
    "\n",
    "puzzle1, puzzle2"
   ]
  },
  {
   "cell_type": "markdown",
   "metadata": {},
   "source": [
    "## Day 3"
   ]
  },
  {
   "cell_type": "code",
   "execution_count": 3,
   "metadata": {},
   "outputs": [],
   "source": [
    "import aoc\n",
    "aoc.read_input(\"cookie.txt\", \"input_2024\", 2024, 3)"
   ]
  },
  {
   "cell_type": "markdown",
   "metadata": {},
   "source": [
    "### Puzzle 1"
   ]
  },
  {
   "cell_type": "code",
   "execution_count": null,
   "metadata": {},
   "outputs": [
    {
     "data": {
      "text/plain": [
       "161"
      ]
     },
     "execution_count": 48,
     "metadata": {},
     "output_type": "execute_result"
    }
   ],
   "source": [
    "import re\n",
    "\n",
    "answer = 0\n",
    "\n",
    "with open(\"input_2024/example3.txt\") as f:\n",
    "    for match in re.findall(\"mul\\([0-9]{1,3},[0-9]{1,3}\\)\", f.read()):\n",
    "        a, b = match[4:-1].split(',')\n",
    "        answer += int(a) * int(b)\n",
    "        \n",
    "answer"
   ]
  },
  {
   "cell_type": "markdown",
   "metadata": {},
   "source": [
    "### Puzzle 2"
   ]
  },
  {
   "cell_type": "code",
   "execution_count": 49,
   "metadata": {},
   "outputs": [
    {
     "data": {
      "text/plain": [
       "48"
      ]
     },
     "execution_count": 49,
     "metadata": {},
     "output_type": "execute_result"
    }
   ],
   "source": [
    "answer = 0\n",
    "\n",
    "with open(\"input_2024/example3a.txt\") as f:\n",
    "    do_and_dont_list = f.read().split(\"do()\")\n",
    "    for do_and_dont in do_and_dont_list:\n",
    "        do = do_and_dont.split(\"don't()\")[0]\n",
    "        muls = re.findall(\"mul\\([0-9]{1,3},[0-9]{1,3}\\)\", do)\n",
    "        for match in muls:\n",
    "            a, b = match[4:-1].split(',')\n",
    "            answer += int(a) * int(b)\n",
    "answer"
   ]
  },
  {
   "cell_type": "markdown",
   "metadata": {},
   "source": [
    "## Day 4"
   ]
  },
  {
   "cell_type": "code",
   "execution_count": 4,
   "metadata": {},
   "outputs": [],
   "source": [
    "import aoc\n",
    "import numpy as np\n",
    "aoc.read_input(\"cookie.txt\", \"input_2024\", 2024, 4)"
   ]
  },
  {
   "cell_type": "markdown",
   "metadata": {},
   "source": [
    "### Puzzles 1 & 2"
   ]
  },
  {
   "cell_type": "code",
   "execution_count": 5,
   "metadata": {},
   "outputs": [
    {
     "ename": "UFuncTypeError",
     "evalue": "ufunc 'add' did not contain a loop with signature matching types (dtype('<U2'), dtype('<U1')) -> None",
     "output_type": "error",
     "traceback": [
      "\u001b[1;31m---------------------------------------------------------------------------\u001b[0m",
      "\u001b[1;31mUFuncTypeError\u001b[0m                            Traceback (most recent call last)",
      "Cell \u001b[1;32mIn[5], line 8\u001b[0m\n\u001b[0;32m      6\u001b[0m \u001b[38;5;28;01mif\u001b[39;00m char \u001b[38;5;241m==\u001b[39m \u001b[38;5;124m'\u001b[39m\u001b[38;5;124mA\u001b[39m\u001b[38;5;124m'\u001b[39m:\n\u001b[0;32m      7\u001b[0m     i, j \u001b[38;5;241m=\u001b[39m it\u001b[38;5;241m.\u001b[39mmulti_index\n\u001b[1;32m----> 8\u001b[0m     hr \u001b[38;5;241m=\u001b[39m array[i, j\u001b[38;5;241m-\u001b[39m\u001b[38;5;241m2\u001b[39m] \u001b[38;5;241m+\u001b[39m array[i, j\u001b[38;5;241m-\u001b[39m\u001b[38;5;241m1\u001b[39m] \u001b[38;5;241m+\u001b[39m char \u001b[38;5;241m+\u001b[39m array[i, j\u001b[38;5;241m+\u001b[39m\u001b[38;5;241m1\u001b[39m]\n\u001b[0;32m      9\u001b[0m     vd \u001b[38;5;241m=\u001b[39m array[i\u001b[38;5;241m-\u001b[39m\u001b[38;5;241m2\u001b[39m, j] \u001b[38;5;241m+\u001b[39m array[i\u001b[38;5;241m-\u001b[39m\u001b[38;5;241m1\u001b[39m, j] \u001b[38;5;241m+\u001b[39m char \u001b[38;5;241m+\u001b[39m array[i\u001b[38;5;241m+\u001b[39m\u001b[38;5;241m1\u001b[39m, j]\n\u001b[0;32m     10\u001b[0m     ddr \u001b[38;5;241m=\u001b[39m array[i\u001b[38;5;241m-\u001b[39m\u001b[38;5;241m2\u001b[39m, j\u001b[38;5;241m-\u001b[39m\u001b[38;5;241m2\u001b[39m] \u001b[38;5;241m+\u001b[39m array[i\u001b[38;5;241m-\u001b[39m\u001b[38;5;241m1\u001b[39m, j\u001b[38;5;241m-\u001b[39m\u001b[38;5;241m1\u001b[39m] \u001b[38;5;241m+\u001b[39m char \u001b[38;5;241m+\u001b[39m array[i\u001b[38;5;241m+\u001b[39m\u001b[38;5;241m1\u001b[39m, j\u001b[38;5;241m+\u001b[39m\u001b[38;5;241m1\u001b[39m]\n",
      "\u001b[1;31mUFuncTypeError\u001b[0m: ufunc 'add' did not contain a loop with signature matching types (dtype('<U2'), dtype('<U1')) -> None"
     ]
    }
   ],
   "source": [
    "puzzle1 = puzzle2 = 0\n",
    "with open(\"input_2024/4.txt\") as f:\n",
    "    array = np.pad(np.array([[c for c in line.strip()] for line in f]), 3)\n",
    "it = np.nditer(array, flags=['multi_index'])\n",
    "for char in it:\n",
    "    if char == 'A':\n",
    "        i, j = it.multi_index\n",
    "        hr = array[i, j-2] + array[i, j-1] + char + array[i, j+1]\n",
    "        vd = array[i-2, j] + array[i-1, j] + char + array[i+1, j]\n",
    "        ddr = array[i-2, j-2] + array[i-1, j-1] + char + array[i+1, j+1]\n",
    "        dur =  array[i+2, j-2] + array[i+1, j-1] + char + array[i-1, j+1]\n",
    "        vu =  array[i+2, j] + array[i+1, j] + char + array[i-1, j]\n",
    "        hl =  array[i, j+2] + array[i, j+1] + char + array[i, j-1]\n",
    "        ddl = array[i-2, j+2] + array[i-1, j+1] + char + array[i+1, j-1]\n",
    "        dul =  array[i+2, j+2] + array[i+1, j+1] + char + array[i-1, j-1]\n",
    "        puzzle1 += (hr, vd, ddr, dur, vu, hl, ddl, dul).count('XMAS')\n",
    "        if 'MAS' in (dur[1:], ddl[1:]) and 'MAS' in (dul[1:], ddr[1:]):\n",
    "            puzzle2 += 1\n",
    "puzzle1, puzzle2"
   ]
  },
  {
   "cell_type": "code",
   "execution_count": null,
   "metadata": {},
   "outputs": [],
   "source": []
  }
 ],
 "metadata": {
  "kernelspec": {
   "display_name": "arcgispro-py3",
   "language": "python",
   "name": "python3"
  },
  "language_info": {
   "codemirror_mode": {
    "name": "ipython",
    "version": 3
   },
   "file_extension": ".py",
   "mimetype": "text/x-python",
   "name": "python",
   "nbconvert_exporter": "python",
   "pygments_lexer": "ipython3",
   "version": "3.11.10"
  }
 },
 "nbformat": 4,
 "nbformat_minor": 2
}

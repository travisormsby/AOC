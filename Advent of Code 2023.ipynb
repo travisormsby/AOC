{
 "cells": [
  {
   "cell_type": "markdown",
   "metadata": {},
   "source": [
    "# Advent of Code 2023"
   ]
  },
  {
   "cell_type": "markdown",
   "metadata": {},
   "source": [
    "## Day 4    "
   ]
  },
  {
   "cell_type": "code",
   "execution_count": 393,
   "metadata": {},
   "outputs": [],
   "source": [
    "import aoc\n",
    "aoc.read_input(\"cookie.txt\", \"input_2023\", 2023, 4)"
   ]
  },
  {
   "cell_type": "markdown",
   "metadata": {},
   "source": [
    "### Puzzle 1"
   ]
  },
  {
   "cell_type": "code",
   "execution_count": 408,
   "metadata": {},
   "outputs": [
    {
     "data": {
      "text/plain": [
       "21138"
      ]
     },
     "execution_count": 408,
     "metadata": {},
     "output_type": "execute_result"
    }
   ],
   "source": [
    "total = []\n",
    "with open(\"input_2023/4.txt\") as f:\n",
    "    for rowtext in [line.split(\":\")[1].split(\"|\") for line in aoc.parse_lines(f)]:\n",
    "        winners, numbers = rowtext\n",
    "        winners = winners.split()\n",
    "        numbers = numbers.split()\n",
    "        matches = 0\n",
    "        for number in numbers:\n",
    "            if number in winners:\n",
    "                matches += 1\n",
    "        score = 2 ** (matches - 1) if matches > 0 else 0\n",
    "        total.append(score)\n",
    "sum(total)\n"
   ]
  },
  {
   "cell_type": "markdown",
   "metadata": {},
   "source": [
    "### Puzzle 2"
   ]
  },
  {
   "cell_type": "markdown",
   "metadata": {},
   "source": [
    "Reflection: I was worried that the brute force approach used here of several nested loops would result in an unacceptably long run time. That turned out not the be the case, however."
   ]
  },
  {
   "cell_type": "code",
   "execution_count": 436,
   "metadata": {},
   "outputs": [
    {
     "data": {
      "text/plain": [
       "7185540"
      ]
     },
     "execution_count": 436,
     "metadata": {},
     "output_type": "execute_result"
    }
   ],
   "source": [
    "# Create a dictionary of cards in the form {cardnum1: nummatches, cardnum2: nummatches}\n",
    "carddict = {}\n",
    "with open(\"input_2023/4.txt\") as f:\n",
    "    for i, rowtext in enumerate([line.split(\":\")[1].split(\"|\") for line in aoc.parse_lines(f)]):\n",
    "        winners, numbers = rowtext\n",
    "        winners = winners.split()\n",
    "        numbers = numbers.split()\n",
    "        matches = 0\n",
    "        for number in numbers:\n",
    "            if number in winners:\n",
    "                matches += 1\n",
    "        carddict[i+1] = matches\n",
    "\n",
    "# Create a dictionary holding the number of copies of each card\n",
    "cardcopies = {k:1 for k in carddict.keys()}\n",
    "\n",
    "# Update the cardcopies dictionary\n",
    "for cardnum, matches in carddict.items():\n",
    "    for i in range(cardcopies[cardnum]):\n",
    "        for i in range(cardnum+1, cardnum+matches+1):\n",
    "            cardcopies[i] += 1\n",
    "\n",
    "# total number of cards\n",
    "sum(cardcopies.values())\n"
   ]
  },
  {
   "cell_type": "code",
   "execution_count": 422,
   "metadata": {},
   "outputs": [
    {
     "data": {
      "text/plain": [
       "dict_items([(1, 4), (2, 2), (3, 2), (4, 1), (5, 0), (6, 0)])"
      ]
     },
     "execution_count": 422,
     "metadata": {},
     "output_type": "execute_result"
    }
   ],
   "source": [
    "carddict.items()"
   ]
  },
  {
   "cell_type": "markdown",
   "metadata": {},
   "source": [
    "## Day 3"
   ]
  },
  {
   "cell_type": "code",
   "execution_count": 122,
   "metadata": {},
   "outputs": [],
   "source": [
    "import aoc\n",
    "aoc.read_input(\"cookie.txt\", \"input_2023\", 2023, 3)"
   ]
  },
  {
   "cell_type": "markdown",
   "metadata": {},
   "source": [
    "### Puzzle 1"
   ]
  },
  {
   "cell_type": "markdown",
   "metadata": {},
   "source": [
    "Reflection: I really struggled with this one. This solution is undoubtedly far more complex than necessary, but I was unable to find a simpler one."
   ]
  },
  {
   "cell_type": "code",
   "execution_count": 389,
   "metadata": {},
   "outputs": [],
   "source": [
    "# parse input into 2-d numpy array and get list of symbols\n",
    "import numpy as np\n",
    "symbols = []\n",
    "inputmatrix = []\n",
    "with open(\"input_2023/3.txt\") as f:\n",
    "    for rowtext in [line for line in aoc.parse_lines(f)]:\n",
    "        row = []\n",
    "        for char in rowtext:\n",
    "            row.append(char)\n",
    "            if not char.isdigit() and char != \".\":\n",
    "                if char not in symbols:\n",
    "                    symbols.append(char)\n",
    "        inputmatrix.append(row)\n",
    "\n",
    "schematic = np.array(inputmatrix)\n",
    "\n",
    "# pad the schematic to make moving window easier\n",
    " \n",
    "schematic = np.pad(schematic, 1, \"constant\", constant_values=\".\")\n",
    "\n"
   ]
  },
  {
   "cell_type": "code",
   "execution_count": 327,
   "metadata": {},
   "outputs": [],
   "source": [
    "# recursive function to extend window search to find part number, and the end column to search for symbols\n",
    "\n",
    "def partnum(schematic, i, jstart, jend):\n",
    "    number_window = schematic[i, jstart:jend]\n",
    "    if all(char.isdigit() for char in number_window):\n",
    "        partnumber, jend = partnum(schematic, i, jstart, jend+1)\n",
    "    else: \n",
    "        partnumber = int(\"\".join([char for char in number_window if char.isdigit()]))\n",
    "    return partnumber, jend"
   ]
  },
  {
   "cell_type": "code",
   "execution_count": 392,
   "metadata": {},
   "outputs": [
    {
     "data": {
      "text/plain": [
       "535235"
      ]
     },
     "execution_count": 392,
     "metadata": {},
     "output_type": "execute_result"
    }
   ],
   "source": [
    "height, width = schematic.shape\n",
    "partnumbers = []\n",
    "for i in range(1, height-1):\n",
    "    continues = 0\n",
    "    for j in range(1, width-1):\n",
    "        \n",
    "        # continue to skip past later digits in the part number\n",
    "        if continues > 0:\n",
    "                continues -= 1\n",
    "                continue\n",
    "        char = schematic[i, j]\n",
    "        if char.isdigit():\n",
    "            \n",
    "            partnumber, jend = partnum(schematic, i, j, j+1)\n",
    "            continues = jend - j - 2\n",
    "            symbol_window = schematic[i-1:i+2, j-1:jend]\n",
    "            for symbol in symbols:\n",
    "                if symbol in symbol_window:\n",
    "                    partnumbers.append(partnumber)\n",
    "sum(partnumbers)\n",
    "                    \n",
    "                \n"
   ]
  },
  {
   "cell_type": "markdown",
   "metadata": {},
   "source": [
    "## Puzzle 2"
   ]
  },
  {
   "cell_type": "markdown",
   "metadata": {},
   "source": [
    "Reflection: In Puzzle 1, I found symbols next to part numbers, as opposed to part numbers next to symbols. So I wasn't able to use as much of the part 1 solution as I would have liked. The function to rewrite part numbers into the numpy array still proved useful.\n",
    "\n",
    "One other challenge was that part numbers can repeat, a pattern that isn't present in the example. I originally tried using sets and set length to find gear symbols that had exactly two different numbers, but that didn't work because part numbers are allowed to repeat (including repeating adjacent to the same symbol). Because of the way the rewriter function works, in a single row, repeating numbers adjacent to each other must belong to the same indvidual part (not different copies of the same part number). I learned that there is an itertools function groupby that collapses consecutive values in a list, which is useful for this.\n",
    "\n",
    "This solution incorporates the solution to both puzzles."
   ]
  },
  {
   "cell_type": "code",
   "execution_count": 391,
   "metadata": {},
   "outputs": [
    {
     "name": "stdout",
     "output_type": "stream",
     "text": [
      "535235\n",
      "79844424\n"
     ]
    }
   ],
   "source": [
    "height, width = schematic.shape\n",
    "schematic_copy = schematic.astype(\"<U16\")\n",
    "\n",
    "from functools import reduce\n",
    "from itertools import groupby \n",
    "\n",
    "# rewrite the schematic so that every cell with a part number includes the entire part number (not just a single digit)\n",
    "for i in range(1, height-1):\n",
    "    continues = 0\n",
    "    for j in range(1, width-1):\n",
    "        \n",
    "        # continue to skip past later digits in the part number\n",
    "        if continues > 0:\n",
    "                continues -= 1\n",
    "                schematic_copy[i, j] = partnumber\n",
    "                continue\n",
    "        char = schematic[i, j]\n",
    "        if char.isdigit():\n",
    "            \n",
    "            partnumber, jend = partnum(schematic, i, j, j+1)\n",
    "            continues = jend - j - 2\n",
    "            schematic_copy[i, j] = str(partnumber)\n",
    "\n",
    "# Find all symbols in input, check adjacent cells for part numbers\n",
    "partnumbers = []\n",
    "powers = []\n",
    "for i in range(1, height-1):\n",
    "    for j in range(1, width-1):\n",
    "        if schematic[i, j] in symbols:\n",
    "            parts = []\n",
    "            schematic_window = schematic_copy[i-1:i+2, j-1:j+2]\n",
    "            for row in schematic_window:\n",
    "                 rowparts = [int(i[0]) for i in groupby(row) if i[0].isdigit()] # remove adjacent part numbers, which must be the same part\n",
    "                 parts.extend(rowparts)\n",
    "            partnumbers.extend(parts)\n",
    "            if len(parts) == 2 and schematic[i, j] == \"*\": # find parts next to gears\n",
    "                power = reduce((lambda x, y: int(x)*int(y)), parts)\n",
    "                powers.append(power)\n",
    "print(sum(partnumbers))\n",
    "print(sum(powers))"
   ]
  },
  {
   "cell_type": "markdown",
   "metadata": {},
   "source": [
    "## Day 2"
   ]
  },
  {
   "cell_type": "code",
   "execution_count": 1,
   "metadata": {},
   "outputs": [],
   "source": [
    "import aoc\n",
    "aoc.read_input(\"cookie.txt\", \"input_2023\", 2023, 2)"
   ]
  },
  {
   "cell_type": "markdown",
   "metadata": {},
   "source": [
    "### Puzzle 1"
   ]
  },
  {
   "cell_type": "markdown",
   "metadata": {},
   "source": [
    "Reflection: By far the hardest part of this puzzle for me was figuring out how to parse the input into a data structure that I could use. Once that was done, both puzzles were fairly easy."
   ]
  },
  {
   "cell_type": "code",
   "execution_count": 99,
   "metadata": {},
   "outputs": [
    {
     "data": {
      "text/plain": [
       "2528"
      ]
     },
     "execution_count": 99,
     "metadata": {},
     "output_type": "execute_result"
    }
   ],
   "source": [
    "# parse the input into a dictionary of lists of dictionaries of the form:\n",
    "# {gameid: [{\"blue\": n, \"red\": n, \"green\": n}]}\n",
    "with open(\"input_2023/2.txt\") as f:\n",
    "    lines = [line for line in f.read().strip().split(\"\\n\")]\n",
    "    gamedict = {}\n",
    "    for line in lines:\n",
    "        gameid, results = line.split(\":\")\n",
    "        gameid = int(gameid.split()[-1])\n",
    "        results = results.strip()\n",
    "        results = results.split(\";\")\n",
    "        resultlist = []\n",
    "        for result in results:\n",
    "            draws = [draw.split() for draw in result.split(\",\")]\n",
    "            drawdict = {k: int(v) for v, k in draws}\n",
    "            resultlist.append(drawdict)\n",
    "        results = resultlist\n",
    "        gamedict[gameid] = results\n",
    "\n",
    "\n",
    "\n",
    "# find if a single game had no reported dice draws exceed the maximum, else return 0\n",
    "\n",
    "def resultchecker(results, maxdict):\n",
    "    for result in results:\n",
    "        for key in [\"red\", \"green\", \"blue\"]:\n",
    "            if not key in result or result[key] <= maxdict[key]:\n",
    "                pass\n",
    "            else: return 0\n",
    "    return game\n",
    "\n",
    "maxdict = {\n",
    "    \"red\": 12, \n",
    "    \"green\": 13, \n",
    "    \"blue\": 14\n",
    "}\n",
    "\n",
    "# Add the game ids of those games together\n",
    "possiblegames = []\n",
    "for game, results in gamedict.items():\n",
    "    possiblegames.append(resultchecker(results, maxdict))\n",
    "\n",
    "sum(possiblegames)\n",
    "\n"
   ]
  },
  {
   "cell_type": "markdown",
   "metadata": {},
   "source": [
    "### Puzzle 2"
   ]
  },
  {
   "cell_type": "markdown",
   "metadata": {},
   "source": [
    "Reflection: I didn't know how to multiply all the elements of a list together. The code for the reduce function I looked up online, and didn't really understand how it worked at first. When I looked up reduce, I learned that reduce works by taking the first two elements of an iterable and passing them to a function. The result of that function and the next element in the iterable are passed to the function again, until the iterable is exhausted.\n",
    "\n",
    "So in this case, the lambda function multiplies the two arguments. Reduce takes the first two elements of the list and passes them to the lambda function. Then it passes that result to the lambda function along with the next element (the original 3rd element). It just keeps doing that until it runs out of elements and returns the single result."
   ]
  },
  {
   "cell_type": "code",
   "execution_count": 100,
   "metadata": {},
   "outputs": [
    {
     "data": {
      "text/plain": [
       "67363"
      ]
     },
     "execution_count": 100,
     "metadata": {},
     "output_type": "execute_result"
    }
   ],
   "source": [
    "\n",
    "from functools import reduce \n",
    "\n",
    "powers = []\n",
    "\n",
    "for game, results in gamedict.items():\n",
    "    # find the min number of each color die in the bag (i.e. the max number of dice of that color in a single draw)\n",
    "    mindict = {\n",
    "        \"red\": 0,\n",
    "        \"green\": 0,\n",
    "        \"blue\": 0\n",
    "    }\n",
    "    for result in results:\n",
    "        for dice, num in result.items():\n",
    "            if num > mindict[dice]:\n",
    "                mindict[dice] = num\n",
    "\n",
    "    # Multiply the min dice values to find the \"power\" of each game\n",
    "    power = reduce((lambda x, y: x * y), mindict.values())\n",
    "\n",
    "\n",
    "    powers.append(power)\n",
    "\n",
    "# Add the powers of each game together\n",
    "sum(powers)"
   ]
  },
  {
   "cell_type": "markdown",
   "metadata": {},
   "source": [
    "## Day 1"
   ]
  },
  {
   "cell_type": "code",
   "execution_count": 3,
   "metadata": {},
   "outputs": [],
   "source": [
    "import aoc\n",
    "aoc.read_input(\"cookie.txt\", \"input_2023\", 2023, 1)"
   ]
  },
  {
   "cell_type": "markdown",
   "metadata": {},
   "source": [
    "Reflection: not super happy with this solution, feel like there's got to be a better way to do this."
   ]
  },
  {
   "cell_type": "markdown",
   "metadata": {},
   "source": [
    "### Puzzle 1"
   ]
  },
  {
   "cell_type": "code",
   "execution_count": 19,
   "metadata": {},
   "outputs": [
    {
     "data": {
      "text/plain": [
       "55090"
      ]
     },
     "execution_count": 19,
     "metadata": {},
     "output_type": "execute_result"
    }
   ],
   "source": [
    "with open(\"input_2023/1.txt\") as f:\n",
    "    numlist = []\n",
    "    for line in f:\n",
    "        nums = \"\".join([char for char in line if char.isdigit()])\n",
    "        num = int(f\"{nums[0]}{nums[-1]}\")\n",
    "        numlist.append(num)\n",
    "sum(numlist)"
   ]
  },
  {
   "cell_type": "markdown",
   "metadata": {},
   "source": [
    "Reflection: The second puzzle was pretty tricky. The overlapping number strings (like \"eightwo\") made parsing it much more difficult. This probably would have ben more elegant with regex. But I'm not good enough with regex to actually figure out how to do it: \"I had a problem, so I tried to solve it with regex. Now I have two problems\""
   ]
  },
  {
   "cell_type": "markdown",
   "metadata": {},
   "source": [
    "### Puzzle 2"
   ]
  },
  {
   "cell_type": "code",
   "execution_count": 51,
   "metadata": {},
   "outputs": [
    {
     "data": {
      "text/plain": [
       "281"
      ]
     },
     "execution_count": 51,
     "metadata": {},
     "output_type": "execute_result"
    }
   ],
   "source": [
    "numdict = {\n",
    "    \"1\": \"1\",\n",
    "    \"2\": \"2\",\n",
    "    \"3\": \"3\",\n",
    "    \"4\": \"4\",\n",
    "    \"5\": \"5\",\n",
    "    \"6\": \"6\",\n",
    "    \"7\": \"7\",\n",
    "    \"8\": \"8\",\n",
    "    \"9\": \"9\",\n",
    "    \"one\": \"1\",\n",
    "    \"two\": \"2\",\n",
    "    \"three\": \"3\",\n",
    "    \"four\": \"4\",\n",
    "    \"five\": \"5\",\n",
    "    \"six\": \"6\",\n",
    "    \"seven\": \"7\",\n",
    "    \"eight\": \"8\",\n",
    "    \"nine\": \"9\"\n",
    "}\n",
    "numlist = []\n",
    "with open(\"input_2023/1.txt\") as f:\n",
    "    lines = [line for line in f.read().strip().split(\"\\n\")]\n",
    "    numlist = []\n",
    "    for line in lines:\n",
    "        firstkey = sorted([(line.find(numtext), numtext) for numtext in numdict.keys() if line.find(numtext) >= 0])[0][1]\n",
    "        lastkey = sorted([(line.rfind(numtext), numtext) for numtext in numdict.keys() if line.find(numtext) >= 0])[-1][1]\n",
    "        num = int(f\"{numdict[firstkey]}{numdict[lastkey]}\")\n",
    "        numlist.append(num)\n",
    "sum(numlist)\n"
   ]
  }
 ],
 "metadata": {
  "kernelspec": {
   "display_name": "arcgispro-py3",
   "language": "python",
   "name": "python3"
  },
  "language_info": {
   "codemirror_mode": {
    "name": "ipython",
    "version": 3
   },
   "file_extension": ".py",
   "mimetype": "text/x-python",
   "name": "python",
   "nbconvert_exporter": "python",
   "pygments_lexer": "ipython3",
   "version": "3.9.18"
  }
 },
 "nbformat": 4,
 "nbformat_minor": 2
}

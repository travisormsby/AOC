{
 "cells": [
  {
   "cell_type": "markdown",
   "metadata": {},
   "source": [
    "# Advent of Code 2023"
   ]
  },
  {
   "cell_type": "markdown",
   "metadata": {},
   "source": [
    "## Day 10"
   ]
  },
  {
   "cell_type": "code",
   "execution_count": 28,
   "metadata": {},
   "outputs": [],
   "source": [
    "import aoc\n",
    "aoc.read_input(\"cookie.txt\", \"input_2023\", 2023, 10)"
   ]
  },
  {
   "cell_type": "markdown",
   "metadata": {},
   "source": [
    "### Puzzle 1 "
   ]
  },
  {
   "cell_type": "markdown",
   "metadata": {},
   "source": [
    "Reflection: This looks to me like a 2D array that should be modeled as a graph. I struggled with getting the orientation correct. My initial graph was rotated 90 degrees.\n",
    "\n",
    "I also struggled with figuring out how to deal with non-main-loop pipes that terminated in the same location as main loop pipe. For example \"-F\". The left-side character suggests that the pipe goes into the right-side character, but there's no corresponding way for that pipe to enter the right-side character. I solved this by first using a directed graph, and then converting to an undirected graph keeping only those edges appear in both directions."
   ]
  },
  {
   "cell_type": "code",
   "execution_count": 101,
   "metadata": {},
   "outputs": [
    {
     "data": {
      "text/plain": [
       "6733.0"
      ]
     },
     "execution_count": 101,
     "metadata": {},
     "output_type": "execute_result"
    }
   ],
   "source": [
    "import networkx as nx\n",
    "import numpy as np\n",
    "G = nx.DiGraph()\n",
    "\n",
    "with open(\"input_2023/10.txt\") as f:\n",
    "    lines = []\n",
    "    for line in f:\n",
    "        chars = [char for char in line.strip()]\n",
    "        lines.append(chars)\n",
    "\n",
    "pipe_dict = {\n",
    "    \"|\": [(0, 1), (0, -1)],\n",
    "    \"-\": [(1, 0), (-1, 0)],\n",
    "    \"L\": [(0, -1), (1, 0)],\n",
    "    \"J\": [(0, -1), (-1, 0)],\n",
    "    \"7\": [(-1, 0), (0, 1)],\n",
    "    \"F\": [(1, 0), (0, 1)],\n",
    "    \"S\": [(1, 0), (0, 1), (-1, 0), (0, -1)]\n",
    "}\n",
    "\n",
    "label_dict = {}\n",
    "pos_dict = {}\n",
    "\n",
    "arr = np.array(lines)\n",
    "\n",
    "# pad the array to prevent attempts to connect to nodes outside array\n",
    "arr = np.pad(arr, 1, \"constant\", constant_values=\".\")\n",
    "\n",
    "for y, row in enumerate(arr):\n",
    "    for x, char in enumerate(row):\n",
    "        node = (x, -1*y)\n",
    "        label_dict[node] = char\n",
    "        pos_dict[node] = (x, -1*y)\n",
    "        if char in pipe_dict:\n",
    "            for neighbor_coord_diff in pipe_dict[char]:\n",
    "                neighbor = (neighbor_coord_diff[0] + x, -1 * (neighbor_coord_diff[1] + y))\n",
    "                G.add_edge(node, neighbor)\n",
    "        if char == \"S\":\n",
    "            start = node\n",
    "# \n",
    "G = G.to_undirected(reciprocal=True)\n",
    "farthest = len(nx.find_cycle(G, start)) / 2\n",
    "farthest\n"
   ]
  },
  {
   "cell_type": "markdown",
   "metadata": {},
   "source": [
    "### Puzzle 2"
   ]
  },
  {
   "cell_type": "markdown",
   "metadata": {},
   "source": [
    "Reflection: I have no idea how to solve this with pure Python. But if each node in the circuit is a vertex of an ArcPy polygon geometry object, then the contained tiles are the nodes that are within but do not touch the edges of the geometry object"
   ]
  },
  {
   "cell_type": "markdown",
   "metadata": {},
   "source": [
    "## Day 9"
   ]
  },
  {
   "cell_type": "code",
   "execution_count": 27,
   "metadata": {},
   "outputs": [],
   "source": [
    "import aoc\n",
    "aoc.read_input(\"cookie.txt\", \"input_2023\", 2023, 9)"
   ]
  },
  {
   "cell_type": "markdown",
   "metadata": {},
   "source": [
    "### Puzzle 1"
   ]
  },
  {
   "cell_type": "markdown",
   "metadata": {},
   "source": [
    "Reflection: I wondered at first if these were general interest sequences that might be found in the [On-Line Encyclopedia of Integer Sequences](https://oeis.org/), but sadly that doesn't seem to be the case. The trick here was a relatively simple recursive function that calculated the next sequence on the way down, then calculated the final value in the sequence on the way back up the recursion stack."
   ]
  },
  {
   "cell_type": "code",
   "execution_count": 30,
   "metadata": {},
   "outputs": [
    {
     "data": {
      "text/plain": [
       "2098530125"
      ]
     },
     "execution_count": 30,
     "metadata": {},
     "output_type": "execute_result"
    }
   ],
   "source": [
    "def seq_reducer(seq):\n",
    "    new_seq = [seq[i+1] - seq[i] for i in range(len(seq) - 1)]\n",
    "    if any(new_seq): # any of the values in new_seq are not zero\n",
    "        next_seq = seq_reducer(new_seq)\n",
    "        new_final = next_seq[-1] + new_seq[-1]\n",
    "        new_seq.append(new_final)       \n",
    "    else:\n",
    "        new_seq.append(0)\n",
    "    return new_seq # since it returns new_seq, the function cannot determine the value of the first line\n",
    "\n",
    "\n",
    "vals = []\n",
    "with open(\"input_2023/9.txt\") as f:\n",
    "    for line in f:\n",
    "        seq = [int(num) for num in line.split()]\n",
    "        vals.append(seq_reducer(seq)[-1] + seq[-1]) # determine the value of the first line\n",
    "\n",
    "sum(vals)"
   ]
  },
  {
   "cell_type": "markdown",
   "metadata": {},
   "source": [
    "### Puzzle 2"
   ]
  },
  {
   "cell_type": "markdown",
   "metadata": {},
   "source": [
    "Reflection: I was a little worried that my initial solution was going to cause me some trouble on puzzle 2 (like it did on day 8), but all I had to do was change the seq_reducer function to calculate the first value in the sequence, rather than the last value."
   ]
  },
  {
   "cell_type": "code",
   "execution_count": 50,
   "metadata": {},
   "outputs": [
    {
     "data": {
      "text/plain": [
       "1016"
      ]
     },
     "execution_count": 50,
     "metadata": {},
     "output_type": "execute_result"
    }
   ],
   "source": [
    "def seq_reducer2(seq):\n",
    "    new_seq = [seq[i+1] - seq[i] for i in range(len(seq) - 1)]\n",
    "    if any(new_seq): # any of the values in new_seq are not zero\n",
    "        next_seq = seq_reducer2(new_seq)\n",
    "        new_first = new_seq[0] - next_seq[0]\n",
    "        new_seq.insert(0, new_first)       \n",
    "    else:\n",
    "        new_seq.insert(0, 0)\n",
    "    return new_seq\n",
    "\n",
    "vals = []\n",
    "with open(\"input_2023/9.txt\") as f:\n",
    "    for line in f:\n",
    "        seq = [int(num) for num in line.split()]\n",
    "        vals.append(seq[0] - seq_reducer2(seq)[0])\n",
    "sum(vals)"
   ]
  },
  {
   "cell_type": "markdown",
   "metadata": {},
   "source": [
    "Reflection: just for fun, wanted to create a single function that would add both the first and last values"
   ]
  },
  {
   "cell_type": "code",
   "execution_count": 52,
   "metadata": {},
   "outputs": [
    {
     "name": "stdout",
     "output_type": "stream",
     "text": [
      "2098530125 1016\n"
     ]
    }
   ],
   "source": [
    "def seq_reducer3(seq):\n",
    "    new_seq = [seq[i+1] - seq[i] for i in range(len(seq) - 1)]\n",
    "    if any(new_seq): # any of the values in new_seq are not zero\n",
    "        next_seq = seq_reducer3(new_seq)\n",
    "        new_first = new_seq[0] - next_seq[0]\n",
    "        new_seq.insert(0, new_first)  \n",
    "        new_final = next_seq[-1] + new_seq[-1]\n",
    "        new_seq.append(new_final)   \n",
    "    else:\n",
    "        new_seq.insert(0, 0)\n",
    "        new_seq.append(0)\n",
    "    return new_seq\n",
    "\n",
    "endvals = []\n",
    "startvals = []\n",
    "with open(\"input_2023/9.txt\") as f:\n",
    "    for line in f:\n",
    "        seq = [int(num) for num in line.split()]\n",
    "        startvals.append(seq[0] - seq_reducer3(seq)[0])\n",
    "        endvals.append(seq_reducer3(seq)[-1] + seq[-1])\n",
    "print(sum(endvals), sum(startvals))"
   ]
  },
  {
   "cell_type": "markdown",
   "metadata": {},
   "source": [
    "## Day 8"
   ]
  },
  {
   "cell_type": "code",
   "execution_count": 65,
   "metadata": {},
   "outputs": [],
   "source": [
    "import aoc\n",
    "aoc.read_input(\"cookie.txt\", \"input_2023\", 2023, 8)"
   ]
  },
  {
   "cell_type": "markdown",
   "metadata": {},
   "source": [
    "### Puzzle 1"
   ]
  },
  {
   "cell_type": "markdown",
   "metadata": {},
   "source": [
    "Reflection: This seems like it should be a graph traversal problem. I don't think that's strictly necessary for solving Puzzle 1, but I'm betting it will be necessary for puzzle 2"
   ]
  },
  {
   "cell_type": "code",
   "execution_count": 4,
   "metadata": {},
   "outputs": [
    {
     "data": {
      "text/plain": [
       "21409"
      ]
     },
     "execution_count": 4,
     "metadata": {},
     "output_type": "execute_result"
    }
   ],
   "source": [
    "import networkx as nx\n",
    "\n",
    "# Parse input into graph\n",
    "G = nx.DiGraph()\n",
    "\n",
    "with open(\"input_2023/8.txt\") as f:\n",
    "    directions = next(f).strip()\n",
    "    next(f)\n",
    "    for line in f:\n",
    "        nodename, dest_string = line.strip().split(\" = \")\n",
    "        left, right = dest_string[1:-1].split(\", \")\n",
    "        if not (nodename == left and nodename == right):\n",
    "            G.add_edge(nodename, left, direction=\"L\")\n",
    "            G.add_edge(nodename, right, direction=\"R\")\n",
    "\n",
    "# Travel along path according to directions\n",
    "current_node = \"AAA\"\n",
    "counter = 0\n",
    "while current_node != \"ZZZ\":\n",
    "    for direction in directions:\n",
    "        successors = [node for node in G.successors(current_node)]\n",
    "        successor1 = successors[0]\n",
    "        successor2 = successors[-1]\n",
    "        if G.edges[current_node, successor1][\"direction\"] == direction:\n",
    "            current_node = successor1\n",
    "        else: \n",
    "            current_node = successor2\n",
    "        counter += 1\n",
    "counter\n"
   ]
  },
  {
   "cell_type": "markdown",
   "metadata": {},
   "source": [
    "### Puzzle 2"
   ]
  },
  {
   "cell_type": "markdown",
   "metadata": {},
   "source": [
    "Reflection: I was really hoping the second puzzle would just be \"find the shortest path from AAA to ZZZ\", which would have been trivial once the graph was created. My initial naive approach ran for several million loops without finding a point where all paths reached an end node.\n",
    "\n",
    "I realized that each path is going to cycle through end nodes at some periodicity. All paths will be on an end node when all the periods match up, i.e. at the least common multiple of the periods. I looked up an LCM algorithm and tweaked it."
   ]
  },
  {
   "cell_type": "code",
   "execution_count": 195,
   "metadata": {},
   "outputs": [],
   "source": [
    "G = nx.DiGraph()\n",
    "\n",
    "with open(\"input_2023/8.txt\") as f:\n",
    "    directions = next(f).strip()\n",
    "    next(f)\n",
    "    for line in f:\n",
    "        nodename, dest_string = line.strip().split(\" = \")\n",
    "        left, right = dest_string[1:-1].split(\", \")\n",
    "        if not (nodename == left and nodename == right):\n",
    "            G.add_edge(nodename, left, direction=\"L\")\n",
    "            G.add_edge(nodename, right, direction=\"R\")"
   ]
  },
  {
   "cell_type": "code",
   "execution_count": 209,
   "metadata": {},
   "outputs": [
    {
     "name": "stdout",
     "output_type": "stream",
     "text": [
      "[21409, 42818, 64227, 85636, 107045]\n",
      "[14363, 28726, 43089, 57452, 71815]\n",
      "[15989, 31978, 47967, 63956, 79945]\n",
      "[16531, 33062, 49593, 66124, 82655]\n",
      "[19241, 38482, 57723, 76964, 96205]\n",
      "[19783, 39566, 59349, 79132, 98915]\n"
     ]
    }
   ],
   "source": [
    "current_nodes = [node for node in G.nodes if node.endswith(\"A\")]\n",
    "for current_node in current_nodes:\n",
    "    counter = 0\n",
    "    steps_to_end_node = []\n",
    "\n",
    "    while len(steps_to_end_node) < 5:\n",
    "        for direction in directions:\n",
    "            successors = [node for node in G.successors(current_node)]\n",
    "            successor1 = successors[0]\n",
    "            successor2 = successors[-1]\n",
    "            if G.edges[current_node, successor1][\"direction\"] == direction:\n",
    "                current_node = successor1\n",
    "            else: \n",
    "                current_node = successor2\n",
    "            counter += 1\n",
    "            if current_node.endswith(\"Z\"):\n",
    "                steps_to_end_node.append(counter)\n",
    "    print(steps_to_end_node)"
   ]
  },
  {
   "cell_type": "code",
   "execution_count": 214,
   "metadata": {},
   "outputs": [
    {
     "name": "stdout",
     "output_type": "stream",
     "text": [
      "21165830176709\n"
     ]
    }
   ],
   "source": [
    "from functools import reduce\n",
    "\n",
    "def find_lcm(num1, num2):\n",
    "    if(num1>num2):\n",
    "        num = num1\n",
    "        den = num2\n",
    "    else:\n",
    "        num = num2\n",
    "        den = num1\n",
    "    rem = num % den\n",
    "    while(rem != 0):\n",
    "        num = den\n",
    "        den = rem\n",
    "        rem = num % den\n",
    "    gcd = den\n",
    "    lcm = (num1 * num2)//gcd\n",
    "    return lcm\n",
    "\n",
    "lst = [21409, 14363, 15989, 16531, 19241, 19783]\n",
    "lcm = reduce(find_lcm, lst)\n",
    "     \n",
    "print(lcm)"
   ]
  },
  {
   "cell_type": "markdown",
   "metadata": {},
   "source": [
    "## Day 7"
   ]
  },
  {
   "cell_type": "code",
   "execution_count": 28,
   "metadata": {},
   "outputs": [],
   "source": [
    "import aoc\n",
    "aoc.read_input(\"cookie.txt\", \"input_2023\", 2023, 7)"
   ]
  },
  {
   "cell_type": "markdown",
   "metadata": {},
   "source": [
    "Reflection: I wanted to use a function with two parameters as the sort key function, but I didn't know how to do that. I learned that you can wrap the function in a lambda, then pass the lambda function to the key parameter."
   ]
  },
  {
   "cell_type": "code",
   "execution_count": 29,
   "metadata": {},
   "outputs": [
    {
     "data": {
      "text/plain": [
       "250951660"
      ]
     },
     "execution_count": 29,
     "metadata": {},
     "output_type": "execute_result"
    }
   ],
   "source": [
    "def cardscore(line, card):\n",
    "    hand = line[0]\n",
    "    cardval = {\n",
    "        \"1\": 1,\n",
    "        \"2\": 2,\n",
    "        \"3\": 3,\n",
    "        \"4\": 4,\n",
    "        \"5\": 5,\n",
    "        \"6\": 6,\n",
    "        \"7\": 7,\n",
    "        \"8\": 8,\n",
    "        \"9\": 9,\n",
    "        \"T\": 10,\n",
    "        \"J\": 11,\n",
    "        \"Q\": 12,\n",
    "        \"K\": 13,\n",
    "        \"A\": 14\n",
    "    }\n",
    "    return cardval[hand[card]]\n",
    "\n",
    "def handscore(line):\n",
    "    hand = line[0]\n",
    "    handval = {\n",
    "        \"Five of a kind\": 6,\n",
    "        \"Four of a kind\": 5,\n",
    "        \"Full house\": 4,\n",
    "        \"Three of a kind\": 3,\n",
    "        \"Two pair\": 2,\n",
    "        \"One pair\": 1,\n",
    "        \"High card\": 0\n",
    "        \n",
    "    }\n",
    "    firsttest = len(set(hand))\n",
    "    secondtest = max(hand.count(cardval) for cardval in hand)\n",
    "    \n",
    "\n",
    "    if firsttest == 1:\n",
    "        hand_type = \"Five of a kind\"\n",
    "    elif firsttest == 4:\n",
    "        hand_type = \"One pair\"\n",
    "    elif firsttest == 5:\n",
    "        hand_type = \"High card\"\n",
    "    elif secondtest == 4:\n",
    "        hand_type = \"Four of a kind\"\n",
    "    elif secondtest == 2:\n",
    "        hand_type = \"Two pair\"\n",
    "    elif firsttest == 2 and secondtest == 3:\n",
    "        hand_type = \"Full house\"\n",
    "    else:\n",
    "        hand_type = \"Three of a kind\"\n",
    "\n",
    "    return handval[hand_type]\n",
    "    \n",
    "    \n",
    "\n",
    "with open(\"input_2023/7.txt\") as f:\n",
    "    lines = [line.strip().split() for line in f]\n",
    "    \n",
    "    # to sort by cards in order, you have to sort by the last card, then the second to last card, etc\n",
    "    for i in reversed(range(5)):\n",
    "        lines = sorted(lines, key=lambda line: cardscore(line, i))\n",
    "    # then sort by hand type\n",
    "    lines = sorted(lines, key=handscore)\n",
    "    winnings = [int(line[1]) * (i+1) for i, line in enumerate(lines)]\n",
    "\n",
    "sum(winnings)\n",
    "\n"
   ]
  },
  {
   "cell_type": "markdown",
   "metadata": {},
   "source": [
    "### Puzzle 2"
   ]
  },
  {
   "cell_type": "markdown",
   "metadata": {},
   "source": [
    "Reflection: The \"clever\" tests used in puzzle 1 to determine the hand type no longer worked in puzzle 2. I had to rewrite the tests to more explicitly match each possible hand. The solution to the first puzzle turned out to be a premature optimization that I shouldn't have done."
   ]
  },
  {
   "cell_type": "code",
   "execution_count": 64,
   "metadata": {},
   "outputs": [
    {
     "ename": "IndexError",
     "evalue": "list index out of range",
     "output_type": "error",
     "traceback": [
      "\u001b[1;31m---------------------------------------------------------------------------\u001b[0m",
      "\u001b[1;31mIndexError\u001b[0m                                Traceback (most recent call last)",
      "\u001b[1;32m~\\AppData\\Local\\Temp\\1\\ipykernel_40076\\779098286.py\u001b[0m in \u001b[0;36m<cell line: 87>\u001b[1;34m()\u001b[0m\n\u001b[0;32m     92\u001b[0m         \u001b[0mlines\u001b[0m \u001b[1;33m=\u001b[0m \u001b[0msorted\u001b[0m\u001b[1;33m(\u001b[0m\u001b[0mlines\u001b[0m\u001b[1;33m,\u001b[0m \u001b[0mkey\u001b[0m\u001b[1;33m=\u001b[0m\u001b[1;32mlambda\u001b[0m \u001b[0mline\u001b[0m\u001b[1;33m:\u001b[0m \u001b[0mcardscore\u001b[0m\u001b[1;33m(\u001b[0m\u001b[0mline\u001b[0m\u001b[1;33m,\u001b[0m \u001b[0mi\u001b[0m\u001b[1;33m)\u001b[0m\u001b[1;33m)\u001b[0m\u001b[1;33m\u001b[0m\u001b[1;33m\u001b[0m\u001b[0m\n\u001b[0;32m     93\u001b[0m     \u001b[1;31m# then sort by hand type\u001b[0m\u001b[1;33m\u001b[0m\u001b[1;33m\u001b[0m\u001b[0m\n\u001b[1;32m---> 94\u001b[1;33m     \u001b[0mlines\u001b[0m \u001b[1;33m=\u001b[0m \u001b[0msorted\u001b[0m\u001b[1;33m(\u001b[0m\u001b[0mlines\u001b[0m\u001b[1;33m,\u001b[0m \u001b[0mkey\u001b[0m\u001b[1;33m=\u001b[0m\u001b[0mhandscore2\u001b[0m\u001b[1;33m)\u001b[0m\u001b[1;33m\u001b[0m\u001b[1;33m\u001b[0m\u001b[0m\n\u001b[0m\u001b[0;32m     95\u001b[0m     \u001b[0mwinnings\u001b[0m \u001b[1;33m=\u001b[0m \u001b[1;33m[\u001b[0m\u001b[0mint\u001b[0m\u001b[1;33m(\u001b[0m\u001b[0mline\u001b[0m\u001b[1;33m[\u001b[0m\u001b[1;36m1\u001b[0m\u001b[1;33m]\u001b[0m\u001b[1;33m)\u001b[0m \u001b[1;33m*\u001b[0m \u001b[1;33m(\u001b[0m\u001b[0mi\u001b[0m\u001b[1;33m+\u001b[0m\u001b[1;36m1\u001b[0m\u001b[1;33m)\u001b[0m \u001b[1;32mfor\u001b[0m \u001b[0mi\u001b[0m\u001b[1;33m,\u001b[0m \u001b[0mline\u001b[0m \u001b[1;32min\u001b[0m \u001b[0menumerate\u001b[0m\u001b[1;33m(\u001b[0m\u001b[0mlines\u001b[0m\u001b[1;33m)\u001b[0m\u001b[1;33m]\u001b[0m\u001b[1;33m\u001b[0m\u001b[1;33m\u001b[0m\u001b[0m\n\u001b[0;32m     96\u001b[0m \u001b[1;33m\u001b[0m\u001b[0m\n",
      "\u001b[1;32m~\\AppData\\Local\\Temp\\1\\ipykernel_40076\\779098286.py\u001b[0m in \u001b[0;36mhandscore2\u001b[1;34m(line)\u001b[0m\n\u001b[0;32m     45\u001b[0m     \u001b[1;32melif\u001b[0m \u001b[0mtest\u001b[0m\u001b[1;33m[\u001b[0m\u001b[1;36m0\u001b[0m\u001b[1;33m]\u001b[0m \u001b[1;33m==\u001b[0m \u001b[1;36m4\u001b[0m\u001b[1;33m:\u001b[0m\u001b[1;33m\u001b[0m\u001b[1;33m\u001b[0m\u001b[0m\n\u001b[0;32m     46\u001b[0m         \u001b[0mhand_type\u001b[0m \u001b[1;33m=\u001b[0m \u001b[1;34m\"Four of a kind\"\u001b[0m\u001b[1;33m\u001b[0m\u001b[1;33m\u001b[0m\u001b[0m\n\u001b[1;32m---> 47\u001b[1;33m     \u001b[1;32melif\u001b[0m \u001b[0mtest\u001b[0m\u001b[1;33m[\u001b[0m\u001b[1;36m0\u001b[0m\u001b[1;33m]\u001b[0m \u001b[1;33m==\u001b[0m \u001b[1;36m3\u001b[0m \u001b[1;32mand\u001b[0m \u001b[0mtest\u001b[0m\u001b[1;33m[\u001b[0m\u001b[1;36m1\u001b[0m\u001b[1;33m]\u001b[0m \u001b[1;33m==\u001b[0m \u001b[1;36m2\u001b[0m \u001b[1;33m:\u001b[0m\u001b[1;33m\u001b[0m\u001b[1;33m\u001b[0m\u001b[0m\n\u001b[0m\u001b[0;32m     48\u001b[0m         \u001b[0mhand_type\u001b[0m \u001b[1;33m=\u001b[0m \u001b[1;34m\"Full house\"\u001b[0m\u001b[1;33m\u001b[0m\u001b[1;33m\u001b[0m\u001b[0m\n\u001b[0;32m     49\u001b[0m     \u001b[1;32melif\u001b[0m \u001b[0mtest\u001b[0m\u001b[1;33m[\u001b[0m\u001b[1;36m0\u001b[0m\u001b[1;33m]\u001b[0m \u001b[1;33m==\u001b[0m \u001b[1;36m3\u001b[0m\u001b[1;33m:\u001b[0m\u001b[1;33m\u001b[0m\u001b[1;33m\u001b[0m\u001b[0m\n",
      "\u001b[1;31mIndexError\u001b[0m: list index out of range"
     ]
    }
   ],
   "source": [
    "def cardscore(line, card):\n",
    "    hand = line[0]\n",
    "    cardval = {\n",
    "        \"1\": 1,\n",
    "        \"2\": 2,\n",
    "        \"3\": 3,\n",
    "        \"4\": 4,\n",
    "        \"5\": 5,\n",
    "        \"6\": 6,\n",
    "        \"7\": 7,\n",
    "        \"8\": 8,\n",
    "        \"9\": 9,\n",
    "        \"T\": 10,\n",
    "        \"J\": 0,\n",
    "        \"Q\": 12,\n",
    "        \"K\": 13,\n",
    "        \"A\": 14\n",
    "    }\n",
    "    return cardval[hand[card]]\n",
    "\n",
    "def handscore2(line):\n",
    "    hand = line[0]\n",
    "    \n",
    "    handval = {\n",
    "        \"Five of a kind\": 6,\n",
    "        \"Four of a kind\": 5,\n",
    "        \"Full house\": 4,\n",
    "        \"Three of a kind\": 3,\n",
    "        \"Two pair\": 2,\n",
    "        \"One pair\": 1,\n",
    "        \"High card\": 0\n",
    "        \n",
    "    }\n",
    "\n",
    "    # remove all jokers\n",
    "    jokers = len(hand) - len(hand.replace(\"J\", \"\"))\n",
    "    hand = hand.replace(\"J\", \"\")\n",
    "\n",
    "    # count numbers of card duplicates\n",
    "    test = sorted([hand.count(cardval) for cardval in set(hand)], reverse=True)\n",
    "\n",
    "    # Python 3.9, so no structural pattern matching\n",
    "    if jokers == 5 or test[0] == 5:\n",
    "        hand_type = \"Five of a kind\"\n",
    "    elif test[0] == 4:\n",
    "        hand_type = \"Four of a kind\"\n",
    "    elif len(hand) == 5 and test[0] == 3 and test[1] == 2 :\n",
    "        hand_type = \"Full house\"\n",
    "    elif test[0] == 3:\n",
    "        hand_type = \"Three of a kind\"\n",
    "    elif len(hand) >= 4 and test[0] == 2 and test[1] == 2:\n",
    "        hand_type = \"Two pair\"\n",
    "    elif test[0] == 2:\n",
    "        hand_type = \"One pair\"\n",
    "    else:\n",
    "        hand_type = \"High card\"\n",
    "\n",
    "    # Change the hand type based on original + number of jokers\n",
    "    joker_transform = {\n",
    "        1: {\n",
    "            \"Four of a kind\": \"Five of a kind\",\n",
    "            \"Three of a kind\": \"Four of a kind\",\n",
    "            \"Two pair\": \"Full house\",\n",
    "            \"One pair\": \"Three of a kind\",\n",
    "            \"High card\": \"One pair\" \n",
    "        },\n",
    "        2: {\n",
    "            \"Three of a kind\": \"Five of a kind\",\n",
    "            \"One pair\": \"Four of a kind\",\n",
    "            \"High card\": \"Three of a kind\"    \n",
    "        },\n",
    "        3: {\n",
    "            \"One pair\": \"Five of a kind\",\n",
    "            \"High card\": \"Four of a kind\"\n",
    "        },\n",
    "\n",
    "        4: {\n",
    "            \"High card\": \"Five of a kind\"\n",
    "        }\n",
    "    }\n",
    "\n",
    "    if jokers <= 4 and jokers > 0:\n",
    "        hand_type = joker_transform[jokers][hand_type]\n",
    "    \n",
    "    return handval[hand_type]\n",
    "\n",
    "with open(\"input_2023/7.txt\") as f:\n",
    "    lines = [line.strip().split() for line in f]\n",
    "    \n",
    "    # to sort by cards in order, you have to sort by the last card, then the second to last card, etc\n",
    "    for i in reversed(range(5)):\n",
    "        lines = sorted(lines, key=lambda line: cardscore(line, i))\n",
    "    # then sort by hand type\n",
    "    lines = sorted(lines, key=handscore2)\n",
    "    winnings = [int(line[1]) * (i+1) for i, line in enumerate(lines)]\n",
    "\n",
    "sum(winnings)"
   ]
  },
  {
   "cell_type": "markdown",
   "metadata": {},
   "source": [
    "## Day 6"
   ]
  },
  {
   "cell_type": "code",
   "execution_count": 303,
   "metadata": {},
   "outputs": [],
   "source": [
    "import aoc\n",
    "aoc.read_input(\"cookie.txt\", \"input_2023\", 2023, 6)"
   ]
  },
  {
   "cell_type": "markdown",
   "metadata": {},
   "source": [
    "### Puzzle 1"
   ]
  },
  {
   "cell_type": "markdown",
   "metadata": {},
   "source": [
    "Reflection: The trick to this one is to not loop through every possible combination, but to realize it is a math problem. The distance (d) the boat travels is velocity (v) times move time (m). The move time is equal to the race time (t) - button time (b). The velocity is equal to the button time. That means\n",
    "\n",
    "d = vm\n",
    "\n",
    "m = t - b\n",
    "\n",
    "v = b\n",
    "\n",
    "d = b(t - b)\n",
    "\n",
    "d = -b<sup>2</sup> + tb\n",
    "\n",
    "we need to know when distance is greater than the record distance (r), which is when\n",
    "\n",
    "-b<sup>2</sup> + tb - r > 0\n",
    "\n",
    "you can use the quadradic formula to figure out the values of b that satisfy this inequality"
   ]
  },
  {
   "cell_type": "code",
   "execution_count": 358,
   "metadata": {},
   "outputs": [
    {
     "data": {
      "text/plain": [
       "2344708"
      ]
     },
     "execution_count": 358,
     "metadata": {},
     "output_type": "execute_result"
    }
   ],
   "source": [
    "# parse the input\n",
    "from collections import namedtuple\n",
    "import math\n",
    "from functools import reduce\n",
    "Race = namedtuple(\"Race\", \"time distance\")\n",
    "with open(\"input_2023/6.txt\") as f:\n",
    "    racetimes = next(f).split(\":\")[1].split()\n",
    "    racedistances = next(f).split(\":\")[1].split()\n",
    "    races = [Race(int(time), int(dist)) for time, dist in zip(racetimes, racedistances)]\n",
    "\n",
    "def num_win_options(a, b, c):\n",
    "    # quadradic formula\n",
    "    discriminant = math.sqrt(b**2 - 4*a*c)\n",
    "    firstroot = (-1*b + discriminant)/(2*a)\n",
    "    secondroot = (-1*b - discriminant)/(2*a)\n",
    "    \n",
    "    # find first integer larger than firstroot (min button time to win)\n",
    "    min_button_time = firstroot+1 if firstroot.is_integer() else math.ceil(firstroot)\n",
    "    \n",
    "    # find last integer smaller than secondroot (max button time to win)\n",
    "    max_button_time = secondroot-1 if secondroot.is_integer() else math.floor(secondroot)\n",
    "\n",
    "    win_options = max_button_time - min_button_time + 1\n",
    "    return win_options\n",
    "\n",
    "\n",
    "num_ways_to_win = []\n",
    "\n",
    "for race in races:\n",
    "    ways_to_win = num_win_options(-1, race.time, -1*race.distance)\n",
    "    num_ways_to_win.append(ways_to_win)\n",
    "\n",
    "reduce((lambda x, y: x*y), num_ways_to_win)"
   ]
  },
  {
   "cell_type": "markdown",
   "metadata": {},
   "source": [
    "### Puzzle 2"
   ]
  },
  {
   "cell_type": "markdown",
   "metadata": {},
   "source": [
    "Reflection: You can solve the second puzzle the same way"
   ]
  },
  {
   "cell_type": "code",
   "execution_count": 360,
   "metadata": {},
   "outputs": [
    {
     "name": "stdout",
     "output_type": "stream",
     "text": [
      "30125202\n"
     ]
    }
   ],
   "source": [
    "# Parse the input\n",
    "with open(\"input_2023/6.txt\") as f:\n",
    "    racetime = int(next(f).split(\":\")[1].replace(\" \", \"\"))\n",
    "    racedistance = int(next(f).split(\":\")[1].replace(\" \", \"\"))\n",
    "\n",
    "ways_to_win = num_win_options(-1, racetime, -1*racedistance)\n",
    "print(ways_to_win)"
   ]
  },
  {
   "cell_type": "markdown",
   "metadata": {},
   "source": [
    "## Day 5"
   ]
  },
  {
   "cell_type": "code",
   "execution_count": 1,
   "metadata": {},
   "outputs": [],
   "source": [
    "import aoc\n",
    "aoc.read_input(\"cookie.txt\", \"input_2023\", 2023, 5)"
   ]
  },
  {
   "cell_type": "markdown",
   "metadata": {},
   "source": [
    "### Puzzle 1"
   ]
  },
  {
   "cell_type": "markdown",
   "metadata": {},
   "source": [
    "Reflection: Parsing the file was tricky, but my solution still didn't work even after I was sure I was parsing the file correctly. It turned out that the problem was after setting a new value from the mapping, it was using the same mapping (e.g. after changing soil to fertilizer, the code continued to use the soil-to-fertilizer map instead of moving to the fertilizer-to-water map). The skip_remaining value tells the loop to continue until it encounters a new mapping"
   ]
  },
  {
   "cell_type": "code",
   "execution_count": 208,
   "metadata": {},
   "outputs": [
    {
     "data": {
      "text/plain": [
       "289863851"
      ]
     },
     "execution_count": 208,
     "metadata": {},
     "output_type": "execute_result"
    }
   ],
   "source": [
    "# Parse puzzle input\n",
    "\n",
    "def find_location(source, f):\n",
    "    source_type = \"seed\"\n",
    "    skip_remaining = False\n",
    "    next(f) # skip first line w/ seed numbers\n",
    "    for line in f:\n",
    "        if line.strip().endswith(\":\"): # new map\n",
    "\n",
    "            active_map = line.strip()[:-4]\n",
    "            #print(f\"{source_type}: {source}\")\n",
    "            source_type = active_map.split(\"-\")[-1]\n",
    "            skip_remaining = False\n",
    "            continue\n",
    "        \n",
    "        if skip_remaining: # don't parse input until you get to a line defining a new mapping\n",
    "            continue\n",
    "        elif len(line.strip()) == 0: # empty lines\n",
    "            continue\n",
    "        else:\n",
    "            dest_start, source_start, length  = [int(val) for val in line.split()]\n",
    "            \n",
    "            if source >= source_start and source <= source_start + length:\n",
    "                source = dest_start + source - source_start\n",
    "                skip_remaining = True\n",
    "    return(source)\n",
    "        \n",
    "# Get seed numbers\n",
    "with open(\"input_2023/5.txt\") as f:\n",
    "    seeds = [int(seed) for seed in next(f).split(\":\")[1].split()]\n",
    "\n",
    "locs = []\n",
    "for seed in seeds:\n",
    "    with open(\"input_2023/5.txt\") as f:\n",
    "        loc = find_location(seed, f)\n",
    "        locs.append(loc)\n",
    "min(locs)"
   ]
  },
  {
   "cell_type": "markdown",
   "metadata": {},
   "source": [
    "### Puzzle 2"
   ]
  },
  {
   "cell_type": "markdown",
   "metadata": {},
   "source": [
    "Puzzle 1 deals with 20 seeds. Puzzle 2 deals with over 1 billion seeds. Looping over the entire file for every seed is not going to work. I tried a few different strategies, like converting the maps into graphs, but I was not able to solve this problem."
   ]
  },
  {
   "cell_type": "markdown",
   "metadata": {},
   "source": [
    "## Day 4    "
   ]
  },
  {
   "cell_type": "code",
   "execution_count": 393,
   "metadata": {},
   "outputs": [],
   "source": [
    "import aoc\n",
    "aoc.read_input(\"cookie.txt\", \"input_2023\", 2023, 4)"
   ]
  },
  {
   "cell_type": "markdown",
   "metadata": {},
   "source": [
    "### Puzzle 1"
   ]
  },
  {
   "cell_type": "code",
   "execution_count": 408,
   "metadata": {},
   "outputs": [
    {
     "data": {
      "text/plain": [
       "21138"
      ]
     },
     "execution_count": 408,
     "metadata": {},
     "output_type": "execute_result"
    }
   ],
   "source": [
    "total = []\n",
    "with open(\"input_2023/4.txt\") as f:\n",
    "    for rowtext in [line.split(\":\")[1].split(\"|\") for line in aoc.parse_lines(f)]:\n",
    "        winners, numbers = rowtext\n",
    "        winners = winners.split()\n",
    "        numbers = numbers.split()\n",
    "        matches = 0\n",
    "        for number in numbers:\n",
    "            if number in winners:\n",
    "                matches += 1\n",
    "        score = 2 ** (matches - 1) if matches > 0 else 0\n",
    "        total.append(score)\n",
    "sum(total)\n"
   ]
  },
  {
   "cell_type": "markdown",
   "metadata": {},
   "source": [
    "### Puzzle 2"
   ]
  },
  {
   "cell_type": "markdown",
   "metadata": {},
   "source": [
    "Reflection: I was worried that the brute force approach used here of several nested loops would result in an unacceptably long run time. That turned out not the be the case, however."
   ]
  },
  {
   "cell_type": "code",
   "execution_count": 436,
   "metadata": {},
   "outputs": [
    {
     "data": {
      "text/plain": [
       "7185540"
      ]
     },
     "execution_count": 436,
     "metadata": {},
     "output_type": "execute_result"
    }
   ],
   "source": [
    "# Create a dictionary of cards in the form {cardnum1: nummatches, cardnum2: nummatches}\n",
    "carddict = {}\n",
    "with open(\"input_2023/4.txt\") as f:\n",
    "    for i, rowtext in enumerate([line.split(\":\")[1].split(\"|\") for line in aoc.parse_lines(f)]):\n",
    "        winners, numbers = rowtext\n",
    "        winners = winners.split()\n",
    "        numbers = numbers.split()\n",
    "        matches = 0\n",
    "        for number in numbers:\n",
    "            if number in winners:\n",
    "                matches += 1\n",
    "        carddict[i+1] = matches\n",
    "\n",
    "# Create a dictionary holding the number of copies of each card\n",
    "cardcopies = {k:1 for k in carddict.keys()}\n",
    "\n",
    "# Update the cardcopies dictionary\n",
    "for cardnum, matches in carddict.items():\n",
    "    for i in range(cardcopies[cardnum]):\n",
    "        for i in range(cardnum+1, cardnum+matches+1):\n",
    "            cardcopies[i] += 1\n",
    "\n",
    "# total number of cards\n",
    "sum(cardcopies.values())\n"
   ]
  },
  {
   "cell_type": "code",
   "execution_count": 422,
   "metadata": {},
   "outputs": [
    {
     "data": {
      "text/plain": [
       "dict_items([(1, 4), (2, 2), (3, 2), (4, 1), (5, 0), (6, 0)])"
      ]
     },
     "execution_count": 422,
     "metadata": {},
     "output_type": "execute_result"
    }
   ],
   "source": [
    "carddict.items()"
   ]
  },
  {
   "cell_type": "markdown",
   "metadata": {},
   "source": [
    "## Day 3"
   ]
  },
  {
   "cell_type": "code",
   "execution_count": 122,
   "metadata": {},
   "outputs": [],
   "source": [
    "import aoc\n",
    "aoc.read_input(\"cookie.txt\", \"input_2023\", 2023, 3)"
   ]
  },
  {
   "cell_type": "markdown",
   "metadata": {},
   "source": [
    "### Puzzle 1"
   ]
  },
  {
   "cell_type": "markdown",
   "metadata": {},
   "source": [
    "Reflection: I really struggled with this one. This solution is undoubtedly far more complex than necessary, but I was unable to find a simpler one."
   ]
  },
  {
   "cell_type": "code",
   "execution_count": 389,
   "metadata": {},
   "outputs": [],
   "source": [
    "# parse input into 2-d numpy array and get list of symbols\n",
    "import numpy as np\n",
    "symbols = []\n",
    "inputmatrix = []\n",
    "with open(\"input_2023/3.txt\") as f:\n",
    "    for rowtext in [line for line in aoc.parse_lines(f)]:\n",
    "        row = []\n",
    "        for char in rowtext:\n",
    "            row.append(char)\n",
    "            if not char.isdigit() and char != \".\":\n",
    "                if char not in symbols:\n",
    "                    symbols.append(char)\n",
    "        inputmatrix.append(row)\n",
    "\n",
    "schematic = np.array(inputmatrix)\n",
    "\n",
    "# pad the schematic to make moving window easier\n",
    " \n",
    "schematic = np.pad(schematic, 1, \"constant\", constant_values=\".\")\n",
    "\n"
   ]
  },
  {
   "cell_type": "code",
   "execution_count": 327,
   "metadata": {},
   "outputs": [],
   "source": [
    "# recursive function to extend window search to find part number, and the end column to search for symbols\n",
    "\n",
    "def partnum(schematic, i, jstart, jend):\n",
    "    number_window = schematic[i, jstart:jend]\n",
    "    if all(char.isdigit() for char in number_window):\n",
    "        partnumber, jend = partnum(schematic, i, jstart, jend+1)\n",
    "    else: \n",
    "        partnumber = int(\"\".join([char for char in number_window if char.isdigit()]))\n",
    "    return partnumber, jend"
   ]
  },
  {
   "cell_type": "code",
   "execution_count": 392,
   "metadata": {},
   "outputs": [
    {
     "data": {
      "text/plain": [
       "535235"
      ]
     },
     "execution_count": 392,
     "metadata": {},
     "output_type": "execute_result"
    }
   ],
   "source": [
    "height, width = schematic.shape\n",
    "partnumbers = []\n",
    "for i in range(1, height-1):\n",
    "    continues = 0\n",
    "    for j in range(1, width-1):\n",
    "        \n",
    "        # continue to skip past later digits in the part number\n",
    "        if continues > 0:\n",
    "                continues -= 1\n",
    "                continue\n",
    "        char = schematic[i, j]\n",
    "        if char.isdigit():\n",
    "            \n",
    "            partnumber, jend = partnum(schematic, i, j, j+1)\n",
    "            continues = jend - j - 2\n",
    "            symbol_window = schematic[i-1:i+2, j-1:jend]\n",
    "            for symbol in symbols:\n",
    "                if symbol in symbol_window:\n",
    "                    partnumbers.append(partnumber)\n",
    "sum(partnumbers)\n",
    "                    \n",
    "                \n"
   ]
  },
  {
   "cell_type": "markdown",
   "metadata": {},
   "source": [
    "## Puzzle 2"
   ]
  },
  {
   "cell_type": "markdown",
   "metadata": {},
   "source": [
    "Reflection: In Puzzle 1, I found symbols next to part numbers, as opposed to part numbers next to symbols. So I wasn't able to use as much of the part 1 solution as I would have liked. The function to rewrite part numbers into the numpy array still proved useful.\n",
    "\n",
    "One other challenge was that part numbers can repeat, a pattern that isn't present in the example. I originally tried using sets and set length to find gear symbols that had exactly two different numbers, but that didn't work because part numbers are allowed to repeat (including repeating adjacent to the same symbol). Because of the way the rewriter function works, in a single row, repeating numbers adjacent to each other must belong to the same indvidual part (not different copies of the same part number). I learned that there is an itertools function groupby that collapses consecutive values in a list, which is useful for this.\n",
    "\n",
    "This solution incorporates the solution to both puzzles."
   ]
  },
  {
   "cell_type": "code",
   "execution_count": 391,
   "metadata": {},
   "outputs": [
    {
     "name": "stdout",
     "output_type": "stream",
     "text": [
      "535235\n",
      "79844424\n"
     ]
    }
   ],
   "source": [
    "height, width = schematic.shape\n",
    "schematic_copy = schematic.astype(\"<U16\")\n",
    "\n",
    "from functools import reduce\n",
    "from itertools import groupby \n",
    "\n",
    "# rewrite the schematic so that every cell with a part number includes the entire part number (not just a single digit)\n",
    "for i in range(1, height-1):\n",
    "    continues = 0\n",
    "    for j in range(1, width-1):\n",
    "        \n",
    "        # continue to skip past later digits in the part number\n",
    "        if continues > 0:\n",
    "                continues -= 1\n",
    "                schematic_copy[i, j] = partnumber\n",
    "                continue\n",
    "        char = schematic[i, j]\n",
    "        if char.isdigit():\n",
    "            \n",
    "            partnumber, jend = partnum(schematic, i, j, j+1)\n",
    "            continues = jend - j - 2\n",
    "            schematic_copy[i, j] = str(partnumber)\n",
    "\n",
    "# Find all symbols in input, check adjacent cells for part numbers\n",
    "partnumbers = []\n",
    "powers = []\n",
    "for i in range(1, height-1):\n",
    "    for j in range(1, width-1):\n",
    "        if schematic[i, j] in symbols:\n",
    "            parts = []\n",
    "            schematic_window = schematic_copy[i-1:i+2, j-1:j+2]\n",
    "            for row in schematic_window:\n",
    "                 rowparts = [int(i[0]) for i in groupby(row) if i[0].isdigit()] # remove adjacent part numbers, which must be the same part\n",
    "                 parts.extend(rowparts)\n",
    "            partnumbers.extend(parts)\n",
    "            if len(parts) == 2 and schematic[i, j] == \"*\": # find parts next to gears\n",
    "                power = reduce((lambda x, y: int(x)*int(y)), parts)\n",
    "                powers.append(power)\n",
    "print(sum(partnumbers))\n",
    "print(sum(powers))"
   ]
  },
  {
   "cell_type": "markdown",
   "metadata": {},
   "source": [
    "## Day 2"
   ]
  },
  {
   "cell_type": "code",
   "execution_count": 1,
   "metadata": {},
   "outputs": [],
   "source": [
    "import aoc\n",
    "aoc.read_input(\"cookie.txt\", \"input_2023\", 2023, 2)"
   ]
  },
  {
   "cell_type": "markdown",
   "metadata": {},
   "source": [
    "### Puzzle 1"
   ]
  },
  {
   "cell_type": "markdown",
   "metadata": {},
   "source": [
    "Reflection: By far the hardest part of this puzzle for me was figuring out how to parse the input into a data structure that I could use. Once that was done, both puzzles were fairly easy."
   ]
  },
  {
   "cell_type": "code",
   "execution_count": 99,
   "metadata": {},
   "outputs": [
    {
     "data": {
      "text/plain": [
       "2528"
      ]
     },
     "execution_count": 99,
     "metadata": {},
     "output_type": "execute_result"
    }
   ],
   "source": [
    "# parse the input into a dictionary of lists of dictionaries of the form:\n",
    "# {gameid: [{\"blue\": n, \"red\": n, \"green\": n}]}\n",
    "with open(\"input_2023/2.txt\") as f:\n",
    "    lines = [line for line in f.read().strip().split(\"\\n\")]\n",
    "    gamedict = {}\n",
    "    for line in lines:\n",
    "        gameid, results = line.split(\":\")\n",
    "        gameid = int(gameid.split()[-1])\n",
    "        results = results.strip()\n",
    "        results = results.split(\";\")\n",
    "        resultlist = []\n",
    "        for result in results:\n",
    "            draws = [draw.split() for draw in result.split(\",\")]\n",
    "            drawdict = {k: int(v) for v, k in draws}\n",
    "            resultlist.append(drawdict)\n",
    "        results = resultlist\n",
    "        gamedict[gameid] = results\n",
    "\n",
    "\n",
    "\n",
    "# find if a single game had no reported dice draws exceed the maximum, else return 0\n",
    "\n",
    "def resultchecker(results, maxdict):\n",
    "    for result in results:\n",
    "        for key in [\"red\", \"green\", \"blue\"]:\n",
    "            if not key in result or result[key] <= maxdict[key]:\n",
    "                pass\n",
    "            else: return 0\n",
    "    return game\n",
    "\n",
    "maxdict = {\n",
    "    \"red\": 12, \n",
    "    \"green\": 13, \n",
    "    \"blue\": 14\n",
    "}\n",
    "\n",
    "# Add the game ids of those games together\n",
    "possiblegames = []\n",
    "for game, results in gamedict.items():\n",
    "    possiblegames.append(resultchecker(results, maxdict))\n",
    "\n",
    "sum(possiblegames)\n",
    "\n"
   ]
  },
  {
   "cell_type": "markdown",
   "metadata": {},
   "source": [
    "### Puzzle 2"
   ]
  },
  {
   "cell_type": "markdown",
   "metadata": {},
   "source": [
    "Reflection: I didn't know how to multiply all the elements of a list together. The code for the reduce function I looked up online, and didn't really understand how it worked at first. When I looked up reduce, I learned that reduce works by taking the first two elements of an iterable and passing them to a function. The result of that function and the next element in the iterable are passed to the function again, until the iterable is exhausted.\n",
    "\n",
    "So in this case, the lambda function multiplies the two arguments. Reduce takes the first two elements of the list and passes them to the lambda function. Then it passes that result to the lambda function along with the next element (the original 3rd element). It just keeps doing that until it runs out of elements and returns the single result."
   ]
  },
  {
   "cell_type": "code",
   "execution_count": 100,
   "metadata": {},
   "outputs": [
    {
     "data": {
      "text/plain": [
       "67363"
      ]
     },
     "execution_count": 100,
     "metadata": {},
     "output_type": "execute_result"
    }
   ],
   "source": [
    "\n",
    "from functools import reduce \n",
    "\n",
    "powers = []\n",
    "\n",
    "for game, results in gamedict.items():\n",
    "    # find the min number of each color die in the bag (i.e. the max number of dice of that color in a single draw)\n",
    "    mindict = {\n",
    "        \"red\": 0,\n",
    "        \"green\": 0,\n",
    "        \"blue\": 0\n",
    "    }\n",
    "    for result in results:\n",
    "        for dice, num in result.items():\n",
    "            if num > mindict[dice]:\n",
    "                mindict[dice] = num\n",
    "\n",
    "    # Multiply the min dice values to find the \"power\" of each game\n",
    "    power = reduce((lambda x, y: x * y), mindict.values())\n",
    "\n",
    "\n",
    "    powers.append(power)\n",
    "\n",
    "# Add the powers of each game together\n",
    "sum(powers)"
   ]
  },
  {
   "cell_type": "markdown",
   "metadata": {},
   "source": [
    "## Day 1"
   ]
  },
  {
   "cell_type": "code",
   "execution_count": 3,
   "metadata": {},
   "outputs": [],
   "source": [
    "import aoc\n",
    "aoc.read_input(\"cookie.txt\", \"input_2023\", 2023, 1)"
   ]
  },
  {
   "cell_type": "markdown",
   "metadata": {},
   "source": [
    "Reflection: not super happy with this solution, feel like there's got to be a better way to do this."
   ]
  },
  {
   "cell_type": "markdown",
   "metadata": {},
   "source": [
    "### Puzzle 1"
   ]
  },
  {
   "cell_type": "code",
   "execution_count": 19,
   "metadata": {},
   "outputs": [
    {
     "data": {
      "text/plain": [
       "55090"
      ]
     },
     "execution_count": 19,
     "metadata": {},
     "output_type": "execute_result"
    }
   ],
   "source": [
    "with open(\"input_2023/1.txt\") as f:\n",
    "    numlist = []\n",
    "    for line in f:\n",
    "        nums = \"\".join([char for char in line if char.isdigit()])\n",
    "        num = int(f\"{nums[0]}{nums[-1]}\")\n",
    "        numlist.append(num)\n",
    "sum(numlist)"
   ]
  },
  {
   "cell_type": "markdown",
   "metadata": {},
   "source": [
    "Reflection: The second puzzle was pretty tricky. The overlapping number strings (like \"eightwo\") made parsing it much more difficult. This probably would have ben more elegant with regex. But I'm not good enough with regex to actually figure out how to do it: \"I had a problem, so I tried to solve it with regex. Now I have two problems\""
   ]
  },
  {
   "cell_type": "markdown",
   "metadata": {},
   "source": [
    "### Puzzle 2"
   ]
  },
  {
   "cell_type": "code",
   "execution_count": 51,
   "metadata": {},
   "outputs": [
    {
     "data": {
      "text/plain": [
       "281"
      ]
     },
     "execution_count": 51,
     "metadata": {},
     "output_type": "execute_result"
    }
   ],
   "source": [
    "numdict = {\n",
    "    \"1\": \"1\",\n",
    "    \"2\": \"2\",\n",
    "    \"3\": \"3\",\n",
    "    \"4\": \"4\",\n",
    "    \"5\": \"5\",\n",
    "    \"6\": \"6\",\n",
    "    \"7\": \"7\",\n",
    "    \"8\": \"8\",\n",
    "    \"9\": \"9\",\n",
    "    \"one\": \"1\",\n",
    "    \"two\": \"2\",\n",
    "    \"three\": \"3\",\n",
    "    \"four\": \"4\",\n",
    "    \"five\": \"5\",\n",
    "    \"six\": \"6\",\n",
    "    \"seven\": \"7\",\n",
    "    \"eight\": \"8\",\n",
    "    \"nine\": \"9\"\n",
    "}\n",
    "numlist = []\n",
    "with open(\"input_2023/1.txt\") as f:\n",
    "    lines = [line for line in f.read().strip().split(\"\\n\")]\n",
    "    numlist = []\n",
    "    for line in lines:\n",
    "        firstkey = sorted([(line.find(numtext), numtext) for numtext in numdict.keys() if line.find(numtext) >= 0])[0][1]\n",
    "        lastkey = sorted([(line.rfind(numtext), numtext) for numtext in numdict.keys() if line.find(numtext) >= 0])[-1][1]\n",
    "        num = int(f\"{numdict[firstkey]}{numdict[lastkey]}\")\n",
    "        numlist.append(num)\n",
    "sum(numlist)\n"
   ]
  }
 ],
 "metadata": {
  "kernelspec": {
   "display_name": "arcgispro-py3",
   "language": "python",
   "name": "python3"
  },
  "language_info": {
   "codemirror_mode": {
    "name": "ipython",
    "version": 3
   },
   "file_extension": ".py",
   "mimetype": "text/x-python",
   "name": "python",
   "nbconvert_exporter": "python",
   "pygments_lexer": "ipython3",
   "version": "3.9.18"
  }
 },
 "nbformat": 4,
 "nbformat_minor": 2
}

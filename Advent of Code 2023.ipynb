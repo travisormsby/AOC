{
 "cells": [
  {
   "cell_type": "markdown",
   "metadata": {},
   "source": [
    "## Day 1"
   ]
  },
  {
   "cell_type": "markdown",
   "metadata": {},
   "source": [
    "Reflection: The second puzzle was pretty tricky. The overlapping number strings (like \"eightwo\") made parsing it much more difficult. This probably would have ben more elegant with regex. But I'm not good enough with regex to actually figure out how to do it: \"I had a problem, so I tried to solve it with regex. Now I have two problems\""
   ]
  },
  {
   "cell_type": "code",
   "execution_count": 3,
   "metadata": {},
   "outputs": [],
   "source": [
    "import aoc\n",
    "aoc.read_input(\"cookie.txt\", \"input_2023\", 2023, 1)"
   ]
  },
  {
   "cell_type": "markdown",
   "metadata": {},
   "source": [
    "### Puzzle 1"
   ]
  },
  {
   "cell_type": "code",
   "execution_count": 19,
   "metadata": {},
   "outputs": [
    {
     "data": {
      "text/plain": [
       "55090"
      ]
     },
     "execution_count": 19,
     "metadata": {},
     "output_type": "execute_result"
    }
   ],
   "source": [
    "with open(\"input_2023/1.txt\") as f:\n",
    "    numlist = []\n",
    "    for line in f:\n",
    "        nums = \"\".join([char for char in line if char.isdigit()])\n",
    "        num = int(f\"{nums[0]}{nums[-1]}\")\n",
    "        numlist.append(num)\n",
    "sum(numlist)"
   ]
  },
  {
   "cell_type": "markdown",
   "metadata": {},
   "source": [
    "### Puzzle 2"
   ]
  },
  {
   "cell_type": "code",
   "execution_count": 51,
   "metadata": {},
   "outputs": [
    {
     "data": {
      "text/plain": [
       "281"
      ]
     },
     "execution_count": 51,
     "metadata": {},
     "output_type": "execute_result"
    }
   ],
   "source": [
    "numdict = {\n",
    "    \"1\": \"1\",\n",
    "    \"2\": \"2\",\n",
    "    \"3\": \"3\",\n",
    "    \"4\": \"4\",\n",
    "    \"5\": \"5\",\n",
    "    \"6\": \"6\",\n",
    "    \"7\": \"7\",\n",
    "    \"8\": \"8\",\n",
    "    \"9\": \"9\",\n",
    "    \"one\": \"1\",\n",
    "    \"two\": \"2\",\n",
    "    \"three\": \"3\",\n",
    "    \"four\": \"4\",\n",
    "    \"five\": \"5\",\n",
    "    \"six\": \"6\",\n",
    "    \"seven\": \"7\",\n",
    "    \"eight\": \"8\",\n",
    "    \"nine\": \"9\"\n",
    "}\n",
    "numlist = []\n",
    "with open(\"input_2023/1.txt\") as f:\n",
    "    lines = [line for line in f.read().strip().split(\"\\n\")]\n",
    "    numlist = []\n",
    "    for line in lines:\n",
    "        firstkey = sorted([(line.find(numtext), numtext) for numtext in numdict.keys() if line.find(numtext) >= 0])[0][1]\n",
    "        lastkey = sorted([(line.rfind(numtext), numtext) for numtext in numdict.keys() if line.find(numtext) >= 0])[-1][1]\n",
    "        num = int(f\"{numdict[firstkey]}{numdict[lastkey]}\")\n",
    "        numlist.append(num)\n",
    "sum(numlist)\n"
   ]
  }
 ],
 "metadata": {
  "kernelspec": {
   "display_name": "arcgispro-py3",
   "language": "python",
   "name": "python3"
  },
  "language_info": {
   "codemirror_mode": {
    "name": "ipython",
    "version": 3
   },
   "file_extension": ".py",
   "mimetype": "text/x-python",
   "name": "python",
   "nbconvert_exporter": "python",
   "pygments_lexer": "ipython3",
   "version": "3.9.18"
  }
 },
 "nbformat": 4,
 "nbformat_minor": 2
}

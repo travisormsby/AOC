{
 "cells": [
  {
   "cell_type": "markdown",
   "metadata": {},
   "source": [
    "# Day 1"
   ]
  },
  {
   "cell_type": "markdown",
   "metadata": {},
   "source": [
    "## puzzle 1"
   ]
  },
  {
   "cell_type": "code",
   "execution_count": 3,
   "metadata": {},
   "outputs": [
    {
     "data": {
      "text/plain": [
       "67027"
      ]
     },
     "execution_count": 3,
     "metadata": {},
     "output_type": "execute_result"
    }
   ],
   "source": [
    "with open(\"AOC_input_1.txt\") as f:\n",
    "    most_calories = 0\n",
    "    calories = 0\n",
    "    for line in f:\n",
    "        if not line.startswith(\"\\n\"):\n",
    "            calories += int(line.rstrip())\n",
    "        else:\n",
    "            if calories > most_calories:\n",
    "                most_calories = calories\n",
    "            calories = 0\n",
    "most_calories"
   ]
  },
  {
   "cell_type": "markdown",
   "metadata": {},
   "source": [
    "## puzzle 2"
   ]
  },
  {
   "cell_type": "code",
   "execution_count": 4,
   "metadata": {},
   "outputs": [
    {
     "data": {
      "text/plain": [
       "197291"
      ]
     },
     "execution_count": 4,
     "metadata": {},
     "output_type": "execute_result"
    }
   ],
   "source": [
    "with open(\"AOC_input_1.txt\") as f:\n",
    "    calories_list = []\n",
    "    calories = 0\n",
    "    for line in f:\n",
    "        if not line.startswith(\"\\n\"):\n",
    "            calories += int(line.rstrip())\n",
    "        else:\n",
    "            calories_list.append(calories)\n",
    "            calories = 0\n",
    "sum(sorted(calories_list, reverse=True)[:3])"
   ]
  },
  {
   "cell_type": "markdown",
   "metadata": {},
   "source": [
    "## refactor puzzles"
   ]
  },
  {
   "cell_type": "code",
   "execution_count": 5,
   "metadata": {},
   "outputs": [
    {
     "data": {
      "text/plain": [
       "197291"
      ]
     },
     "execution_count": 5,
     "metadata": {},
     "output_type": "execute_result"
    }
   ],
   "source": [
    "def calorie_counter(input_file, num_elves):\n",
    "    with open(input_file) as f:\n",
    "        calories_list = []\n",
    "        calories = 0\n",
    "        for line in f:\n",
    "            if not line.startswith(\"\\n\"):\n",
    "                calories += int(line)\n",
    "            else:\n",
    "                calories_list.append(calories)\n",
    "                calories = 0\n",
    "    return sum(sorted(calories_list, reverse=True)[:num_elves])\n",
    "    \n",
    "calorie_counter(\"AOC_input_1.txt\", 3)"
   ]
  }
 ],
 "metadata": {
  "kernelspec": {
   "display_name": "Python 3.9.11 ('arcgispro-py3': conda)",
   "language": "python",
   "name": "python3"
  },
  "language_info": {
   "codemirror_mode": {
    "name": "ipython",
    "version": 3
   },
   "file_extension": ".py",
   "mimetype": "text/x-python",
   "name": "python",
   "nbconvert_exporter": "python",
   "pygments_lexer": "ipython3",
   "version": "3.9.11"
  },
  "vscode": {
   "interpreter": {
    "hash": "ce21b655b4d6c9e397d5ad93d5666c623f49909f6d0cc2f72076dafcf1b3ecfb"
   }
  }
 },
 "nbformat": 4,
 "nbformat_minor": 2
}

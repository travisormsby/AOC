{
 "cells": [
  {
   "cell_type": "markdown",
   "metadata": {},
   "source": [
    "# Advent of Code 2022"
   ]
  },
  {
   "cell_type": "markdown",
   "metadata": {},
   "source": [
    "## [Day 7](https://adventofcode.com/2022/day/7)"
   ]
  },
  {
   "cell_type": "markdown",
   "metadata": {},
   "source": [
    "Task: \n",
    "\n",
    "* Parse a set of terminal commands and their output into a directory structure\n",
    "* Calculate the size of each directory\n",
    "\n",
    "Reflection\n",
    "\n",
    "I went back and forth between using a networkx graph and using a nested dictionary to model the directory structure. I initially ran into trouble with the graph because I was only tracking the directory name, and there are different directories with the same name (i.e. they have different parents). Tracking only the name of the directory meant that those multiple directories were treated a single node. The key was to use a directed graph to understand the parent/child relationship, and create unique node names that tracked the entire directory path."
   ]
  },
  {
   "cell_type": "code",
   "execution_count": 17,
   "metadata": {},
   "outputs": [],
   "source": [
    "import aoc\n",
    "aoc.read_input(\"cookie.txt\", \"input_2022\", 2022, 7)"
   ]
  },
  {
   "cell_type": "markdown",
   "metadata": {},
   "source": [
    "### puzzle 1"
   ]
  },
  {
   "cell_type": "code",
   "execution_count": 142,
   "metadata": {},
   "outputs": [
    {
     "data": {
      "text/plain": [
       "919137"
      ]
     },
     "execution_count": 142,
     "metadata": {},
     "output_type": "execute_result"
    }
   ],
   "source": [
    "import networkx as nx\n",
    "G = nx.DiGraph()\n",
    "dir_list = [(\"/\",)]\n",
    "dir_path = ()\n",
    "with open(\"input_2022/7.txt\") as f:\n",
    "    for line in f:\n",
    "        line = line.strip()\n",
    "        if line.startswith(\"$ cd\"):\n",
    "            if not line.endswith(\"..\"):\n",
    "                current_dir = line.split()[-1]\n",
    "                dir_path += (current_dir,)\n",
    "            else:\n",
    "                dir_path = dir_path[:-1]\n",
    "        elif line == \"$ ls\":\n",
    "            continue\n",
    "        elif line.startswith(\"dir\"):\n",
    "            G.add_edge(dir_path, dir_path + (line.split()[-1], ))\n",
    "            dir_list.append(dir_path + (line.split()[-1], ))\n",
    "        else:\n",
    "            G.add_edge(dir_path, line.split()[0])\n",
    "\n",
    "# if G is not a tree, something went wrong\n",
    "nx.is_tree(G)\n",
    "\n",
    "dir_sizes = []\n",
    "for dir in dir_list:\n",
    "    size = sum([int(d) for d in nx.descendants(G, dir) if d[-1].isnumeric()])\n",
    "    if size <= 100000:\n",
    "        dir_sizes.append(size)\n",
    "sum(dir_sizes)\n"
   ]
  },
  {
   "cell_type": "markdown",
   "metadata": {},
   "source": [
    "### puzzle 2"
   ]
  },
  {
   "cell_type": "code",
   "execution_count": 143,
   "metadata": {},
   "outputs": [
    {
     "data": {
      "text/plain": [
       "2877389"
      ]
     },
     "execution_count": 143,
     "metadata": {},
     "output_type": "execute_result"
    }
   ],
   "source": [
    "dir_sizes = []\n",
    "for dir in dir_list:\n",
    "    size = sum([int(d) for d in nx.descendants(G, dir) if d[-1].isnumeric()])\n",
    "    dir_sizes.append(size)\n",
    "total = max(dir_sizes)\n",
    "available = 70000000 - total\n",
    "needed = 30000000 - available\n",
    "possible_dirs = []\n",
    "for dir_size in dir_sizes:\n",
    "    if dir_size >= needed:\n",
    "        possible_dirs.append(dir_size)\n",
    "min(possible_dirs)"
   ]
  },
  {
   "cell_type": "markdown",
   "metadata": {},
   "source": [
    "## [Day 6](https://adventofcode.com/2022/day/6)"
   ]
  },
  {
   "cell_type": "markdown",
   "metadata": {},
   "source": [
    "Task:\n",
    "\n",
    "* Evaluate a substring created by a moving window through a string.\n",
    "\n",
    "Reflection\n",
    "\n",
    "At first I thought that it would be best to utilize some type of `window` function in a library. But then realized that creating my own window function was fairly easy, and faster than searching for a library with a built-in one.\n",
    "\n"
   ]
  },
  {
   "cell_type": "code",
   "execution_count": 2,
   "metadata": {},
   "outputs": [],
   "source": [
    "import aoc\n",
    "aoc.read_input(\"cookie.txt\", \"input_2022\", 2022, 6)"
   ]
  },
  {
   "cell_type": "markdown",
   "metadata": {},
   "source": [
    "### puzzle 1"
   ]
  },
  {
   "cell_type": "code",
   "execution_count": 12,
   "metadata": {},
   "outputs": [
    {
     "name": "stdout",
     "output_type": "stream",
     "text": [
      "1707\n"
     ]
    }
   ],
   "source": [
    "with open(\"input_2022/6.txt\") as f:\n",
    "    txt = f.read()\n",
    "    for i, char in enumerate(txt):\n",
    "        if len(set(txt[i:i+4])) == 4:\n",
    "            print(i +4)\n",
    "            break"
   ]
  },
  {
   "cell_type": "markdown",
   "metadata": {},
   "source": [
    "### puzzle 2"
   ]
  },
  {
   "cell_type": "code",
   "execution_count": 16,
   "metadata": {},
   "outputs": [
    {
     "name": "stdout",
     "output_type": "stream",
     "text": [
      "3697\n"
     ]
    }
   ],
   "source": [
    "with open(\"input_2022/6.txt\") as f:\n",
    "    txt = f.read()\n",
    "    for i, char in enumerate(txt):\n",
    "        if len(set(txt[i:i+14])) == 14:\n",
    "            print(i + 14)\n",
    "            break"
   ]
  },
  {
   "cell_type": "markdown",
   "metadata": {},
   "source": [
    "## [Day 5](https://adventofcode.com/2022/day/5)"
   ]
  },
  {
   "cell_type": "markdown",
   "metadata": {},
   "source": [
    "Task:\n",
    "\n",
    "* Move elements from one column to another. First one at a time, then in a group\n",
    "\n",
    "Reflection:\n",
    "\n",
    "As with other puzzles so far, the hard part has been getting the text input into a form that can be operated on. In this case, I transformed the columns into seperate lists, and the instructions into a dictionary. Once that was done, I could pop (or slice) the elements off the end of one list and append (or extend) some other list."
   ]
  },
  {
   "cell_type": "code",
   "execution_count": 15,
   "metadata": {},
   "outputs": [],
   "source": [
    "import aoc\n",
    "aoc.read_input(\"cookie.txt\", \"input_2022\", 2022, 5)"
   ]
  },
  {
   "cell_type": "markdown",
   "metadata": {},
   "source": [
    "### puzzle 1"
   ]
  },
  {
   "cell_type": "code",
   "execution_count": 113,
   "metadata": {},
   "outputs": [
    {
     "data": {
      "text/plain": [
       "'RLFNRTNFB'"
      ]
     },
     "execution_count": 113,
     "metadata": {},
     "output_type": "execute_result"
    }
   ],
   "source": [
    "import numpy as np\n",
    "instructions = []\n",
    "with open(\"input_2022/5.txt\") as f:\n",
    "    rowLists = []\n",
    "    for line in f:\n",
    "        if line.startswith(\" 1\") or line.startswith(\"\\n\"):\n",
    "            continue\n",
    "        elif line.startswith(\"move\"):\n",
    "            instructionText = line.strip().split()\n",
    "            instructionDict = {\n",
    "                \"num\":int(instructionText[1]),\n",
    "                \"from_column\": int(instructionText[3]) - 1,\n",
    "                \"to_column\": int(instructionText[5]) - 1\n",
    "            }\n",
    "            instructions.append(instructionDict)\n",
    "        else:\n",
    "            row = line.rstrip(\"\\n\")\n",
    "            rowSplits = [i for i in range(0,len(row), 4)]\n",
    "            rowList = [row[i:i+3] for i in rowSplits]\n",
    "            rowLists.append(rowList)\n",
    "rowArray  = np.array(rowLists)\n",
    "columns = []\n",
    "num_columns = rowArray.shape[1]\n",
    "for column in range(num_columns):\n",
    "    column_raw = rowArray[:,column]\n",
    "    column_trimmed = column_raw[column_raw != \"   \"].tolist()\n",
    "    column_trimmed.reverse()\n",
    "    columns.append(column_trimmed)\n",
    "\n",
    "for instruction in instructions:\n",
    "    for i in range(instruction['num']):\n",
    "        crate = columns[instruction['from_column']].pop()\n",
    "        columns[instruction['to_column']].append(crate)\n",
    "\"\".join([column[-1][1] for column in columns])"
   ]
  },
  {
   "cell_type": "markdown",
   "metadata": {},
   "source": [
    "### puzzle 2"
   ]
  },
  {
   "cell_type": "code",
   "execution_count": 119,
   "metadata": {},
   "outputs": [
    {
     "data": {
      "text/plain": [
       "'MHQTLJRLB'"
      ]
     },
     "execution_count": 119,
     "metadata": {},
     "output_type": "execute_result"
    }
   ],
   "source": [
    "import numpy as np\n",
    "instructions = []\n",
    "with open(\"input_2022/5.txt\") as f:\n",
    "    rowLists = []\n",
    "    for line in f:\n",
    "        if line.startswith(\" 1\") or line.startswith(\"\\n\"):\n",
    "            continue\n",
    "        elif line.startswith(\"move\"):\n",
    "            instructionText = line.strip().split()\n",
    "            instructionDict = {\n",
    "                \"num\":int(instructionText[1]),\n",
    "                \"from_column\": int(instructionText[3]) - 1,\n",
    "                \"to_column\": int(instructionText[5]) - 1\n",
    "            }\n",
    "            instructions.append(instructionDict)\n",
    "        else:\n",
    "            row = line.rstrip(\"\\n\")\n",
    "            rowSplits = [i for i in range(0,len(row), 4)]\n",
    "            rowList = [row[i:i+3] for i in rowSplits]\n",
    "            rowLists.append(rowList)\n",
    "rowArray  = np.array(rowLists)\n",
    "columns = []\n",
    "num_columns = rowArray.shape[1]\n",
    "for column in range(num_columns):\n",
    "    column_raw = rowArray[:,column]\n",
    "    column_trimmed = column_raw[column_raw != \"   \"].tolist()\n",
    "    column_trimmed.reverse()\n",
    "    columns.append(column_trimmed)\n",
    "\n",
    "for instruction in instructions:\n",
    "    crates = columns[instruction['from_column']][-1*instruction['num']:]\n",
    "    columns[instruction['from_column']] = columns[instruction['from_column']][:-1*instruction['num']]\n",
    "    columns[instruction['to_column']].extend(crates)\n",
    "\"\".join([column[-1][1] for column in columns])"
   ]
  },
  {
   "cell_type": "markdown",
   "metadata": {},
   "source": [
    "# [Day 4](https://adventofcode.com/2022/day/3)"
   ]
  },
  {
   "cell_type": "markdown",
   "metadata": {},
   "source": [
    "Task:\n",
    "\n",
    "* Find overlaps between two ranges of numbers\n",
    "\n",
    "Reflection:\n",
    "\n",
    "I basically never use regex. This is a good use case of a simple pattern that allowed the input to be split on a `,` or a `-`. Otherwise I would have had to split the input twice, making sure to avoid nested lists. Once again, set intersections proved very useful."
   ]
  },
  {
   "cell_type": "code",
   "execution_count": 1,
   "metadata": {},
   "outputs": [],
   "source": [
    "import aoc\n",
    "aoc.read_input(\"cookie.txt\", \"input_2022\", 2022, 4)"
   ]
  },
  {
   "cell_type": "markdown",
   "metadata": {},
   "source": [
    "### puzzle 1"
   ]
  },
  {
   "cell_type": "code",
   "execution_count": 13,
   "metadata": {},
   "outputs": [
    {
     "data": {
      "text/plain": [
       "477"
      ]
     },
     "execution_count": 13,
     "metadata": {},
     "output_type": "execute_result"
    }
   ],
   "source": [
    "import re\n",
    "total_overlapping = 0\n",
    "with open(\"input_2022/4.txt\") as f:\n",
    "    for line in f:\n",
    "        start1, stop1, start2, stop2 = [int(val) for val in re.split(',|-', line.strip())]\n",
    "        range1 = set(range(start1, stop1+1))\n",
    "        range2 = set(range(start2, stop2+1))\n",
    "        intersect = set.intersection(range1, range2)\n",
    "        if len(intersect) == len(range1) or len(intersect) == len(range2):\n",
    "            total_overlapping += 1\n",
    "total_overlapping\n"
   ]
  },
  {
   "cell_type": "markdown",
   "metadata": {},
   "source": [
    "### puzzle 2"
   ]
  },
  {
   "cell_type": "code",
   "execution_count": 14,
   "metadata": {},
   "outputs": [
    {
     "data": {
      "text/plain": [
       "830"
      ]
     },
     "execution_count": 14,
     "metadata": {},
     "output_type": "execute_result"
    }
   ],
   "source": [
    "import re\n",
    "total_overlapping = 0\n",
    "with open(\"input_2022/4.txt\") as f:\n",
    "    for line in f:\n",
    "        start1, stop1, start2, stop2 = [int(val) for val in re.split(',|-', line.strip())]\n",
    "        range1 = set(range(start1, stop1+1))\n",
    "        range2 = set(range(start2, stop2+1))\n",
    "        intersect = set.intersection(range1, range2)\n",
    "        if len(intersect) > 0:\n",
    "            total_overlapping += 1\n",
    "total_overlapping"
   ]
  },
  {
   "cell_type": "markdown",
   "metadata": {},
   "source": [
    "## [Day 3](https://adventofcode.com/2022/day/3)"
   ]
  },
  {
   "cell_type": "markdown",
   "metadata": {},
   "source": [
    "Task: \n",
    "\n",
    "* Find the single character that is shared between a collection of strings\n",
    "* Get a numeric value for the character according (index in a priority order)\n",
    "* Sum value across a set of string collections\n",
    "\n",
    "Reflection: \n",
    "\n",
    "Somthing new I learned is that the easiest way to find which elements are shared between two collections (including a string)  is to find the intersection of their sets. This won't help if you need to only find matches in the same position, or if you need to count the total number of shared elements (regardless of repeating shared elements)."
   ]
  },
  {
   "cell_type": "markdown",
   "metadata": {},
   "source": [
    "### puzzle 1"
   ]
  },
  {
   "cell_type": "code",
   "execution_count": 112,
   "metadata": {},
   "outputs": [
    {
     "data": {
      "text/plain": [
       "7821"
      ]
     },
     "execution_count": 112,
     "metadata": {},
     "output_type": "execute_result"
    }
   ],
   "source": [
    "import string\n",
    "priority_order = \"0\" + string.ascii_lowercase + string.ascii_uppercase\n",
    "priority_sum = 0\n",
    "with open(\"input/3.txt\") as f:\n",
    "    for line in f:\n",
    "        c1 = line[:len(line)//2]\n",
    "        c2 = line[len(line)//2:]\n",
    "        common = set(c1).intersection(c2).pop()\n",
    "        priority_sum += priority_order.index(common)\n",
    "priority_sum"
   ]
  },
  {
   "cell_type": "markdown",
   "metadata": {},
   "source": [
    "### puzzle 2"
   ]
  },
  {
   "cell_type": "code",
   "execution_count": 113,
   "metadata": {},
   "outputs": [
    {
     "data": {
      "text/plain": [
       "2752"
      ]
     },
     "execution_count": 113,
     "metadata": {},
     "output_type": "execute_result"
    }
   ],
   "source": [
    "import string\n",
    "priority_order = \"0\" + string.ascii_lowercase + string.ascii_uppercase\n",
    "priority_sum = 0\n",
    "with open(\"input/3.txt\") as f:\n",
    "    group = []\n",
    "    for i, line in enumerate(f):\n",
    "        group.append(line.rstrip())\n",
    "        if i % 3 == 2:\n",
    "            badge = set(group[0]).intersection(group[1]).intersection(group[2]).pop()\n",
    "            priority_sum += priority_order.index(badge)\n",
    "            group = []        \n",
    "priority_sum        "
   ]
  },
  {
   "cell_type": "markdown",
   "metadata": {},
   "source": [
    "### puzzle 1 refactor"
   ]
  },
  {
   "cell_type": "code",
   "execution_count": 114,
   "metadata": {},
   "outputs": [
    {
     "data": {
      "text/plain": [
       "7821"
      ]
     },
     "execution_count": 114,
     "metadata": {},
     "output_type": "execute_result"
    }
   ],
   "source": [
    "import string\n",
    "priority_order = \"0\" + string.ascii_lowercase + string.ascii_uppercase\n",
    "priority_sum = 0\n",
    "with open(\"input/3.txt\") as f:\n",
    "    for line in f:\n",
    "        c1 = set(line[:len(line)//2])\n",
    "        c2 = set(line[len(line)//2:])\n",
    "        common = set.intersection(c1, c2).pop()\n",
    "        priority_sum += priority_order.index(common)\n",
    "priority_sum"
   ]
  },
  {
   "cell_type": "markdown",
   "metadata": {},
   "source": [
    "### puzzle 2 refactor"
   ]
  },
  {
   "cell_type": "code",
   "execution_count": 115,
   "metadata": {},
   "outputs": [
    {
     "data": {
      "text/plain": [
       "2752"
      ]
     },
     "execution_count": 115,
     "metadata": {},
     "output_type": "execute_result"
    }
   ],
   "source": [
    "import string\n",
    "priority_order = \"0\" + string.ascii_lowercase + string.ascii_uppercase\n",
    "priority_sum = 0\n",
    "with open(\"input/3.txt\") as f:\n",
    "    group = []\n",
    "    for i, line in enumerate(f):\n",
    "        unique_items = set(line.rstrip())\n",
    "        group.append(unique_items)\n",
    "        if i % 3 == 2:\n",
    "            badge = set.intersection(*group).pop()\n",
    "            priority_sum += priority_order.index(badge)\n",
    "            group = []        \n",
    "priority_sum  "
   ]
  },
  {
   "cell_type": "markdown",
   "metadata": {},
   "source": [
    "## [Day 2](https://adventofcode.com/2022/day/2)"
   ]
  },
  {
   "cell_type": "markdown",
   "metadata": {},
   "source": [
    "Task:\n",
    "\n",
    "* Determine the winner of a series of Rock Paper Scissors matches. \n",
    "\n",
    "Reflection:\n",
    "\n",
    "Lots of people tried to solve this with modulo division, to capture the non-transitive nature of RPS. That's a very clever solution, that I tried to implement after I had a working solution of my own. But the more I looked at their solutions, the less I liked them compared to the simplicity of my original."
   ]
  },
  {
   "cell_type": "markdown",
   "metadata": {},
   "source": [
    "### puzzle 1"
   ]
  },
  {
   "cell_type": "code",
   "execution_count": 39,
   "metadata": {},
   "outputs": [
    {
     "data": {
      "text/plain": [
       "11386"
      ]
     },
     "execution_count": 39,
     "metadata": {},
     "output_type": "execute_result"
    }
   ],
   "source": [
    "scores = {\n",
    "    \"A X\": 4,\n",
    "    \"A Y\": 8,\n",
    "    \"A Z\": 3,\n",
    "    \"B X\": 1,\n",
    "    \"B Y\": 5,\n",
    "    \"B Z\": 9,\n",
    "    \"C X\": 7,\n",
    "    \"C Y\": 2,\n",
    "    \"C Z\": 6,\n",
    "}\n",
    "score  = 0\n",
    "with open(\"AOC_input_2.txt\") as f:\n",
    "    for line in f:\n",
    "        score += scores[line.rstrip()]\n",
    "score"
   ]
  },
  {
   "cell_type": "markdown",
   "metadata": {},
   "source": [
    "### puzzle 2"
   ]
  },
  {
   "cell_type": "code",
   "execution_count": 40,
   "metadata": {},
   "outputs": [
    {
     "data": {
      "text/plain": [
       "13600"
      ]
     },
     "execution_count": 40,
     "metadata": {},
     "output_type": "execute_result"
    }
   ],
   "source": [
    "scores = {\n",
    "    \"A X\": 3,\n",
    "    \"A Y\": 4,\n",
    "    \"A Z\": 8,\n",
    "    \"B X\": 1,\n",
    "    \"B Y\": 5,\n",
    "    \"B Z\": 9,\n",
    "    \"C X\": 2,\n",
    "    \"C Y\": 6,\n",
    "    \"C Z\": 7,\n",
    "}\n",
    "score  = 0\n",
    "with open(\"AOC_input_2.txt\") as f:\n",
    "    for line in f:\n",
    "        score += scores[line.rstrip()]\n",
    "score"
   ]
  },
  {
   "cell_type": "markdown",
   "metadata": {},
   "source": [
    "## [Day 1](https://adventofcode.com/2022/day/1)"
   ]
  },
  {
   "cell_type": "markdown",
   "metadata": {},
   "source": [
    "Task:\n",
    "\n",
    "* Group data values from a text file and sum them\n",
    "* Compare summed values to find the largest\n",
    "\n",
    "Reflection:\n",
    "\n",
    "* The unreadable (but working) one-liner at the end is a good illustration of why flat is better than nested. \n",
    "* The running total strategy I used for the first puzzle is more memory-efficient and has better time complexity because it doesn't have to store the entire set of values, and it doesn't have to sort them. But it is much harder to scale to the situation in puzzle 2 that asks not for the largest, but for the top 3 largest.\n"
   ]
  },
  {
   "cell_type": "markdown",
   "metadata": {},
   "source": [
    "### puzzle 1"
   ]
  },
  {
   "cell_type": "code",
   "execution_count": 2,
   "metadata": {},
   "outputs": [
    {
     "data": {
      "text/plain": [
       "67027"
      ]
     },
     "execution_count": 2,
     "metadata": {},
     "output_type": "execute_result"
    }
   ],
   "source": [
    "with open(\"AOC_input_1.txt\") as f:\n",
    "    most_calories = 0\n",
    "    calories = 0\n",
    "    for line in f:\n",
    "        if not line.startswith(\"\\n\"):\n",
    "            calories += int(line.rstrip())\n",
    "        else:\n",
    "            if calories > most_calories:\n",
    "                most_calories = calories\n",
    "            calories = 0\n",
    "most_calories"
   ]
  },
  {
   "cell_type": "markdown",
   "metadata": {},
   "source": [
    "### puzzle 2"
   ]
  },
  {
   "cell_type": "code",
   "execution_count": 3,
   "metadata": {},
   "outputs": [
    {
     "data": {
      "text/plain": [
       "197291"
      ]
     },
     "execution_count": 3,
     "metadata": {},
     "output_type": "execute_result"
    }
   ],
   "source": [
    "with open(\"AOC_input_1.txt\") as f:\n",
    "    calories_list = []\n",
    "    calories = 0\n",
    "    for line in f:\n",
    "        if not line.startswith(\"\\n\"):\n",
    "            calories += int(line.rstrip())\n",
    "        else:\n",
    "            calories_list.append(calories)\n",
    "            calories = 0\n",
    "sum(sorted(calories_list, reverse=True)[:3])"
   ]
  },
  {
   "cell_type": "markdown",
   "metadata": {},
   "source": [
    "### refactor puzzles"
   ]
  },
  {
   "cell_type": "code",
   "execution_count": 20,
   "metadata": {},
   "outputs": [
    {
     "data": {
      "text/plain": [
       "197291"
      ]
     },
     "execution_count": 20,
     "metadata": {},
     "output_type": "execute_result"
    }
   ],
   "source": [
    "def calorie_counter(input_file, num_elves):\n",
    "    with open(input_file) as f:\n",
    "        elves = f.read().split(\"\\n\\n\")\n",
    "        calories_list = []\n",
    "        for elf in elves:\n",
    "            calories = sum([int(calories) for calories in elf.split(\"\\n\") if calories])\n",
    "            calories_list.append(calories)\n",
    "    return sum(sorted(calories_list, reverse=True)[:num_elves])\n",
    "    \n",
    "calorie_counter(\"AOC_input_1.txt\", 3)"
   ]
  },
  {
   "cell_type": "code",
   "execution_count": 33,
   "metadata": {},
   "outputs": [
    {
     "data": {
      "text/plain": [
       "197291"
      ]
     },
     "execution_count": 33,
     "metadata": {},
     "output_type": "execute_result"
    }
   ],
   "source": [
    "with open(\"AOC_input_1.txt\") as f:\n",
    "    elves = f.read().split(\"\\n\\n\")\n",
    "    calories_list = []\n",
    "    for elf in elves:\n",
    "        food_item_calories = [int(calories) for calories in elf.split(\"\\n\") if calories]\n",
    "        elf_total_calories = sum(food_item_calories)\n",
    "        calories_list.append(elf_total_calories)\n",
    "sorted_elves = sorted(calories_list, reverse=True)\n",
    "sum(sorted_elves[:3])"
   ]
  },
  {
   "cell_type": "code",
   "execution_count": 35,
   "metadata": {},
   "outputs": [
    {
     "data": {
      "text/plain": [
       "67027"
      ]
     },
     "execution_count": 35,
     "metadata": {},
     "output_type": "execute_result"
    }
   ],
   "source": [
    "sum(sorted([sum([int(c) for c in e.split(\"\\n\") if c]) for e in open(\"f.txt\").read().split(\"\\n\\n\")], reverse=True)[:1])"
   ]
  }
 ],
 "metadata": {
  "kernelspec": {
   "display_name": "Python 3.10.7 ('AOC': venv)",
   "language": "python",
   "name": "python3"
  },
  "language_info": {
   "codemirror_mode": {
    "name": "ipython",
    "version": 3
   },
   "file_extension": ".py",
   "mimetype": "text/x-python",
   "name": "python",
   "nbconvert_exporter": "python",
   "pygments_lexer": "ipython3",
   "version": "3.10.7"
  },
  "vscode": {
   "interpreter": {
    "hash": "3c460c4c147635d4f9968a736480bcf525b4a4e5883b39bfbe3e12c1d0e5b9ea"
   }
  }
 },
 "nbformat": 4,
 "nbformat_minor": 2
}

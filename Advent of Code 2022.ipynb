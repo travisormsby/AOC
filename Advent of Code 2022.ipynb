{
 "cells": [
  {
   "cell_type": "markdown",
   "metadata": {},
   "source": [
    "# Day 1"
   ]
  },
  {
   "cell_type": "markdown",
   "metadata": {},
   "source": [
    "## puzzle 1"
   ]
  },
  {
   "cell_type": "code",
   "execution_count": 2,
   "metadata": {},
   "outputs": [
    {
     "data": {
      "text/plain": [
       "67027"
      ]
     },
     "execution_count": 2,
     "metadata": {},
     "output_type": "execute_result"
    }
   ],
   "source": [
    "with open(\"AOC_input_1.txt\") as f:\n",
    "    most_calories = 0\n",
    "    calories = 0\n",
    "    for line in f:\n",
    "        if not line.startswith(\"\\n\"):\n",
    "            calories += int(line.rstrip())\n",
    "        else:\n",
    "            if calories > most_calories:\n",
    "                most_calories = calories\n",
    "            calories = 0\n",
    "most_calories"
   ]
  },
  {
   "cell_type": "markdown",
   "metadata": {},
   "source": [
    "## puzzle 2"
   ]
  },
  {
   "cell_type": "code",
   "execution_count": 3,
   "metadata": {},
   "outputs": [
    {
     "data": {
      "text/plain": [
       "197291"
      ]
     },
     "execution_count": 3,
     "metadata": {},
     "output_type": "execute_result"
    }
   ],
   "source": [
    "with open(\"AOC_input_1.txt\") as f:\n",
    "    calories_list = []\n",
    "    calories = 0\n",
    "    for line in f:\n",
    "        if not line.startswith(\"\\n\"):\n",
    "            calories += int(line.rstrip())\n",
    "        else:\n",
    "            calories_list.append(calories)\n",
    "            calories = 0\n",
    "sum(sorted(calories_list, reverse=True)[:3])"
   ]
  },
  {
   "cell_type": "markdown",
   "metadata": {},
   "source": [
    "## refactor puzzles"
   ]
  },
  {
   "cell_type": "code",
   "execution_count": 20,
   "metadata": {},
   "outputs": [
    {
     "data": {
      "text/plain": [
       "197291"
      ]
     },
     "execution_count": 20,
     "metadata": {},
     "output_type": "execute_result"
    }
   ],
   "source": [
    "def calorie_counter(input_file, num_elves):\n",
    "    with open(input_file) as f:\n",
    "        elves = f.read().split(\"\\n\\n\")\n",
    "        calories_list = []\n",
    "        for elf in elves:\n",
    "            calories = sum([int(calories) for calories in elf.split(\"\\n\") if calories])\n",
    "            calories_list.append(calories)\n",
    "    return sum(sorted(calories_list, reverse=True)[:num_elves])\n",
    "    \n",
    "calorie_counter(\"AOC_input_1.txt\", 3)"
   ]
  }
 ],
 "metadata": {
  "kernelspec": {
   "display_name": "Python 3.10.7 ('AOC': venv)",
   "language": "python",
   "name": "python3"
  },
  "language_info": {
   "codemirror_mode": {
    "name": "ipython",
    "version": 3
   },
   "file_extension": ".py",
   "mimetype": "text/x-python",
   "name": "python",
   "nbconvert_exporter": "python",
   "pygments_lexer": "ipython3",
   "version": "3.10.7"
  },
  "vscode": {
   "interpreter": {
    "hash": "3c460c4c147635d4f9968a736480bcf525b4a4e5883b39bfbe3e12c1d0e5b9ea"
   }
  }
 },
 "nbformat": 4,
 "nbformat_minor": 2
}
